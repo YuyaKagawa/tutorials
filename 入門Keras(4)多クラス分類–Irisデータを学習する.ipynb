{
 "cells": [
  {
   "cell_type": "markdown",
   "metadata": {},
   "source": [
    "2018年01月09日 (火) 著者 ： nobuh  \n",
    "https://www.infiniteloop.co.jp/blog/2018/01/learning-keras-04/"
   ]
  },
  {
   "cell_type": "code",
   "execution_count": 9,
   "metadata": {
    "ExecuteTime": {
     "end_time": "2019-07-29T14:25:48.494385Z",
     "start_time": "2019-07-29T14:25:48.478030Z"
    }
   },
   "outputs": [
    {
     "name": "stdout",
     "output_type": "stream",
     "text": [
      "dict_keys(['data', 'target', 'target_names', 'DESCR', 'feature_names', 'filename'])\n"
     ]
    }
   ],
   "source": [
    "from sklearn import datasets\n",
    "\n",
    "iris=datasets.load_iris()\n",
    "print(iris.keys())"
   ]
  },
  {
   "cell_type": "code",
   "execution_count": 11,
   "metadata": {
    "ExecuteTime": {
     "end_time": "2019-07-29T14:26:20.862184Z",
     "start_time": "2019-07-29T14:26:20.850588Z"
    },
    "scrolled": true
   },
   "outputs": [
    {
     "name": "stdout",
     "output_type": "stream",
     "text": [
      "(150, 4)\n",
      "(150,)\n",
      "['setosa' 'versicolor' 'virginica']\n",
      "['sepal length (cm)', 'sepal width (cm)', 'petal length (cm)', 'petal width (cm)']\n"
     ]
    }
   ],
   "source": [
    "print(iris[\"data\"].shape)\n",
    "print(iris[\"target\"].shape)\n",
    "print(iris[\"target_names\"])\n",
    "print(iris[\"feature_names\"])"
   ]
  },
  {
   "cell_type": "code",
   "execution_count": 12,
   "metadata": {
    "ExecuteTime": {
     "end_time": "2019-07-29T14:26:54.039389Z",
     "start_time": "2019-07-29T14:26:54.032573Z"
    }
   },
   "outputs": [],
   "source": [
    "X=iris.data\n",
    "T=iris.target"
   ]
  },
  {
   "cell_type": "code",
   "execution_count": 19,
   "metadata": {
    "ExecuteTime": {
     "end_time": "2019-07-29T14:54:58.158781Z",
     "start_time": "2019-07-29T14:54:58.152466Z"
    }
   },
   "outputs": [
    {
     "data": {
      "text/plain": [
       "array([5.1, 3.5, 1.4, 0.2])"
      ]
     },
     "execution_count": 19,
     "metadata": {},
     "output_type": "execute_result"
    }
   ],
   "source": [
    "X[0]"
   ]
  },
  {
   "cell_type": "code",
   "execution_count": 21,
   "metadata": {
    "ExecuteTime": {
     "end_time": "2019-07-29T14:55:10.602342Z",
     "start_time": "2019-07-29T14:55:10.595962Z"
    }
   },
   "outputs": [
    {
     "data": {
      "text/plain": [
       "0"
      ]
     },
     "execution_count": 21,
     "metadata": {},
     "output_type": "execute_result"
    }
   ],
   "source": [
    "T[0]"
   ]
  },
  {
   "cell_type": "markdown",
   "metadata": {},
   "source": [
    "one-hotに変換します。"
   ]
  },
  {
   "cell_type": "code",
   "execution_count": 22,
   "metadata": {
    "ExecuteTime": {
     "end_time": "2019-07-29T14:55:57.676617Z",
     "start_time": "2019-07-29T14:55:57.668502Z"
    }
   },
   "outputs": [],
   "source": [
    "from keras.utils import np_utils\n",
    "\n",
    "T=np_utils.to_categorical(T)"
   ]
  },
  {
   "cell_type": "code",
   "execution_count": 23,
   "metadata": {
    "ExecuteTime": {
     "end_time": "2019-07-29T14:56:03.174557Z",
     "start_time": "2019-07-29T14:56:03.163675Z"
    }
   },
   "outputs": [
    {
     "data": {
      "text/plain": [
       "array([1., 0., 0.], dtype=float32)"
      ]
     },
     "execution_count": 23,
     "metadata": {},
     "output_type": "execute_result"
    }
   ],
   "source": [
    "T[0]"
   ]
  },
  {
   "cell_type": "code",
   "execution_count": 24,
   "metadata": {
    "ExecuteTime": {
     "end_time": "2019-07-29T14:57:06.273387Z",
     "start_time": "2019-07-29T14:57:06.265673Z"
    }
   },
   "outputs": [],
   "source": [
    "from sklearn.model_selection import train_test_split\n",
    "import numpy as np\n",
    "\n",
    "np.random.seed(0) # 乱数初期化を固定値に"
   ]
  },
  {
   "cell_type": "code",
   "execution_count": 28,
   "metadata": {
    "ExecuteTime": {
     "end_time": "2019-07-29T15:06:55.839470Z",
     "start_time": "2019-07-29T15:06:55.827591Z"
    }
   },
   "outputs": [
    {
     "name": "stdout",
     "output_type": "stream",
     "text": [
      "120 30 120 30\n"
     ]
    }
   ],
   "source": [
    "train_x,test_x,train_t,test_t=train_test_split(X,T,test_size=0.2)\n",
    "print(len(train_x),len(test_x),len(train_t),len(test_t))"
   ]
  },
  {
   "cell_type": "markdown",
   "metadata": {},
   "source": [
    "# 単純なパーセプトロン"
   ]
  },
  {
   "cell_type": "code",
   "execution_count": 29,
   "metadata": {
    "ExecuteTime": {
     "end_time": "2019-07-29T15:07:44.432226Z",
     "start_time": "2019-07-29T15:07:41.592549Z"
    }
   },
   "outputs": [
    {
     "name": "stdout",
     "output_type": "stream",
     "text": [
      "WARNING:tensorflow:From /home/kagawa/program_files/anaconda3/envs/MAIN/lib/python3.7/site-packages/tensorflow/python/framework/op_def_library.py:263: colocate_with (from tensorflow.python.framework.ops) is deprecated and will be removed in a future version.\n",
      "Instructions for updating:\n",
      "Colocations handled automatically by placer.\n",
      "WARNING:tensorflow:From /home/kagawa/program_files/anaconda3/envs/MAIN/lib/python3.7/site-packages/tensorflow/python/ops/math_ops.py:3066: to_int32 (from tensorflow.python.ops.math_ops) is deprecated and will be removed in a future version.\n",
      "Instructions for updating:\n",
      "Use tf.cast instead.\n",
      "Epoch 1/50\n",
      "120/120 [==============================] - 1s 5ms/step - loss: 1.4624\n",
      "Epoch 2/50\n",
      "120/120 [==============================] - 0s 233us/step - loss: 0.9812\n",
      "Epoch 3/50\n",
      "120/120 [==============================] - 0s 331us/step - loss: 0.8303\n",
      "Epoch 4/50\n",
      "120/120 [==============================] - 0s 647us/step - loss: 0.7189\n",
      "Epoch 5/50\n",
      "120/120 [==============================] - 0s 305us/step - loss: 0.6484\n",
      "Epoch 6/50\n",
      "120/120 [==============================] - 0s 320us/step - loss: 0.4588\n",
      "Epoch 7/50\n",
      "120/120 [==============================] - 0s 282us/step - loss: 0.8078\n",
      "Epoch 8/50\n",
      "120/120 [==============================] - 0s 289us/step - loss: 0.4871\n",
      "Epoch 9/50\n",
      "120/120 [==============================] - 0s 340us/step - loss: 0.8521\n",
      "Epoch 10/50\n",
      "120/120 [==============================] - 0s 257us/step - loss: 0.4397\n",
      "Epoch 11/50\n",
      "120/120 [==============================] - 0s 241us/step - loss: 0.4095\n",
      "Epoch 12/50\n",
      "120/120 [==============================] - 0s 261us/step - loss: 0.7789\n",
      "Epoch 13/50\n",
      "120/120 [==============================] - 0s 211us/step - loss: 0.3368\n",
      "Epoch 14/50\n",
      "120/120 [==============================] - 0s 254us/step - loss: 0.3340\n",
      "Epoch 15/50\n",
      "120/120 [==============================] - 0s 322us/step - loss: 0.4181\n",
      "Epoch 16/50\n",
      "120/120 [==============================] - 0s 350us/step - loss: 0.3452\n",
      "Epoch 17/50\n",
      "120/120 [==============================] - 0s 372us/step - loss: 0.3268\n",
      "Epoch 18/50\n",
      "120/120 [==============================] - 0s 314us/step - loss: 0.2820\n",
      "Epoch 19/50\n",
      "120/120 [==============================] - 0s 439us/step - loss: 0.3123\n",
      "Epoch 20/50\n",
      "120/120 [==============================] - 0s 426us/step - loss: 0.3066\n",
      "Epoch 21/50\n",
      "120/120 [==============================] - 0s 260us/step - loss: 0.2744\n",
      "Epoch 22/50\n",
      "120/120 [==============================] - 0s 263us/step - loss: 0.2489\n",
      "Epoch 23/50\n",
      "120/120 [==============================] - 0s 301us/step - loss: 0.4372\n",
      "Epoch 24/50\n",
      "120/120 [==============================] - 0s 296us/step - loss: 0.3062\n",
      "Epoch 25/50\n",
      "120/120 [==============================] - 0s 257us/step - loss: 0.4070\n",
      "Epoch 26/50\n",
      "120/120 [==============================] - 0s 249us/step - loss: 0.2551\n",
      "Epoch 27/50\n",
      "120/120 [==============================] - 0s 248us/step - loss: 0.2754\n",
      "Epoch 28/50\n",
      "120/120 [==============================] - 0s 241us/step - loss: 0.2579\n",
      "Epoch 29/50\n",
      "120/120 [==============================] - 0s 223us/step - loss: 0.2567\n",
      "Epoch 30/50\n",
      "120/120 [==============================] - 0s 289us/step - loss: 0.2792\n",
      "Epoch 31/50\n",
      "120/120 [==============================] - 0s 265us/step - loss: 0.2523\n",
      "Epoch 32/50\n",
      "120/120 [==============================] - 0s 251us/step - loss: 0.2094\n",
      "Epoch 33/50\n",
      "120/120 [==============================] - 0s 258us/step - loss: 0.2581\n",
      "Epoch 34/50\n",
      "120/120 [==============================] - 0s 264us/step - loss: 0.2041\n",
      "Epoch 35/50\n",
      "120/120 [==============================] - 0s 253us/step - loss: 0.1788\n",
      "Epoch 36/50\n",
      "120/120 [==============================] - 0s 259us/step - loss: 0.1829\n",
      "Epoch 37/50\n",
      "120/120 [==============================] - 0s 211us/step - loss: 0.4459\n",
      "Epoch 38/50\n",
      "120/120 [==============================] - 0s 312us/step - loss: 0.1892\n",
      "Epoch 39/50\n",
      "120/120 [==============================] - 0s 389us/step - loss: 0.2565\n",
      "Epoch 40/50\n",
      "120/120 [==============================] - 0s 299us/step - loss: 0.2264\n",
      "Epoch 41/50\n",
      "120/120 [==============================] - 0s 319us/step - loss: 0.1900\n",
      "Epoch 42/50\n",
      "120/120 [==============================] - 0s 467us/step - loss: 0.1619\n",
      "Epoch 43/50\n",
      "120/120 [==============================] - 0s 331us/step - loss: 0.2256\n",
      "Epoch 44/50\n",
      "120/120 [==============================] - 0s 274us/step - loss: 0.1690\n",
      "Epoch 45/50\n",
      "120/120 [==============================] - 0s 266us/step - loss: 0.1710\n",
      "Epoch 46/50\n",
      "120/120 [==============================] - 0s 252us/step - loss: 0.1643\n",
      "Epoch 47/50\n",
      "120/120 [==============================] - 0s 268us/step - loss: 0.2029\n",
      "Epoch 48/50\n",
      "120/120 [==============================] - 0s 264us/step - loss: 0.2089\n",
      "Epoch 49/50\n",
      "120/120 [==============================] - 0s 264us/step - loss: 0.1743\n",
      "Epoch 50/50\n",
      "120/120 [==============================] - 0s 292us/step - loss: 0.2026\n"
     ]
    },
    {
     "data": {
      "text/plain": [
       "<keras.callbacks.History at 0x7fe73af10240>"
      ]
     },
     "execution_count": 29,
     "metadata": {},
     "output_type": "execute_result"
    }
   ],
   "source": [
    "from keras.models import Sequential\n",
    "from keras.layers import Dense,Activation\n",
    "from keras.optimizers import SGD\n",
    "\n",
    "model=Sequential()\n",
    "model.add(Dense(input_dim=4,units=3)) # 入力が4種の特徴、3つに分類\n",
    "model.add(Activation(\"softmax\"))\n",
    "model.compile(loss=\"categorical_crossentropy\",optimizer=SGD(lr=0.1))\n",
    "model.fit(train_x,train_t,epochs=50,batch_size=10) # エポック数50、ミニバッチ10"
   ]
  },
  {
   "cell_type": "code",
   "execution_count": 30,
   "metadata": {
    "ExecuteTime": {
     "end_time": "2019-07-29T15:09:13.878932Z",
     "start_time": "2019-07-29T15:09:13.829291Z"
    }
   },
   "outputs": [],
   "source": [
    "Y=model.predict_classes(test_x,batch_size=10) # ミニバッチは訓練時と同じ10"
   ]
  },
  {
   "cell_type": "code",
   "execution_count": 31,
   "metadata": {
    "ExecuteTime": {
     "end_time": "2019-07-29T15:09:21.249591Z",
     "start_time": "2019-07-29T15:09:21.239077Z"
    }
   },
   "outputs": [
    {
     "data": {
      "text/plain": [
       "array([1, 2, 1, 2, 2, 2, 2, 0, 0, 1, 2, 2, 1, 1, 2, 1, 1, 1, 0, 1, 0, 0,\n",
       "       0, 1, 0, 0, 1, 0, 1, 0])"
      ]
     },
     "execution_count": 31,
     "metadata": {},
     "output_type": "execute_result"
    }
   ],
   "source": [
    "Y"
   ]
  },
  {
   "cell_type": "code",
   "execution_count": 32,
   "metadata": {
    "ExecuteTime": {
     "end_time": "2019-07-29T15:10:18.395090Z",
     "start_time": "2019-07-29T15:10:18.385088Z"
    }
   },
   "outputs": [
    {
     "name": "stdout",
     "output_type": "stream",
     "text": [
      "[1 2 1 2 2 2 2 0 0 1 2 2 1 1 2 1 1 1 0 2 0 0 0 1 0 0 1 0 1 0]\n"
     ]
    }
   ],
   "source": [
    "import numpy as np\n",
    "\n",
    "_,T_index=np.where(test_t>0)\n",
    "print(T_index)"
   ]
  },
  {
   "cell_type": "code",
   "execution_count": 34,
   "metadata": {
    "ExecuteTime": {
     "end_time": "2019-07-29T15:10:52.121249Z",
     "start_time": "2019-07-29T15:10:52.109972Z"
    }
   },
   "outputs": [
    {
     "data": {
      "text/plain": [
       "array([ True,  True,  True,  True,  True,  True,  True,  True,  True,\n",
       "        True,  True,  True,  True,  True,  True,  True,  True,  True,\n",
       "        True, False,  True,  True,  True,  True,  True,  True,  True,\n",
       "        True,  True,  True])"
      ]
     },
     "execution_count": 34,
     "metadata": {},
     "output_type": "execute_result"
    }
   ],
   "source": [
    "Y==T_index"
   ]
  },
  {
   "cell_type": "code",
   "execution_count": null,
   "metadata": {},
   "outputs": [],
   "source": []
  }
 ],
 "metadata": {
  "kernelspec": {
   "display_name": "Python 3",
   "language": "python",
   "name": "python3"
  },
  "language_info": {
   "codemirror_mode": {
    "name": "ipython",
    "version": 3
   },
   "file_extension": ".py",
   "mimetype": "text/x-python",
   "name": "python",
   "nbconvert_exporter": "python",
   "pygments_lexer": "ipython3",
   "version": "3.7.3"
  },
  "toc": {
   "base_numbering": 1,
   "nav_menu": {},
   "number_sections": false,
   "sideBar": true,
   "skip_h1_title": false,
   "title_cell": "Table of Contents",
   "title_sidebar": "Contents",
   "toc_cell": false,
   "toc_position": {
    "height": "calc(100% - 180px)",
    "left": "10px",
    "top": "150px",
    "width": "164.988px"
   },
   "toc_section_display": true,
   "toc_window_display": true
  }
 },
 "nbformat": 4,
 "nbformat_minor": 2
}
