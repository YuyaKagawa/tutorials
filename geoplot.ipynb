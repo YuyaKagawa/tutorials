{
 "cells": [
  {
   "cell_type": "markdown",
   "metadata": {},
   "source": [
    "geoplotのチュートリアルを動かしてみます。  \n",
    "参考: https://nbviewer.jupyter.org/github/ResidentMario/geoplot/blob/master/notebooks/tutorials/Quickstart.ipynb  \n",
    "\n",
    "本ノートブックで利用するgeopandasやgeoplotはanaconda (conda install) で入れた方が良いと思います。  \n",
    "geoplotはpipでも頑張れば入れられるらしいですが、私には無理でした。  \n",
    "一方quiltはpipのみ対応しています。"
   ]
  },
  {
   "cell_type": "markdown",
   "metadata": {},
   "source": [
    "# 準備"
   ]
  },
  {
   "cell_type": "code",
   "execution_count": null,
   "metadata": {},
   "outputs": [],
   "source": [
    "# 本ノートブックで利用するライブラリをインストールするには、このセルのコマンドを実行します\n",
    "# ! conda install geopandas\n",
    "# ! conda install geoplot\n",
    "# ! pip install quilt"
   ]
  },
  {
   "cell_type": "code",
   "execution_count": 10,
   "metadata": {
    "ExecuteTime": {
     "end_time": "2019-04-21T12:17:24.627744Z",
     "start_time": "2019-04-21T12:17:24.619674Z"
    }
   },
   "outputs": [],
   "source": [
    "import geopandas as gpd\n",
    "import geoplot as gplt\n",
    "\n",
    "# plt.show()を自動的にしてくれる\n",
    "%matplotlib inline "
   ]
  },
  {
   "cell_type": "markdown",
   "metadata": {},
   "source": [
    "ここではGeoDataFrame形式に格納されたのデータを扱います。この形式は基本的にはpandasのDataFrameと一緒です。  \n",
    "違いはshapely.geometry型のデータを持つことを明記しているかどうかくらいです。  \n",
    "この型は空間中の点やポリゴンの情報などを表現しています。"
   ]
  },
  {
   "cell_type": "markdown",
   "metadata": {},
   "source": [
    "データセットを用意します。  \n",
    "ここで、チュートリアルではいきなり   \n",
    "<code>from quilt.data.ResidentMario import geoplot_data</code>  \n",
    "としていますが、これでは通りません。  \n",
    "下のセルのように実行します。  \n",
    "参考: https://github.com/ResidentMario/geoplot/issues/41#issuecomment-341594813"
   ]
  },
  {
   "cell_type": "code",
   "execution_count": null,
   "metadata": {
    "ExecuteTime": {
     "end_time": "2019-04-21T12:24:09.534544Z",
     "start_time": "2019-04-21T12:24:09.029141Z"
    }
   },
   "outputs": [],
   "source": [
    "import quilt\n",
    "quilt.install(\"ResidentMario/geoplot_data\")\n",
    "from quilt.data.ResidentMario import geoplot_data"
   ]
  },
  {
   "cell_type": "markdown",
   "metadata": {},
   "source": [
    "# a"
   ]
  },
  {
   "cell_type": "markdown",
   "metadata": {},
   "source": [
    "アメリカの人口10万以上の都市の情報を得ます。"
   ]
  },
  {
   "cell_type": "code",
   "execution_count": 22,
   "metadata": {
    "ExecuteTime": {
     "end_time": "2019-04-21T12:27:30.119184Z",
     "start_time": "2019-04-21T12:27:29.981944Z"
    }
   },
   "outputs": [
    {
     "name": "stdout",
     "output_type": "stream",
     "text": [
      "continental_cities.shape =  (284, 5)\n"
     ]
    },
    {
     "data": {
      "text/html": [
       "<div>\n",
       "<style scoped>\n",
       "    .dataframe tbody tr th:only-of-type {\n",
       "        vertical-align: middle;\n",
       "    }\n",
       "\n",
       "    .dataframe tbody tr th {\n",
       "        vertical-align: top;\n",
       "    }\n",
       "\n",
       "    .dataframe thead th {\n",
       "        text-align: right;\n",
       "    }\n",
       "</style>\n",
       "<table border=\"1\" class=\"dataframe\">\n",
       "  <thead>\n",
       "    <tr style=\"text-align: right;\">\n",
       "      <th></th>\n",
       "      <th>id</th>\n",
       "      <th>POP_2010</th>\n",
       "      <th>ELEV_IN_FT</th>\n",
       "      <th>STATE</th>\n",
       "      <th>geometry</th>\n",
       "    </tr>\n",
       "  </thead>\n",
       "  <tbody>\n",
       "    <tr>\n",
       "      <th>3</th>\n",
       "      <td>177</td>\n",
       "      <td>105549.0</td>\n",
       "      <td>902.0</td>\n",
       "      <td>ND</td>\n",
       "      <td>POINT (-96.78980339999998 46.87718630000012)</td>\n",
       "    </tr>\n",
       "    <tr>\n",
       "      <th>30</th>\n",
       "      <td>373</td>\n",
       "      <td>210565.0</td>\n",
       "      <td>505.0</td>\n",
       "      <td>NY</td>\n",
       "      <td>POINT (-77.61555679999998 43.15478450000012)</td>\n",
       "    </tr>\n",
       "    <tr>\n",
       "      <th>34</th>\n",
       "      <td>378</td>\n",
       "      <td>145170.0</td>\n",
       "      <td>397.0</td>\n",
       "      <td>NY</td>\n",
       "      <td>POINT (-76.14742439999998 43.04812210000017)</td>\n",
       "    </tr>\n",
       "    <tr>\n",
       "      <th>39</th>\n",
       "      <td>386</td>\n",
       "      <td>261310.0</td>\n",
       "      <td>600.0</td>\n",
       "      <td>NY</td>\n",
       "      <td>POINT (-78.87836889999994 42.8864468000001)</td>\n",
       "    </tr>\n",
       "    <tr>\n",
       "      <th>61</th>\n",
       "      <td>426</td>\n",
       "      <td>106519.0</td>\n",
       "      <td>118.0</td>\n",
       "      <td>MA</td>\n",
       "      <td>POINT (-71.31617179999989 42.63342470000003)</td>\n",
       "    </tr>\n",
       "  </tbody>\n",
       "</table>\n",
       "</div>"
      ],
      "text/plain": [
       "     id  POP_2010  ELEV_IN_FT STATE  \\\n",
       "3   177  105549.0       902.0    ND   \n",
       "30  373  210565.0       505.0    NY   \n",
       "34  378  145170.0       397.0    NY   \n",
       "39  386  261310.0       600.0    NY   \n",
       "61  426  106519.0       118.0    MA   \n",
       "\n",
       "                                        geometry  \n",
       "3   POINT (-96.78980339999998 46.87718630000012)  \n",
       "30  POINT (-77.61555679999998 43.15478450000012)  \n",
       "34  POINT (-76.14742439999998 43.04812210000017)  \n",
       "39   POINT (-78.87836889999994 42.8864468000001)  \n",
       "61  POINT (-71.31617179999989 42.63342470000003)  "
      ]
     },
     "execution_count": 22,
     "metadata": {},
     "output_type": "execute_result"
    }
   ],
   "source": [
    "continental_cities=gpd.read_file(geoplot_data.usa_cities()).query(\"POP_2010 > 100000\")\n",
    "print(\"continental_cities.shape = \", continental_cities.shape)\n",
    "continental_cities.head()"
   ]
  },
  {
   "cell_type": "markdown",
   "metadata": {},
   "source": [
    "州の情報を得ます。"
   ]
  },
  {
   "cell_type": "code",
   "execution_count": 23,
   "metadata": {
    "ExecuteTime": {
     "end_time": "2019-04-21T12:29:59.414930Z",
     "start_time": "2019-04-21T12:29:59.389096Z"
    }
   },
   "outputs": [
    {
     "name": "stdout",
     "output_type": "stream",
     "text": [
      "contiguous_cities.shape =  (49, 4)\n"
     ]
    },
    {
     "data": {
      "text/html": [
       "<div>\n",
       "<style scoped>\n",
       "    .dataframe tbody tr th:only-of-type {\n",
       "        vertical-align: middle;\n",
       "    }\n",
       "\n",
       "    .dataframe tbody tr th {\n",
       "        vertical-align: top;\n",
       "    }\n",
       "\n",
       "    .dataframe thead th {\n",
       "        text-align: right;\n",
       "    }\n",
       "</style>\n",
       "<table border=\"1\" class=\"dataframe\">\n",
       "  <thead>\n",
       "    <tr style=\"text-align: right;\">\n",
       "      <th></th>\n",
       "      <th>id</th>\n",
       "      <th>adm1_code</th>\n",
       "      <th>State</th>\n",
       "      <th>geometry</th>\n",
       "    </tr>\n",
       "  </thead>\n",
       "  <tbody>\n",
       "    <tr>\n",
       "      <th>0</th>\n",
       "      <td>0</td>\n",
       "      <td>USA-3514</td>\n",
       "      <td>Minnesota</td>\n",
       "      <td>POLYGON ((-89.59940899999999 48.010274, -89.48...</td>\n",
       "    </tr>\n",
       "    <tr>\n",
       "      <th>1</th>\n",
       "      <td>1</td>\n",
       "      <td>USA-3515</td>\n",
       "      <td>Montana</td>\n",
       "      <td>POLYGON ((-111.194189 44.561156, -111.291548 4...</td>\n",
       "    </tr>\n",
       "    <tr>\n",
       "      <th>2</th>\n",
       "      <td>2</td>\n",
       "      <td>USA-3516</td>\n",
       "      <td>North Dakota</td>\n",
       "      <td>POLYGON ((-96.601359 46.351357, -96.5389080000...</td>\n",
       "    </tr>\n",
       "    <tr>\n",
       "      <th>3</th>\n",
       "      <td>4</td>\n",
       "      <td>USA-3518</td>\n",
       "      <td>Idaho</td>\n",
       "      <td>POLYGON ((-111.049728 44.488163, -111.050245 4...</td>\n",
       "    </tr>\n",
       "    <tr>\n",
       "      <th>4</th>\n",
       "      <td>5</td>\n",
       "      <td>USA-3519</td>\n",
       "      <td>Washington</td>\n",
       "      <td>POLYGON ((-116.998073 46.33017, -116.906528 46...</td>\n",
       "    </tr>\n",
       "  </tbody>\n",
       "</table>\n",
       "</div>"
      ],
      "text/plain": [
       "  id adm1_code         State  \\\n",
       "0  0  USA-3514     Minnesota   \n",
       "1  1  USA-3515       Montana   \n",
       "2  2  USA-3516  North Dakota   \n",
       "3  4  USA-3518         Idaho   \n",
       "4  5  USA-3519    Washington   \n",
       "\n",
       "                                            geometry  \n",
       "0  POLYGON ((-89.59940899999999 48.010274, -89.48...  \n",
       "1  POLYGON ((-111.194189 44.561156, -111.291548 4...  \n",
       "2  POLYGON ((-96.601359 46.351357, -96.5389080000...  \n",
       "3  POLYGON ((-111.049728 44.488163, -111.050245 4...  \n",
       "4  POLYGON ((-116.998073 46.33017, -116.906528 46...  "
      ]
     },
     "execution_count": 23,
     "metadata": {},
     "output_type": "execute_result"
    }
   ],
   "source": [
    "contiguous_cities=gpd.read_file(geoplot_data.contiguous_usa())\n",
    "print(\"contiguous_cities.shape = \", contiguous_cities.shape)\n",
    "contiguous_cities.head()"
   ]
  },
  {
   "cell_type": "markdown",
   "metadata": {},
   "source": [
    "ここでgeopandasやgeoplotでは座標の値は（経度、緯度）の順で持っていますので、プロットの位置がおかしいと感じたらまずそこを確認しましょう。  "
   ]
  },
  {
   "cell_type": "code",
   "execution_count": null,
   "metadata": {},
   "outputs": [],
   "source": []
  }
 ],
 "metadata": {
  "kernelspec": {
   "display_name": "Python 3",
   "language": "python",
   "name": "python3"
  },
  "language_info": {
   "codemirror_mode": {
    "name": "ipython",
    "version": 3
   },
   "file_extension": ".py",
   "mimetype": "text/x-python",
   "name": "python",
   "nbconvert_exporter": "python",
   "pygments_lexer": "ipython3",
   "version": "3.7.3"
  },
  "toc": {
   "base_numbering": 1,
   "nav_menu": {},
   "number_sections": true,
   "sideBar": true,
   "skip_h1_title": false,
   "title_cell": "Table of Contents",
   "title_sidebar": "Contents",
   "toc_cell": false,
   "toc_position": {},
   "toc_section_display": true,
   "toc_window_display": false
  }
 },
 "nbformat": 4,
 "nbformat_minor": 2
}
