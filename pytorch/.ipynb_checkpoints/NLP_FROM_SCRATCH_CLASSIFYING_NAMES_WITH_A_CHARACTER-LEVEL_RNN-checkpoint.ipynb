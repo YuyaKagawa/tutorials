{
 "cells": [
  {
   "cell_type": "markdown",
   "metadata": {},
   "source": [
    "参考: https://pytorch.org/tutorials/intermediate/char_rnn_classification_tutorial.html"
   ]
  },
  {
   "cell_type": "markdown",
   "metadata": {},
   "source": [
    "まずデータをダウンロードしてきます。"
   ]
  },
  {
   "cell_type": "code",
   "execution_count": 9,
   "metadata": {
    "ExecuteTime": {
     "end_time": "2020-05-03T10:05:26.001698Z",
     "start_time": "2020-05-03T10:05:25.449649Z"
    }
   },
   "outputs": [
    {
     "name": "stdout",
     "output_type": "stream",
     "text": [
      "--2020-05-03 19:05:25--  https://download.pytorch.org/tutorial/data.zip\n",
      "download.pytorch.org (download.pytorch.org) をDNSに問いあわせています... 2600:9000:208e:3800:d:607e:4540:93a1, 2600:9000:208e:c00:d:607e:4540:93a1, 2600:9000:208e:f400:d:607e:4540:93a1, ...\n",
      "download.pytorch.org (download.pytorch.org)|2600:9000:208e:3800:d:607e:4540:93a1|:443 に接続しています... 接続しました。\n",
      "HTTP による接続要求を送信しました、応答を待っています... 200 OK\n",
      "長さ: 2882130 (2.7M) [application/zip]\n",
      "`./../data/data.zip' に保存中\n",
      "\n",
      "data.zip            100%[===================>]   2.75M  14.6MB/s 時間 0.2s       \n",
      "\n",
      "2020-05-03 19:05:25 (14.6 MB/s) - `./../data/data.zip' へ保存完了 [2882130/2882130]\n",
      "\n"
     ]
    }
   ],
   "source": [
    "! wget https://download.pytorch.org/tutorial/data.zip -P ./../data/\n",
    "! unzip ./../data/data.zip -d ./../data/"
   ]
  },
  {
   "cell_type": "markdown",
   "metadata": {},
   "source": [
    "データはlanguage/のディレクトリ に入れました。\\[言語\\].txtの形式で入れています。  \n",
    "各ファイルには名前がいっぱい入っていて、1行につき1つで、ローマ字で入っています。  \n",
    "UnicodeからASCIIに変換する必要があります。  \n",
    "{言語: 名前}の辞書を作ります。"
   ]
  },
  {
   "cell_type": "code",
   "execution_count": 11,
   "metadata": {
    "ExecuteTime": {
     "end_time": "2020-05-03T10:07:38.438680Z",
     "start_time": "2020-05-03T10:07:38.434849Z"
    }
   },
   "outputs": [],
   "source": [
    "from io import open\n",
    "import glob\n",
    "import os"
   ]
  },
  {
   "cell_type": "markdown",
   "metadata": {},
   "source": [
    "# ファイル・文字列操作"
   ]
  },
  {
   "cell_type": "code",
   "execution_count": 12,
   "metadata": {
    "ExecuteTime": {
     "end_time": "2020-05-03T10:24:30.060754Z",
     "start_time": "2020-05-03T10:24:29.929237Z"
    }
   },
   "outputs": [
    {
     "name": "stdout",
     "output_type": "stream",
     "text": [
      "['./../data/language/names/Czech.txt', './../data/language/names/German.txt', './../data/language/names/Arabic.txt', './../data/language/names/Japanese.txt', './../data/language/names/Chinese.txt', './../data/language/names/Vietnamese.txt', './../data/language/names/Russian.txt', './../data/language/names/French.txt', './../data/language/names/Irish.txt', './../data/language/names/English.txt', './../data/language/names/Spanish.txt', './../data/language/names/Greek.txt', './../data/language/names/Italian.txt', './../data/language/names/Portuguese.txt', './../data/language/names/Scottish.txt', './../data/language/names/Dutch.txt', './../data/language/names/Korean.txt', './../data/language/names/Polish.txt']\n",
      "Slusarski\n"
     ]
    }
   ],
   "source": [
    "def findFiles(path): # ファイルを探す関数\n",
    "    return glob.glob(path)\n",
    "\n",
    "print(findFiles(\"./../data/language/names/*.txt\"))\n",
    "\n",
    "import unicodedata\n",
    "import string\n",
    "\n",
    "all_letters=string.ascii_letters+\" .,;'\" # 全ての文字\n",
    "n_letters=len(all_letters) # 全ての文字の数\n",
    "\n",
    "# Unicodeの文字をASCIIに変更する\n",
    "# 参考: https://stackoverflow.com/a/518232/2809427\n",
    "def unicodeToAscii(s):\n",
    "    return ''.join(c  for c in unicodedata.normalize(\"NFD\",s) if unicodedata.category(c)!=\"Mn\" and c in all_letters)\n",
    "\n",
    "print(unicodeToAscii('Ślusàrski'))\n",
    "\n",
    "### 辞書を作る\n",
    "category_lines={} # 言語→行のリスト\n",
    "all_categories=[] # 言語のリスト\n",
    "\n",
    "# ファイルを読み込んで行に分割する関数\n",
    "def readLines(filename):\n",
    "    lines=open(filename,encoding=\"utf-8\").read().strip().split(\"\\n\")\n",
    "    \n",
    "    return [unicodeToAscii(line) for line in lines]\n",
    "\n",
    "for filename in findFiles(\"./../data/language/names/*.txt\"): # 各ファイルについて処理\n",
    "    category=os.path.splitext(os.path.basename(filename))[0]\n",
    "    all_categories.append(category)\n",
    "    lines=readLines(filename)\n",
    "    category_lines[category]=lines\n",
    "    \n",
    "n_categories=len(all_categories) # カテゴリの数"
   ]
  },
  {
   "cell_type": "code",
   "execution_count": 17,
   "metadata": {
    "ExecuteTime": {
     "end_time": "2020-05-03T10:29:52.006058Z",
     "start_time": "2020-05-03T10:29:51.996156Z"
    }
   },
   "outputs": [
    {
     "name": "stdout",
     "output_type": "stream",
     "text": [
      "['Czech', 'German', 'Arabic', 'Japanese', 'Chinese', 'Vietnamese', 'Russian', 'French', 'Irish', 'English', 'Spanish', 'Greek', 'Italian', 'Portuguese', 'Scottish', 'Dutch', 'Korean', 'Polish']\n",
      "18\n",
      "['Abe', 'Abukara', 'Adachi', 'Aida', 'Aihara', 'Aizawa', 'Ajibana', 'Akaike', 'Akamatsu', 'Akatsuka']\n"
     ]
    }
   ],
   "source": [
    "print(all_categories)\n",
    "print(n_categories)\n",
    "print(category_lines[\"Japanese\"][:10])"
   ]
  },
  {
   "cell_type": "markdown",
   "metadata": {},
   "source": [
    "# テンソルへの変換"
   ]
  },
  {
   "cell_type": "markdown",
   "metadata": {},
   "source": [
    "それでは名前の辞書やリストをテンソルに変換していきましょう。  \n",
    "1文字を(1\\*n_letters)のone-hotに変換しましょう。  \n",
    "これらを2次元の行列、(line_length\\*1\\*n_letters)の形式に変換します。  \n",
    "ここで1とはバッチサイズです。"
   ]
  },
  {
   "cell_type": "code",
   "execution_count": 18,
   "metadata": {
    "ExecuteTime": {
     "end_time": "2020-05-03T11:11:25.984882Z",
     "start_time": "2020-05-03T11:11:24.122873Z"
    }
   },
   "outputs": [
    {
     "name": "stdout",
     "output_type": "stream",
     "text": [
      "tensor([[0., 0., 0., 0., 0., 0., 0., 0., 0., 0., 0., 0., 0., 0., 0., 0., 0., 0.,\n",
      "         0., 0., 0., 0., 0., 0., 0., 0., 0., 0., 0., 0., 0., 0., 0., 0., 0., 1.,\n",
      "         0., 0., 0., 0., 0., 0., 0., 0., 0., 0., 0., 0., 0., 0., 0., 0., 0., 0.,\n",
      "         0., 0., 0.]])\n",
      "torch.Size([5, 1, 57])\n"
     ]
    }
   ],
   "source": [
    "import torch\n",
    "\n",
    "# 文字をインデックスに変換する関数\n",
    "def letterToIndex(letter):\n",
    "    return all_letters.find(letter)\n",
    "\n",
    "# デモンストレーションのために、文字を(1\\*n_letters)のテンソルに変換する関数\n",
    "def letterToTensor(letter):\n",
    "    tensor=torch.zeros(1,n_letters)\n",
    "    tensor[0][letterToIndex(letter)]=1\n",
    "    \n",
    "    return tensor\n",
    "\n",
    "# 各行を(line_length*1*n_letters)のone-hotに変換する関数\n",
    "def lineToTensor(line):\n",
    "    tensor=torch.zeros(len(line),1,n_letters)\n",
    "    \n",
    "    for li,letter in enumerate(line): # 各行について\n",
    "        tensor[li][0][letterToIndex(letter)]=1 # one-hot作成\n",
    "        \n",
    "    return tensor\n",
    "\n",
    "print(letterToTensor(\"J\"))\n",
    "print(lineToTensor(\"Jones\").size())"
   ]
  },
  {
   "cell_type": "markdown",
   "metadata": {},
   "source": [
    "# ネットワークを構築"
   ]
  },
  {
   "cell_type": "markdown",
   "metadata": {},
   "source": [
    "torchのRNNを使えます。各レイヤにはhidden stateがあります。  \n",
    "このモジュールは2層の線形のレイヤです。入力と隠れ層と、そして出力にLogSoftmaxの層があります。"
   ]
  },
  {
   "cell_type": "markdown",
   "metadata": {},
   "source": [
    "<img src=\"./rnn.png\" width=350>"
   ]
  },
  {
   "cell_type": "code",
   "execution_count": 19,
   "metadata": {
    "ExecuteTime": {
     "end_time": "2020-05-03T11:28:32.961611Z",
     "start_time": "2020-05-03T11:28:32.949200Z"
    }
   },
   "outputs": [],
   "source": [
    "import torch.nn as nn\n",
    "\n",
    "class RNN(nn.Module): # RNN\n",
    "    def __init__(self,input_size,hidden_size,output_size):\n",
    "        super(RNN,self).__init__()\n",
    "        \n",
    "        self.hidden_size=hidden_size\n",
    "        self.i2h=nn.Linear(input_size+hidden_size,hidden_size)\n",
    "        self.i2o=nn.Linear(input_size+hidden_size,output_size)\n",
    "        self.softmax=nn.LogSoftmax(dim=1) # ソフトマックス\n",
    "        \n",
    "    def forward(self,input,hidden):\n",
    "        combined=torch.cat((input,hidden),1)\n",
    "        hidden=self.i2h(combined)\n",
    "        output=self.i2o(combined)\n",
    "        output=self.softmax(output)\n",
    "        \n",
    "        return output,hidden\n",
    "    \n",
    "    def initHidden(self): # 隠れ層を初期化\n",
    "        return torch.zeros(1,self.hidden_size)\n",
    "    \n",
    "n_hidden=128 # 隠れ層の数\n",
    "rnn=RNN(n_letters,n_hidden,n_categories) # RNN"
   ]
  },
  {
   "cell_type": "markdown",
   "metadata": {},
   "source": [
    "このネットワークを動かすためには、入力（この場合は今の文字）と前の隠れ層の状態（最初はゼロで初期化）を入れる必要があります。  \n",
    "隠れ層の状態と出力を返り値として得られます。"
   ]
  },
  {
   "cell_type": "code",
   "execution_count": 20,
   "metadata": {
    "ExecuteTime": {
     "end_time": "2020-05-03T11:31:33.609449Z",
     "start_time": "2020-05-03T11:31:33.596155Z"
    }
   },
   "outputs": [],
   "source": [
    "input=letterToTensor(\"A\")\n",
    "hidden=torch.zeros(1,n_hidden)\n",
    "output,next_hidden=rnn(input,hidden)"
   ]
  },
  {
   "cell_type": "markdown",
   "metadata": {},
   "source": [
    "各ステップで新しいテンソルを作りたいわけではないので、letterToTensorの代わりにlineToTensorを使います。  "
   ]
  },
  {
   "cell_type": "code",
   "execution_count": 21,
   "metadata": {
    "ExecuteTime": {
     "end_time": "2020-05-03T11:40:04.744140Z",
     "start_time": "2020-05-03T11:40:04.733296Z"
    }
   },
   "outputs": [
    {
     "name": "stdout",
     "output_type": "stream",
     "text": [
      "tensor([[-2.9133, -2.8415, -2.7973, -2.8617, -2.8789, -3.0155, -2.9848, -2.8975,\n",
      "         -2.9330, -2.8743, -2.8874, -2.8596, -2.9301, -2.8034, -2.8265, -2.8848,\n",
      "         -2.9443, -2.9212]], grad_fn=<LogSoftmaxBackward>)\n"
     ]
    }
   ],
   "source": [
    "input=lineToTensor(\"Albert\")\n",
    "hidden=torch.zeros(1,n_hidden)\n",
    "\n",
    "output,next_hidden=rnn(input[0],hidden)\n",
    "print(output)"
   ]
  },
  {
   "cell_type": "markdown",
   "metadata": {},
   "source": [
    "出力は(1\\*n_categories)のテンソルです。各要素は該当するカテゴリの尤度です。"
   ]
  },
  {
   "cell_type": "markdown",
   "metadata": {},
   "source": [
    "# 学習"
   ]
  },
  {
   "cell_type": "markdown",
   "metadata": {},
   "source": [
    "## 学習の準備"
   ]
  },
  {
   "cell_type": "markdown",
   "metadata": {},
   "source": [
    "学習に本格的に入る前に何個か関数を作っておきます。  \n",
    "最初のは、ネットワークの出力を解釈するものです。Tensor.topk()で最も値が大きいもののインデックスを取得することができます。"
   ]
  },
  {
   "cell_type": "code",
   "execution_count": 22,
   "metadata": {
    "ExecuteTime": {
     "end_time": "2020-05-03T12:35:53.848512Z",
     "start_time": "2020-05-03T12:35:53.819939Z"
    }
   },
   "outputs": [
    {
     "name": "stdout",
     "output_type": "stream",
     "text": [
      "('Arabic', 2)\n"
     ]
    }
   ],
   "source": [
    "def categoryFromOutput(output): # カテゴリを取得する関数\n",
    "    top_n,top_i=output.topk(1) # 1番上のものを取得\n",
    "    category_i=top_i[0].item()\n",
    "    \n",
    "    return all_categories[category_i],category_i\n",
    "\n",
    "print(categoryFromOutput(output))"
   ]
  },
  {
   "cell_type": "markdown",
   "metadata": {},
   "source": [
    "訓練用のサンプルを取得する関数も用意します。  \n",
    "ここでサンプルには、名前とその言語が含まれます。"
   ]
  },
  {
   "cell_type": "code",
   "execution_count": 24,
   "metadata": {
    "ExecuteTime": {
     "end_time": "2020-05-03T12:39:53.775881Z",
     "start_time": "2020-05-03T12:39:53.765306Z"
    }
   },
   "outputs": [
    {
     "name": "stdout",
     "output_type": "stream",
     "text": [
      "category =  French  / line =  Travers\n",
      "category =  French  / line =  Faucher\n",
      "category =  Arabic  / line =  Gerges\n",
      "category =  Dutch  / line =  Schoorel\n",
      "category =  French  / line =  Pelletier\n",
      "category =  French  / line =  Renaud\n",
      "category =  Irish  / line =  Reagan\n",
      "category =  Polish  / line =  Szweda\n",
      "category =  Arabic  / line =  Hadad\n",
      "category =  Chinese  / line =  Hsiao\n"
     ]
    }
   ],
   "source": [
    "import random\n",
    "\n",
    "def randomChoice(l):\n",
    "    return l[random.randint(0,len(l)-1)]\n",
    "\n",
    "def randomTrainingExample():\n",
    "    category=randomChoice(all_categories) # カテゴリ\n",
    "    line=randomChoice(category_lines[category])\n",
    "    category_tensor=torch.tensor([all_categories.index(category)],dtype=torch.long)\n",
    "    line_tensor=lineToTensor(line)\n",
    "    \n",
    "    return category,line,category_tensor,line_tensor\n",
    "\n",
    "for i in range(10):\n",
    "    category,line,category_tensor,line_tensor=randomTrainingExample()\n",
    "    print(\"category = \",category,\" / line = \",line)"
   ]
  },
  {
   "cell_type": "markdown",
   "metadata": {},
   "source": [
    "## ネットワークの学習"
   ]
  },
  {
   "cell_type": "markdown",
   "metadata": {},
   "source": [
    "ロス関数としてはnn.NLLLoss()を使います。RNNの最後の層がnn.LogSoftmax()なので。"
   ]
  },
  {
   "cell_type": "code",
   "execution_count": 25,
   "metadata": {
    "ExecuteTime": {
     "end_time": "2020-05-03T12:42:05.444177Z",
     "start_time": "2020-05-03T12:42:05.436264Z"
    }
   },
   "outputs": [],
   "source": [
    "criterion=nn.NLLLoss()"
   ]
  },
  {
   "cell_type": "markdown",
   "metadata": {},
   "source": [
    "学習の各ループでは、 以下の操作を行います。\n",
    "<ul>\n",
    "    <li>入力とターゲットのテンソルを作る</li>\n",
    "    <li>0で初期化したhidden stateを作る</li>\n",
    "    <li>各文字を読み込み、次の文字のためにhidden stateを保持</li>\n",
    "    <li>最終的な出力とターゲットを比較する</li>\n",
    "    <li>逆伝搬させる</li>\n",
    "    <li>出力と誤差を取得する</li>\n",
    "</ul>"
   ]
  },
  {
   "cell_type": "code",
   "execution_count": 26,
   "metadata": {
    "ExecuteTime": {
     "end_time": "2020-05-03T12:48:36.859366Z",
     "start_time": "2020-05-03T12:48:36.854297Z"
    }
   },
   "outputs": [],
   "source": [
    "learning_rate=0.005 # 学習率\n",
    "\n",
    "def train(category_tensor,line_tensor):\n",
    "    hidden=rnn.initHidden()\n",
    "    rnn.zero_grad() # 勾配を初期化する\n",
    "    \n",
    "    for i in range(line_tensor.size()[0]): # 各タイムステップについて\n",
    "        output,hidden=rnn(line_tensor[i],hidden)\n",
    "        \n",
    "    loss=criterion(output,category_tensor)\n",
    "    loss.backward() # 逆伝搬\n",
    "    \n",
    "    # パラメータの更新を手動で実装\n",
    "    for p in rnn.parameters():\n",
    "        p.data.add_(-learning_rate,p.grad.data)\n",
    "        \n",
    "    return output,loss.item()"
   ]
  },
  {
   "cell_type": "markdown",
   "metadata": {},
   "source": [
    "それではこれを大きいサンプルで動かしてみます。  \n",
    "train()で出力とロスを返すようにしているので、プロットがやりやすいです。  \n",
    "サンプルは何千個もあるので、print_everyで指定した間隔で表示し、ロスの平均をとります。"
   ]
  },
  {
   "cell_type": "code",
   "execution_count": 28,
   "metadata": {
    "ExecuteTime": {
     "end_time": "2020-05-03T13:00:50.167375Z",
     "start_time": "2020-05-03T12:58:05.694904Z"
    },
    "scrolled": true
   },
   "outputs": [
    {
     "name": "stdout",
     "output_type": "stream",
     "text": [
      "500 0% (0m 0s) 2.2247 Delgado / Italian ✗ (Portuguese)\n",
      "1000 1% (0m 1s) 2.9599 Weisener / German ✗ (Czech)\n",
      "1500 1% (0m 2s) 3.2308 Cennetig / Dutch ✗ (Irish)\n",
      "2000 2% (0m 3s) 1.9403 Victors / Greek ✗ (French)\n",
      "2500 2% (0m 3s) 1.6102 Alphen / Dutch ✓\n",
      "3000 3% (0m 4s) 1.9537 Lim  / Chinese ✗ (Korean)\n",
      "3500 3% (0m 5s) 2.3875 Bonner / German ✗ (French)\n",
      "4000 4% (0m 6s) 1.0933 Masanobu / Japanese ✓\n",
      "4500 4% (0m 6s) 2.5989 Houttum / French ✗ (Dutch)\n",
      "5000 5% (0m 7s) 1.6075 O'Ryan / Irish ✓\n",
      "5500 5% (0m 8s) 2.1134 Devlin / Scottish ✗ (English)\n",
      "6000 6% (0m 9s) 2.9729 Bustos / Greek ✗ (Spanish)\n",
      "6500 6% (0m 10s) 1.5317 Soucek / Polish ✗ (Czech)\n",
      "7000 7% (0m 11s) 3.0253 Albuquerque / French ✗ (Portuguese)\n",
      "7500 7% (0m 11s) 1.5204 Zhen / Korean ✗ (Chinese)\n",
      "8000 8% (0m 12s) 1.9401 Mclaughlin / Irish ✗ (Scottish)\n",
      "8500 8% (0m 13s) 1.5079 Huie / Korean ✗ (Chinese)\n",
      "9000 9% (0m 14s) 1.0243 Belesis / Greek ✓\n",
      "9500 9% (0m 14s) 1.7670 Zhitarev / Russian ✓\n",
      "10000 10% (0m 15s) 3.0724 Gallacher / French ✗ (English)\n",
      "10500 10% (0m 16s) 2.1182 Romao / Spanish ✗ (Portuguese)\n",
      "11000 11% (0m 17s) 0.0157 Theofilopoulos / Greek ✓\n",
      "11500 11% (0m 17s) 1.4831 Mclaughlin / Russian ✗ (Scottish)\n",
      "12000 12% (0m 18s) 1.8691 Larue / Arabic ✗ (French)\n",
      "12500 12% (0m 19s) 0.7542 Nicolosi / Italian ✓\n",
      "13000 13% (0m 20s) 1.4397 Sneijders / Dutch ✓\n",
      "13500 13% (0m 21s) 2.1375 Maurice / French ✗ (Irish)\n",
      "14000 14% (0m 21s) 2.2720 Page / French ✓\n",
      "14500 14% (0m 22s) 0.4156 Choe / Korean ✓\n",
      "15000 15% (0m 23s) 0.7824 Kassis / Arabic ✓\n",
      "15500 15% (0m 24s) 0.7292 Shammas / Arabic ✓\n",
      "16000 16% (0m 25s) 0.7726 Romeijnsen / Dutch ✓\n",
      "16500 16% (0m 26s) 3.1078 Scott / German ✗ (Scottish)\n",
      "17000 17% (0m 26s) 4.6067 Ippitsusai / Italian ✗ (Japanese)\n",
      "17500 17% (0m 27s) 2.3614 Schmitz / Spanish ✗ (German)\n",
      "18000 18% (0m 28s) 2.2093 Jordan / English ✗ (Polish)\n",
      "18500 18% (0m 29s) 1.0118 Rooijakker / Dutch ✓\n",
      "19000 19% (0m 30s) 1.6239 Gorman / Irish ✓\n",
      "19500 19% (0m 31s) 1.3518 Sienkiewicz / Polish ✓\n",
      "20000 20% (0m 31s) 3.3411 Papageorge / Spanish ✗ (Greek)\n",
      "20500 20% (0m 32s) 1.8702 Salazar / Arabic ✗ (Portuguese)\n",
      "21000 21% (0m 33s) 3.0907 Cham / Vietnamese ✗ (Arabic)\n",
      "21500 21% (0m 34s) 0.0403 Zouvelekis / Greek ✓\n",
      "22000 22% (0m 35s) 0.6840 Rosenberger / German ✓\n",
      "22500 22% (0m 35s) 2.3237 Chevrolet / Dutch ✗ (German)\n",
      "23000 23% (0m 36s) 1.1953 Luc / Chinese ✗ (Vietnamese)\n",
      "23500 23% (0m 37s) 0.3397 Trinh / Vietnamese ✓\n",
      "24000 24% (0m 38s) 0.2829 Kalakos / Greek ✓\n",
      "24500 24% (0m 38s) 1.2213 Hartley / English ✓\n",
      "25000 25% (0m 39s) 2.4827 Mayer / Arabic ✗ (German)\n",
      "25500 25% (0m 40s) 1.2803 Sarraf / Arabic ✓\n",
      "26000 26% (0m 40s) 0.3851 Khouri / Arabic ✓\n",
      "26500 26% (0m 41s) 1.7233 Rushton / Scottish ✗ (English)\n",
      "27000 27% (0m 42s) 1.5441 Macghabhann / Irish ✓\n",
      "27500 27% (0m 43s) 0.7427 Bieber / German ✓\n",
      "28000 28% (0m 44s) 2.0754 Oesterreicher / German ✗ (Czech)\n",
      "28500 28% (0m 45s) 0.9575 Cuocco / Italian ✓\n",
      "29000 28% (0m 46s) 2.2858 Greene / German ✗ (English)\n",
      "29500 29% (0m 47s) 3.1032 Bakihanoff / Japanese ✗ (Russian)\n",
      "30000 30% (0m 48s) 0.2655 Paschalis / Greek ✓\n",
      "30500 30% (0m 49s) 1.4648 Natsume / French ✗ (Japanese)\n",
      "31000 31% (0m 49s) 0.8401 Chun / Korean ✓\n",
      "31500 31% (0m 50s) 3.1615 Soho / Korean ✗ (Japanese)\n",
      "32000 32% (0m 51s) 1.7804 Charpentier / German ✗ (French)\n",
      "32500 32% (0m 52s) 1.7978 Polson / Scottish ✗ (English)\n",
      "33000 33% (0m 53s) 0.0508 Theofilopoulos / Greek ✓\n",
      "33500 33% (0m 54s) 0.7635 Paterson / Scottish ✓\n",
      "34000 34% (0m 55s) 0.0797 Brisimitzakis / Greek ✓\n",
      "34500 34% (0m 56s) 0.9391 Mansour / Arabic ✓\n",
      "35000 35% (0m 56s) 2.9086 Roig / Chinese ✗ (Spanish)\n",
      "35500 35% (0m 57s) 0.3691 Dickson / Scottish ✓\n",
      "36000 36% (0m 58s) 0.0130 Grammatakakis / Greek ✓\n",
      "36500 36% (0m 59s) 0.7587 Lopez / Spanish ✓\n",
      "37000 37% (0m 59s) 1.3649 Omura / Japanese ✓\n",
      "37500 37% (1m 0s) 2.5973 Widerlechner / German ✗ (Czech)\n",
      "38000 38% (1m 1s) 1.3441 Franco / Spanish ✗ (Portuguese)\n",
      "38500 38% (1m 2s) 3.0990 Nagai / Arabic ✗ (Japanese)\n",
      "39000 39% (1m 2s) 1.3900 Klimek / Czech ✗ (Polish)\n",
      "39500 39% (1m 3s) 0.0205 Leontarakis / Greek ✓\n",
      "40000 40% (1m 4s) 1.6582 Reilly / English ✗ (Irish)\n",
      "40500 40% (1m 5s) 1.4620 Cleirich / Vietnamese ✗ (Irish)\n",
      "41000 41% (1m 5s) 1.2037 Vicario / Spanish ✓\n",
      "41500 41% (1m 6s) 0.5181 Byon / Korean ✓\n",
      "42000 42% (1m 7s) 0.6889 Siew / Chinese ✓\n",
      "42500 42% (1m 8s) 0.3752 Duncan / Irish ✓\n",
      "43000 43% (1m 9s) 0.0576 Agelakos / Greek ✓\n",
      "43500 43% (1m 9s) 1.5836 Vann / Dutch ✓\n",
      "44000 44% (1m 10s) 1.6005 Cabral / Portuguese ✓\n",
      "44500 44% (1m 11s) 1.0629 Kassis / Greek ✗ (Arabic)\n",
      "45000 45% (1m 12s) 2.2791 Mould / French ✗ (English)\n",
      "45500 45% (1m 12s) 1.4809 Zha / Korean ✗ (Chinese)\n",
      "46000 46% (1m 13s) 1.3555 Agranowitch / Russian ✓\n",
      "46500 46% (1m 14s) 1.4227 Sauvageon / French ✓\n",
      "47000 47% (1m 15s) 1.5282 Haddad / Scottish ✗ (Arabic)\n",
      "47500 47% (1m 16s) 0.6668 Souza / Portuguese ✓\n",
      "48000 48% (1m 16s) 1.8555 Smyth / Scottish ✗ (English)\n",
      "48500 48% (1m 17s) 1.4049 Bui / Chinese ✗ (Vietnamese)\n",
      "49000 49% (1m 18s) 1.2433 Mendes / Portuguese ✓\n",
      "49500 49% (1m 19s) 0.1070 Slusarczyk / Polish ✓\n",
      "50000 50% (1m 20s) 4.7509 Quinones / Arabic ✗ (Spanish)\n",
      "50500 50% (1m 20s) 0.6707 Yu / Korean ✓\n",
      "51000 51% (1m 21s) 2.2296 Hoffmann / English ✗ (German)\n",
      "51500 51% (1m 22s) 0.6176 Hanraets / Dutch ✓\n",
      "52000 52% (1m 23s) 0.0215 Winogrodzki / Polish ✓\n",
      "52500 52% (1m 23s) 0.1661 Koutsoubos / Greek ✓\n",
      "53000 53% (1m 24s) 1.5291 Roosevelt / Dutch ✓\n",
      "53500 53% (1m 25s) 1.6712 Said / Korean ✗ (Arabic)\n",
      "54000 54% (1m 26s) 4.4937 Blahut / Arabic ✗ (Czech)\n",
      "54500 54% (1m 26s) 2.3650 Wieck / Czech ✗ (German)\n",
      "55000 55% (1m 27s) 2.8232 Hass / Arabic ✗ (German)\n",
      "55500 55% (1m 28s) 0.9955 Shimizu / Japanese ✓\n",
      "56000 56% (1m 29s) 0.3269 Chweh / Korean ✓\n",
      "56500 56% (1m 30s) 0.2098 Snyders / Dutch ✓\n",
      "57000 56% (1m 31s) 0.2681 Bitar / Arabic ✓\n",
      "57500 57% (1m 31s) 0.5665 Vinh / Vietnamese ✓\n",
      "58000 57% (1m 32s) 2.3824 Nemec / Portuguese ✗ (Czech)\n",
      "58500 58% (1m 33s) 0.7229 Bonnaire / French ✓\n",
      "59000 59% (1m 34s) 2.7752 Zimola / Japanese ✗ (Czech)\n",
      "59500 59% (1m 35s) 3.6341 Deeb / Chinese ✗ (Arabic)\n",
      "60000 60% (1m 36s) 0.7701 Wechsler / German ✓\n",
      "60500 60% (1m 36s) 2.4328 Alves / Portuguese ✗ (English)\n",
      "61000 61% (1m 37s) 2.2664 Matthams / Japanese ✗ (English)\n",
      "61500 61% (1m 38s) 0.1351 Slepicka / Czech ✓\n",
      "62000 62% (1m 39s) 2.6766 Koliha / Japanese ✗ (Czech)\n",
      "62500 62% (1m 40s) 3.2949 Borowski / Polish ✗ (Czech)\n",
      "63000 63% (1m 40s) 1.6535 Mccallum / French ✗ (Scottish)\n",
      "63500 63% (1m 41s) 0.8874 Fiokhin / Irish ✗ (Russian)\n",
      "64000 64% (1m 42s) 3.7345 Peerenboom / French ✗ (Dutch)\n",
      "64500 64% (1m 43s) 1.0685 Awad / Arabic ✓\n",
      "65000 65% (1m 43s) 2.2867 Loong / Irish ✗ (Chinese)\n",
      "65500 65% (1m 44s) 0.2064 Ishimura / Japanese ✓\n",
      "66000 66% (1m 45s) 2.7139 Colon / English ✗ (Spanish)\n",
      "66500 66% (1m 46s) 1.8320 Simoes / Arabic ✗ (Portuguese)\n",
      "67000 67% (1m 47s) 3.2822 Guerra / Portuguese ✗ (Italian)\n",
      "67500 67% (1m 48s) 0.1147 Sardelis / Greek ✓\n",
      "68000 68% (1m 48s) 1.4081 Greenberg / Dutch ✗ (German)\n",
      "68500 68% (1m 49s) 0.9287 Franco / Portuguese ✓\n",
      "69000 69% (1m 50s) 0.0286 Alexandropoulos / Greek ✓\n",
      "69500 69% (1m 51s) 0.6764 Malouf / Arabic ✓\n",
      "70000 70% (1m 52s) 2.4253 Kaube / Japanese ✗ (German)\n",
      "70500 70% (1m 53s) 0.4658 Luc / Vietnamese ✓\n",
      "71000 71% (1m 54s) 4.0871 Tani / Vietnamese ✗ (Japanese)\n",
      "71500 71% (1m 55s) 0.5514 Yoshizaki / Japanese ✓\n",
      "72000 72% (1m 56s) 0.7908 Adamishin / Russian ✓\n",
      "72500 72% (1m 57s) 0.7868 Antipas / Greek ✓\n",
      "73000 73% (1m 58s) 1.0109 Lawton / English ✓\n",
      "73500 73% (1m 59s) 0.1466 Wronski / Polish ✓\n",
      "74000 74% (1m 59s) 1.4892 StrakaO / Greek ✗ (Czech)\n",
      "74500 74% (2m 0s) 3.8232 Bosque / French ✗ (Spanish)\n",
      "75000 75% (2m 1s) 1.5120 Korandak / Polish ✗ (Czech)\n",
      "75500 75% (2m 2s) 0.5224 Chevalier / French ✓\n",
      "76000 76% (2m 2s) 0.3592 Agthoven / Dutch ✓\n",
      "76500 76% (2m 3s) 1.4255 Chemlik / Russian ✗ (Czech)\n",
      "77000 77% (2m 4s) 0.9191 Forstner / German ✓\n",
      "77500 77% (2m 5s) 0.7400 Eng / Chinese ✓\n",
      "78000 78% (2m 5s) 3.6944 Konig / Arabic ✗ (German)\n",
      "78500 78% (2m 6s) 0.2133 Glagolev / Russian ✓\n",
      "79000 79% (2m 7s) 1.4787 Dickson / English ✗ (Scottish)\n",
      "79500 79% (2m 8s) 0.2837 Najjar / Arabic ✓\n",
      "80000 80% (2m 8s) 2.0865 Pae / Vietnamese ✗ (Korean)\n",
      "80500 80% (2m 9s) 0.2719 Lindsay / Scottish ✓\n",
      "81000 81% (2m 10s) 2.5585 Campos / Portuguese ✗ (Spanish)\n",
      "81500 81% (2m 11s) 1.3670 Teague / French ✗ (Irish)\n",
      "82000 82% (2m 12s) 1.7689 Hoch / German ✓\n",
      "82500 82% (2m 12s) 2.0848 Pasternak / Czech ✗ (Polish)\n"
     ]
    },
    {
     "name": "stdout",
     "output_type": "stream",
     "text": [
      "83000 83% (2m 13s) 0.1304 Michalaras / Greek ✓\n",
      "83500 83% (2m 14s) 1.9998 Wharton / Arabic ✗ (English)\n",
      "84000 84% (2m 15s) 1.2745 Trinh / Vietnamese ✓\n",
      "84500 84% (2m 16s) 0.4036 Gorka / Polish ✓\n",
      "85000 85% (2m 16s) 0.5841 Cameron / Scottish ✓\n",
      "85500 85% (2m 17s) 0.1224 Milionis / Greek ✓\n",
      "86000 86% (2m 18s) 0.0622 Marchetti / Italian ✓\n",
      "86500 86% (2m 19s) 2.0524 Gallacher / German ✗ (English)\n",
      "87000 87% (2m 19s) 1.1519 Nowak / Polish ✓\n",
      "87500 87% (2m 20s) 3.3809 Mazza / Portuguese ✗ (Italian)\n",
      "88000 88% (2m 21s) 0.4660 Pinheiro / Portuguese ✓\n",
      "88500 88% (2m 21s) 0.6357 Torney / English ✓\n",
      "89000 89% (2m 22s) 2.3560 Timms / Arabic ✗ (English)\n",
      "89500 89% (2m 23s) 3.9716 King / Chinese ✗ (Scottish)\n",
      "90000 90% (2m 24s) 0.7776 Gomes / Portuguese ✓\n",
      "90500 90% (2m 25s) 0.7246 Salib / Arabic ✓\n",
      "91000 91% (2m 26s) 0.4303 AuYong / Chinese ✓\n",
      "91500 91% (2m 27s) 1.6106 Dehmel / German ✗ (Czech)\n",
      "92000 92% (2m 28s) 1.7107 Arian / Irish ✗ (Arabic)\n",
      "92500 92% (2m 29s) 1.2409 Solomon / French ✓\n",
      "93000 93% (2m 30s) 1.5509 Duguay / Arabic ✗ (French)\n",
      "93500 93% (2m 31s) 1.9559 Eustis / Greek ✗ (French)\n",
      "94000 94% (2m 32s) 0.1002 Sluaghadhan / Irish ✓\n",
      "94500 94% (2m 33s) 2.4125 Kieu / Chinese ✗ (Vietnamese)\n",
      "95000 95% (2m 34s) 0.5039 Yuan / Chinese ✓\n",
      "95500 95% (2m 35s) 4.5760 Maly / Irish ✗ (Polish)\n",
      "96000 96% (2m 36s) 1.9836 Bui / Chinese ✗ (Vietnamese)\n",
      "96500 96% (2m 37s) 1.9629 Hughes / Arabic ✗ (Scottish)\n",
      "97000 97% (2m 38s) 0.3705 Abboud / Arabic ✓\n",
      "97500 97% (2m 39s) 1.0780 Wagner / German ✓\n",
      "98000 98% (2m 40s) 0.6256 Luu / Vietnamese ✓\n",
      "98500 98% (2m 41s) 0.1160 Gomolka / Polish ✓\n",
      "99000 99% (2m 42s) 0.1596 Boveri / Italian ✓\n",
      "99500 99% (2m 43s) 0.5477 Pierre / French ✓\n",
      "100000 100% (2m 44s) 1.0342 Hanania / Arabic ✓\n"
     ]
    }
   ],
   "source": [
    "import time\n",
    "import math\n",
    "\n",
    "n_iters=100000 # 反復回数\n",
    "print_every=500 # 何回ごとに表示するか\n",
    "plot_every=100 # 何回ごとにプロットするか\n",
    "\n",
    "current_loss=0 # ロス\n",
    "all_losses=[] # ロスのリスト\n",
    "\n",
    "def timeSince(since):\n",
    "    now=time.time() # 現在時刻を取得\n",
    "    s=now-since\n",
    "    m=math.floor(s/60)\n",
    "    s-=m*60\n",
    "    \n",
    "    return'%dm %ds'%(m, s)\n",
    "    \n",
    "start=time.time() # 時刻を取得\n",
    "\n",
    "for iter in range(1,n_iters+1):\n",
    "    category,line,category_tensor,line_tensor=randomTrainingExample()\n",
    "    output,loss=train(category_tensor,line_tensor)\n",
    "    current_loss+=loss\n",
    "    \n",
    "    # 表示\n",
    "    if iter%print_every==0:\n",
    "        guess,guess_i=categoryFromOutput(output)\n",
    "        correct='✓' if guess==category else '✗ (%s)'%category\n",
    "        print('%d %d%% (%s) %.4f %s / %s %s'%(iter,iter/n_iters*100,timeSince(start),loss,line,guess,correct))\n",
    "        \n",
    "    # 現在の平均ロスをロスのリストに追加\n",
    "    if iter%plot_every==0:\n",
    "        all_losses.append(current_loss/plot_every)\n",
    "        current_loss=0"
   ]
  },
  {
   "cell_type": "markdown",
   "metadata": {},
   "source": [
    "# 結果をプロット"
   ]
  },
  {
   "cell_type": "markdown",
   "metadata": {},
   "source": [
    "all_lossesを確認しましょう。"
   ]
  },
  {
   "cell_type": "code",
   "execution_count": 30,
   "metadata": {
    "ExecuteTime": {
     "end_time": "2020-05-03T13:02:49.104030Z",
     "start_time": "2020-05-03T13:02:48.957767Z"
    }
   },
   "outputs": [
    {
     "data": {
      "image/png": "[encoded data removed]",
      "text/plain": [
       "<Figure size 432x288 with 1 Axes>"
      ]
     },
     "metadata": {
      "needs_background": "light"
     },
     "output_type": "display_data"
    }
   ],
   "source": [
    "import matplotlib.pyplot as plt\n",
    "import matplotlib.ticker as ticker\n",
    "\n",
    "plt.figure()\n",
    "plt.plot(all_losses)\n",
    "plt.show()"
   ]
  },
  {
   "cell_type": "markdown",
   "metadata": {},
   "source": [
    "# 結果を評価"
   ]
  },
  {
   "cell_type": "markdown",
   "metadata": {},
   "source": [
    "それぞれのカテゴリの分類がどれほどうまくいっているかを見るために、混合行列を作ります。  \n",
    "各行に実際のカテゴリ、各列に推測されたカテゴリを当てます。  \n",
    "混合行列を作るために多くのサンプルをネットワークに入れますが、その際evaluate()を使います。ちなみに逆伝搬の際はtrain()を使います。"
   ]
  },
  {
   "cell_type": "code",
   "execution_count": 32,
   "metadata": {
    "ExecuteTime": {
     "end_time": "2020-05-03T13:11:02.674683Z",
     "start_time": "2020-05-03T13:10:53.359976Z"
    }
   },
   "outputs": [
    {
     "data": {
      "image/png": "[encoded data removed]",
      "text/plain": [
       "<Figure size 432x288 with 2 Axes>"
      ]
     },
     "metadata": {
      "needs_background": "light"
     },
     "output_type": "display_data"
    }
   ],
   "source": [
    "confusion=torch.zeros(n_categories,n_categories)\n",
    "n_confusion=10000\n",
    "\n",
    "# 各行に対して出力を得る\n",
    "def evaluate(line_tensor):\n",
    "    hidden=rnn.initHidden()\n",
    "    \n",
    "    for i in range(line_tensor.size()[0]):\n",
    "        output,hidden=rnn(line_tensor[i],hidden)\n",
    "        \n",
    "    return output\n",
    "\n",
    "# サンプルを確認し、どれが正しく分類されたかを見る\n",
    "for i in range(n_confusion):\n",
    "    category,line,category_tensor,line_tensor=randomTrainingExample()\n",
    "    output=evaluate(line_tensor)\n",
    "    guess,guess_i=categoryFromOutput(output)\n",
    "    category_i=all_categories.index(category)\n",
    "    confusion[category_i][guess_i]+=1\n",
    "    \n",
    "# 合計を各行で割ることで正規化\n",
    "for i in range(n_categories):\n",
    "    confusion[i]=confusion[i]/confusion[i].sum()\n",
    "    \n",
    "### プロットの準備\n",
    "fig=plt.figure()\n",
    "ax=fig.add_subplot(111)\n",
    "cax=ax.matshow(confusion.numpy())\n",
    "fig.colorbar(cax)\n",
    "\n",
    "ax.set_xticklabels([\"\"]+all_categories,rotation=90)\n",
    "ax.set_yticklabels([\"\"]+all_categories)\n",
    "\n",
    "ax.xaxis.set_major_locator(ticker.MultipleLocator(1))\n",
    "ax.yaxis.set_major_locator(ticker.MultipleLocator(1))\n",
    "\n",
    "plt.show()"
   ]
  },
  {
   "cell_type": "markdown",
   "metadata": {},
   "source": [
    "明るいところが誤分類の割合が大きいことを表しています。例えば中国語と韓国語などです。"
   ]
  },
  {
   "cell_type": "markdown",
   "metadata": {},
   "source": [
    "# ユーザーの入力"
   ]
  },
  {
   "cell_type": "markdown",
   "metadata": {},
   "source": [
    "ユーザーの入力に応じた出力を出します。"
   ]
  },
  {
   "cell_type": "code",
   "execution_count": 33,
   "metadata": {
    "ExecuteTime": {
     "end_time": "2020-05-03T13:16:06.925304Z",
     "start_time": "2020-05-03T13:16:06.909358Z"
    }
   },
   "outputs": [
    {
     "name": "stdout",
     "output_type": "stream",
     "text": [
      "\n",
      "> Dovesky\n",
      "(-0.52) Russian\n",
      "(-1.30) Czech\n",
      "(-2.64) English\n",
      "\n",
      "> Jackson\n",
      "(-0.05) Scottish\n",
      "(-3.67) English\n",
      "(-5.03) Russian\n",
      "\n",
      "> Satoshi\n",
      "(-0.68) Japanese\n",
      "(-1.05) Arabic\n",
      "(-2.55) Italian\n"
     ]
    }
   ],
   "source": [
    "def predict(input_line,n_predictions=3):\n",
    "    print(\"\\n> %s\"%input_line)\n",
    "    \n",
    "    with torch.no_grad():\n",
    "        output=evaluate(lineToTensor(input_line))\n",
    "        \n",
    "        topv,topi=output.topk(n_predictions,1,True)\n",
    "        predictions=[]\n",
    "        \n",
    "        for i in range(n_predictions):\n",
    "            value=topv[0][i].item()\n",
    "            category_index=topi[0][i].item()\n",
    "            print('(%.2f) %s'%(value,all_categories[category_index]))\n",
    "            predictions.append([value,all_categories[category_index]])\n",
    "            \n",
    "predict(\"Dovesky\")\n",
    "predict(\"Jackson\")\n",
    "predict(\"Satoshi\")"
   ]
  },
  {
   "cell_type": "code",
   "execution_count": null,
   "metadata": {},
   "outputs": [],
   "source": []
  }
 ],
 "metadata": {
  "kernelspec": {
   "display_name": "Python 3",
   "language": "python",
   "name": "python3"
  },
  "language_info": {
   "codemirror_mode": {
    "name": "ipython",
    "version": 3
   },
   "file_extension": ".py",
   "mimetype": "text/x-python",
   "name": "python",
   "nbconvert_exporter": "python",
   "pygments_lexer": "ipython3",
   "version": "3.7.3"
  },
  "toc": {
   "base_numbering": 1,
   "nav_menu": {},
   "number_sections": true,
   "sideBar": true,
   "skip_h1_title": false,
   "title_cell": "Table of Contents",
   "title_sidebar": "Contents",
   "toc_cell": false,
   "toc_position": {},
   "toc_section_display": true,
   "toc_window_display": false
  }
 },
 "nbformat": 4,
 "nbformat_minor": 2
}
