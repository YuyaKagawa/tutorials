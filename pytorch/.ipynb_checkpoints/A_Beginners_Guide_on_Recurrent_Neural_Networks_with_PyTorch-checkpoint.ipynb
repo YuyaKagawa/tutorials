{
 "cells": [
  {
   "cell_type": "markdown",
   "metadata": {},
   "source": [
    "参考:  \n",
    "https://blog.floydhub.com/a-beginners-guide-on-recurrent-neural-networks-with-pytorch/  \n",
    "https://github.com/gabrielloye/RNN-walkthrough/blob/master/main.ipynb"
   ]
  },
  {
   "cell_type": "code",
   "execution_count": 1,
   "metadata": {
    "ExecuteTime": {
     "end_time": "2020-04-28T01:49:37.615018Z",
     "start_time": "2020-04-28T01:49:36.017448Z"
    }
   },
   "outputs": [],
   "source": [
    "import torch\n",
    "from torch import nn\n",
    "import numpy as np"
   ]
  },
  {
   "cell_type": "markdown",
   "metadata": {},
   "source": [
    "# テキストの準備・前処理"
   ]
  },
  {
   "cell_type": "markdown",
   "metadata": {},
   "source": [
    "まずはテキスト、文字と数字の対応を定義します。"
   ]
  },
  {
   "cell_type": "code",
   "execution_count": 31,
   "metadata": {
    "ExecuteTime": {
     "end_time": "2020-04-28T02:17:24.320022Z",
     "start_time": "2020-04-28T02:17:24.307314Z"
    }
   },
   "outputs": [
    {
     "name": "stdout",
     "output_type": "stream",
     "text": [
      "['hey how are you', 'good i am fine', 'have a nice day']\n",
      "{'o', 'c', 'a', 'd', 'v', 'h', 'f', ' ', 'y', 'n', 'r', 'u', 'g', 'm', 'e', 'w', 'i'}\n",
      "{0: 'o', 1: 'c', 2: 'a', 3: 'd', 4: 'v', 5: 'h', 6: 'f', 7: ' ', 8: 'y', 9: 'n', 10: 'r', 11: 'u', 12: 'g', 13: 'm', 14: 'e', 15: 'w', 16: 'i'}\n",
      "{'o': 0, 'c': 1, 'a': 2, 'd': 3, 'v': 4, 'h': 5, 'f': 6, ' ': 7, 'y': 8, 'n': 9, 'r': 10, 'u': 11, 'g': 12, 'm': 13, 'e': 14, 'w': 15, 'i': 16}\n"
     ]
    }
   ],
   "source": [
    "text=[\"hey how are you\",\"good i am fine\",\"have a nice day\"] # テキスト\n",
    "print(text)\n",
    "\n",
    "chars=set(\"\".join(text)) # ユニークな文字を取得\n",
    "print(chars)\n",
    "\n",
    "int2char=dict(enumerate(chars)) # 数字→文字の辞書を形成\n",
    "print(int2char)\n",
    "\n",
    "char2int={char:ind for ind,char in int2char.items()} # 文字→数字の辞書を形成\n",
    "print(char2int)"
   ]
  },
  {
   "cell_type": "markdown",
   "metadata": {},
   "source": [
    "のちにテキストの長さを最も長いものに揃えるために、最大の長さを取得します。"
   ]
  },
  {
   "cell_type": "code",
   "execution_count": 24,
   "metadata": {
    "ExecuteTime": {
     "end_time": "2020-04-28T02:02:37.366831Z",
     "start_time": "2020-04-28T02:02:37.362630Z"
    }
   },
   "outputs": [
    {
     "name": "stdout",
     "output_type": "stream",
     "text": [
      "The longest string has 15 characters\n"
     ]
    }
   ],
   "source": [
    "maxlen=len(max(text,key=len)) # テキストの最大の長さ\n",
    "print(\"The longest string has {} characters\".format(maxlen))"
   ]
  },
  {
   "cell_type": "code",
   "execution_count": 25,
   "metadata": {
    "ExecuteTime": {
     "end_time": "2020-04-28T02:02:37.594062Z",
     "start_time": "2020-04-28T02:02:37.586083Z"
    }
   },
   "outputs": [
    {
     "name": "stdout",
     "output_type": "stream",
     "text": [
      "15 hey how are you\n",
      "14 good i am fine\n",
      "15 have a nice day\n"
     ]
    }
   ],
   "source": [
    "for i in range(len(text)):# 各テキストについて長さとテキストを表示\n",
    "    print(len(text[i]),text[i])"
   ]
  },
  {
   "cell_type": "markdown",
   "metadata": {},
   "source": [
    "テキストの文字数を揃えるために、短いテキストの末尾に\" \"（半角スペース）を追加します。"
   ]
  },
  {
   "cell_type": "code",
   "execution_count": 26,
   "metadata": {
    "ExecuteTime": {
     "end_time": "2020-04-28T02:02:38.099896Z",
     "start_time": "2020-04-28T02:02:38.094559Z"
    }
   },
   "outputs": [
    {
     "name": "stdout",
     "output_type": "stream",
     "text": [
      "15 hey how are you\n",
      "15 good i am fine \n",
      "15 have a nice day\n"
     ]
    }
   ],
   "source": [
    "for i in range(len(text)): # 各テキストについて　\n",
    "    while len(text[i])<maxlen:　# 一番長いものに合うように\n",
    "        text[i]+=\" \" # 末尾にスペースを追加\n",
    "\n",
    "for i in range(len(text)): # 各テキストについて長さとテキストを表示\n",
    "    print(len(text[i]),text[i])"
   ]
  },
  {
   "cell_type": "markdown",
   "metadata": {},
   "source": [
    "テキストを入力用と出力用の2つ用意します。"
   ]
  },
  {
   "cell_type": "code",
   "execution_count": 29,
   "metadata": {
    "ExecuteTime": {
     "end_time": "2020-04-28T02:07:20.908696Z",
     "start_time": "2020-04-28T02:07:20.903636Z"
    }
   },
   "outputs": [
    {
     "name": "stdout",
     "output_type": "stream",
     "text": [
      "Input Sequence: hey how are yo\n",
      "\tTarget Sequence: ey how are you\n",
      "Input Sequence: good i am fine\n",
      "\tTarget Sequence: ood i am fine \n",
      "Input Sequence: have a nice da\n",
      "\tTarget Sequence: ave a nice day\n"
     ]
    }
   ],
   "source": [
    "input_seq=[] # 入力とするシーケンス\n",
    "target_seq=[] # 出力とするシーケンス\n",
    "\n",
    "for i in range(len(text)): # 各テキストについて\n",
    "    input_seq.append(text[i][:-1]) # 入力\n",
    "    target_seq.append(text[i][1:]) # 出力\n",
    "    print(\"Input Sequence: {}\\n\\tTarget Sequence: {}\".format(input_seq[i],target_seq[i]))"
   ]
  },
  {
   "cell_type": "markdown",
   "metadata": {},
   "source": [
    "各文字を数字に変換してゆきます。"
   ]
  },
  {
   "cell_type": "code",
   "execution_count": 30,
   "metadata": {
    "ExecuteTime": {
     "end_time": "2020-04-28T02:09:25.039617Z",
     "start_time": "2020-04-28T02:09:25.024110Z"
    }
   },
   "outputs": [
    {
     "name": "stdout",
     "output_type": "stream",
     "text": [
      "Input Sequence: [5, 14, 8, 7, 5, 0, 15, 7, 2, 10, 14, 7, 8, 0]\n",
      "\tTarget Sequence: [14, 8, 7, 5, 0, 15, 7, 2, 10, 14, 7, 8, 0, 11]\n",
      "Input Sequence: [12, 0, 0, 3, 7, 16, 7, 2, 13, 7, 6, 16, 9, 14]\n",
      "\tTarget Sequence: [0, 0, 3, 7, 16, 7, 2, 13, 7, 6, 16, 9, 14, 7]\n",
      "Input Sequence: [5, 2, 4, 14, 7, 2, 7, 9, 16, 1, 14, 7, 3, 2]\n",
      "\tTarget Sequence: [2, 4, 14, 7, 2, 7, 9, 16, 1, 14, 7, 3, 2, 8]\n"
     ]
    }
   ],
   "source": [
    "for i in range(len(text)):\n",
    "    input_seq[i]=[char2int[character] for character in input_seq[i]] # 数字に変換したテキスト\n",
    "    target_seq[i]=[char2int[character] for character in target_seq[i]] # 数字に変換したテキスト\n",
    "    print(\"Input Sequence: {}\\n\\tTarget Sequence: {}\".format(input_seq[i],target_seq[i]))"
   ]
  },
  {
   "cell_type": "markdown",
   "metadata": {},
   "source": [
    "各シーケンスをone-hotに変換する"
   ]
  },
  {
   "cell_type": "code",
   "execution_count": 32,
   "metadata": {
    "ExecuteTime": {
     "end_time": "2020-04-28T02:26:34.458519Z",
     "start_time": "2020-04-28T02:26:34.450496Z"
    }
   },
   "outputs": [],
   "source": [
    "def one_hot_encode(sequence,dict_size,seq_len,batch_size):\n",
    "    features=np.zeros((batch_size,seq_len,dict_size),dtype=np.float32) # 特徴量行列の初期化\n",
    "    print(\"features.shape = \",features.shape)\n",
    "    \n",
    "    for i in range(batch_size): #  各バッチについて\n",
    "        for u in range(seq_len): # 各シーケンスについて\n",
    "            features[i,u,sequence[i][u]]=1 # 対応する文字だけ1にする\n",
    "        \n",
    "        print(features[i,:,:])\n",
    "            \n",
    "    return features"
   ]
  },
  {
   "cell_type": "markdown",
   "metadata": {},
   "source": [
    "それではone-hotに変換します。"
   ]
  },
  {
   "cell_type": "code",
   "execution_count": 33,
   "metadata": {
    "ExecuteTime": {
     "end_time": "2020-04-28T02:29:32.631282Z",
     "start_time": "2020-04-28T02:29:32.602940Z"
    },
    "scrolled": true
   },
   "outputs": [
    {
     "name": "stdout",
     "output_type": "stream",
     "text": [
      "features.shape =  (3, 14, 17)\n",
      "[[0. 0. 0. 0. 0. 1. 0. 0. 0. 0. 0. 0. 0. 0. 0. 0. 0.]\n",
      " [0. 0. 0. 0. 0. 0. 0. 0. 0. 0. 0. 0. 0. 0. 1. 0. 0.]\n",
      " [0. 0. 0. 0. 0. 0. 0. 0. 1. 0. 0. 0. 0. 0. 0. 0. 0.]\n",
      " [0. 0. 0. 0. 0. 0. 0. 1. 0. 0. 0. 0. 0. 0. 0. 0. 0.]\n",
      " [0. 0. 0. 0. 0. 1. 0. 0. 0. 0. 0. 0. 0. 0. 0. 0. 0.]\n",
      " [1. 0. 0. 0. 0. 0. 0. 0. 0. 0. 0. 0. 0. 0. 0. 0. 0.]\n",
      " [0. 0. 0. 0. 0. 0. 0. 0. 0. 0. 0. 0. 0. 0. 0. 1. 0.]\n",
      " [0. 0. 0. 0. 0. 0. 0. 1. 0. 0. 0. 0. 0. 0. 0. 0. 0.]\n",
      " [0. 0. 1. 0. 0. 0. 0. 0. 0. 0. 0. 0. 0. 0. 0. 0. 0.]\n",
      " [0. 0. 0. 0. 0. 0. 0. 0. 0. 0. 1. 0. 0. 0. 0. 0. 0.]\n",
      " [0. 0. 0. 0. 0. 0. 0. 0. 0. 0. 0. 0. 0. 0. 1. 0. 0.]\n",
      " [0. 0. 0. 0. 0. 0. 0. 1. 0. 0. 0. 0. 0. 0. 0. 0. 0.]\n",
      " [0. 0. 0. 0. 0. 0. 0. 0. 1. 0. 0. 0. 0. 0. 0. 0. 0.]\n",
      " [1. 0. 0. 0. 0. 0. 0. 0. 0. 0. 0. 0. 0. 0. 0. 0. 0.]]\n",
      "[[0. 0. 0. 0. 0. 0. 0. 0. 0. 0. 0. 0. 1. 0. 0. 0. 0.]\n",
      " [1. 0. 0. 0. 0. 0. 0. 0. 0. 0. 0. 0. 0. 0. 0. 0. 0.]\n",
      " [1. 0. 0. 0. 0. 0. 0. 0. 0. 0. 0. 0. 0. 0. 0. 0. 0.]\n",
      " [0. 0. 0. 1. 0. 0. 0. 0. 0. 0. 0. 0. 0. 0. 0. 0. 0.]\n",
      " [0. 0. 0. 0. 0. 0. 0. 1. 0. 0. 0. 0. 0. 0. 0. 0. 0.]\n",
      " [0. 0. 0. 0. 0. 0. 0. 0. 0. 0. 0. 0. 0. 0. 0. 0. 1.]\n",
      " [0. 0. 0. 0. 0. 0. 0. 1. 0. 0. 0. 0. 0. 0. 0. 0. 0.]\n",
      " [0. 0. 1. 0. 0. 0. 0. 0. 0. 0. 0. 0. 0. 0. 0. 0. 0.]\n",
      " [0. 0. 0. 0. 0. 0. 0. 0. 0. 0. 0. 0. 0. 1. 0. 0. 0.]\n",
      " [0. 0. 0. 0. 0. 0. 0. 1. 0. 0. 0. 0. 0. 0. 0. 0. 0.]\n",
      " [0. 0. 0. 0. 0. 0. 1. 0. 0. 0. 0. 0. 0. 0. 0. 0. 0.]\n",
      " [0. 0. 0. 0. 0. 0. 0. 0. 0. 0. 0. 0. 0. 0. 0. 0. 1.]\n",
      " [0. 0. 0. 0. 0. 0. 0. 0. 0. 1. 0. 0. 0. 0. 0. 0. 0.]\n",
      " [0. 0. 0. 0. 0. 0. 0. 0. 0. 0. 0. 0. 0. 0. 1. 0. 0.]]\n",
      "[[0. 0. 0. 0. 0. 1. 0. 0. 0. 0. 0. 0. 0. 0. 0. 0. 0.]\n",
      " [0. 0. 1. 0. 0. 0. 0. 0. 0. 0. 0. 0. 0. 0. 0. 0. 0.]\n",
      " [0. 0. 0. 0. 1. 0. 0. 0. 0. 0. 0. 0. 0. 0. 0. 0. 0.]\n",
      " [0. 0. 0. 0. 0. 0. 0. 0. 0. 0. 0. 0. 0. 0. 1. 0. 0.]\n",
      " [0. 0. 0. 0. 0. 0. 0. 1. 0. 0. 0. 0. 0. 0. 0. 0. 0.]\n",
      " [0. 0. 1. 0. 0. 0. 0. 0. 0. 0. 0. 0. 0. 0. 0. 0. 0.]\n",
      " [0. 0. 0. 0. 0. 0. 0. 1. 0. 0. 0. 0. 0. 0. 0. 0. 0.]\n",
      " [0. 0. 0. 0. 0. 0. 0. 0. 0. 1. 0. 0. 0. 0. 0. 0. 0.]\n",
      " [0. 0. 0. 0. 0. 0. 0. 0. 0. 0. 0. 0. 0. 0. 0. 0. 1.]\n",
      " [0. 1. 0. 0. 0. 0. 0. 0. 0. 0. 0. 0. 0. 0. 0. 0. 0.]\n",
      " [0. 0. 0. 0. 0. 0. 0. 0. 0. 0. 0. 0. 0. 0. 1. 0. 0.]\n",
      " [0. 0. 0. 0. 0. 0. 0. 1. 0. 0. 0. 0. 0. 0. 0. 0. 0.]\n",
      " [0. 0. 0. 1. 0. 0. 0. 0. 0. 0. 0. 0. 0. 0. 0. 0. 0.]\n",
      " [0. 0. 1. 0. 0. 0. 0. 0. 0. 0. 0. 0. 0. 0. 0. 0. 0.]]\n",
      "Input shape: (3, 14, 17) --> (Batch Size, Sequence Length, One-Hot Encoding Size)\n"
     ]
    }
   ],
   "source": [
    "dict_size=len(char2int) # 辞書のサイズ\n",
    "seq_len=maxlen-1 # シーケンスの長さ\n",
    "batch_size=len(text) # バッチサイズ\n",
    "\n",
    "input_seq=one_hot_encode(input_seq,dict_size,seq_len,batch_size) # シーケンスをone-hotに変換する\n",
    "print(\"Input shape: {} --> (Batch Size, Sequence Length, One-Hot Encoding Size)\".format(input_seq.shape))"
   ]
  },
  {
   "cell_type": "markdown",
   "metadata": {},
   "source": [
    "ここからPyTorchを使って計算していきます。"
   ]
  },
  {
   "cell_type": "code",
   "execution_count": 34,
   "metadata": {
    "ExecuteTime": {
     "end_time": "2020-04-28T02:32:27.647801Z",
     "start_time": "2020-04-28T02:32:27.627261Z"
    }
   },
   "outputs": [],
   "source": [
    "input_seq=torch.from_numpy(input_seq) # 入力をPyTorchの形式に変換\n",
    "target_seq=torch.Tensor(target_seq) # ターゲットをPyTorchに変換"
   ]
  },
  {
   "cell_type": "markdown",
   "metadata": {},
   "source": [
    "GPUを使える場合GPUを、そうでない場合はCPUを使うように設定します。"
   ]
  },
  {
   "cell_type": "code",
   "execution_count": 36,
   "metadata": {
    "ExecuteTime": {
     "end_time": "2020-04-28T02:37:00.438191Z",
     "start_time": "2020-04-28T02:37:00.417910Z"
    }
   },
   "outputs": [
    {
     "name": "stdout",
     "output_type": "stream",
     "text": [
      "GPU is not available, CPU used\n"
     ]
    }
   ],
   "source": [
    "is_cuda=torch.cuda.is_available() # GPUを使えるかどうか\n",
    "\n",
    "if is_cuda: # GPUを使える場合\n",
    "    device=torch.device(\"cuda\") # デバイスをGPUに設定\n",
    "    print(\"GPU is available\")\n",
    "else:\n",
    "    device=torch.device(\"cpu\") # デバイスをCPUに設定\n",
    "    print(\"GPU is not available, CPU used\")"
   ]
  },
  {
   "cell_type": "markdown",
   "metadata": {},
   "source": [
    "# モデルの定義"
   ]
  },
  {
   "cell_type": "markdown",
   "metadata": {},
   "source": [
    "モデルを定義します。"
   ]
  },
  {
   "cell_type": "code",
   "execution_count": 37,
   "metadata": {
    "ExecuteTime": {
     "end_time": "2020-04-28T02:49:26.111240Z",
     "start_time": "2020-04-28T02:49:26.100434Z"
    }
   },
   "outputs": [],
   "source": [
    "class Model(nn.Module):\n",
    "    def __init__(self,input_size,output_size,hidden_dim,n_layers):\n",
    "        super(Model,self).__init__()\n",
    "        \n",
    "        self.hidden_dim=hidden_dim # 隠れ層の次元\n",
    "        self.n_layers=n_layers # 層の数\n",
    "        self.rnn=nn.RNN(input_size,hidden_dim,n_layers,batch_first=True) # RNNレイヤ\n",
    "        self.fc=nn.Linear(hidden_dim,output_size) # 全結合層\n",
    "        \n",
    "    def forward(self,x):\n",
    "        batch_size=x.size(0) # バッチサイズ\n",
    "        hidden=self.init_hidden(batch_size) # 隠れ層を初期化する\n",
    "        out,hidden=self.rnn(x,hidden) # 入力と隠れ層の状態をモデルの入力とし、出力を得る\n",
    "        out=out.contiguous().view(-1,self.hidden_dim) # 出力の形を変換\n",
    "        out=self.fc(out) # 全結合層で形を変換\n",
    "        \n",
    "        return out,hidden\n",
    "    \n",
    "    def init_hidden(self,batch_size):\n",
    "        hidden=torch.zeros(self.n_layers,batch_size,self.hidden_dim).to(device) # 隠れ層を初期化、デバイスに送る\n",
    "        \n",
    "        return hidden"
   ]
  },
  {
   "cell_type": "markdown",
   "metadata": {},
   "source": [
    "# モデルの学習"
   ]
  },
  {
   "cell_type": "markdown",
   "metadata": {},
   "source": [
    "それでは学習のための設定をします。"
   ]
  },
  {
   "cell_type": "code",
   "execution_count": 38,
   "metadata": {
    "ExecuteTime": {
     "end_time": "2020-04-28T02:52:46.663600Z",
     "start_time": "2020-04-28T02:52:46.639369Z"
    }
   },
   "outputs": [],
   "source": [
    "model=Model(input_size=dict_size,output_size=dict_size,hidden_dim=12,n_layers=1) # モデルのインスタンス\n",
    "model=model.to(device) # モデルをデバイスに送る\n",
    "\n",
    "n_epochs=100 # エポック数\n",
    "lr=0.01 # 学習率\n",
    "\n",
    "criterion=nn.CrossEntropyLoss() # クロスエントロピー誤差\n",
    "optimizer=torch.optim.Adam(model.parameters(),lr=lr) # 最適化関数"
   ]
  },
  {
   "cell_type": "markdown",
   "metadata": {},
   "source": [
    "モデルを学習させます。"
   ]
  },
  {
   "cell_type": "code",
   "execution_count": 40,
   "metadata": {
    "ExecuteTime": {
     "end_time": "2020-04-28T03:01:43.217117Z",
     "start_time": "2020-04-28T03:01:42.806437Z"
    }
   },
   "outputs": [
    {
     "name": "stdout",
     "output_type": "stream",
     "text": [
      "Epoch: 10/100.......... Loss: 2.4289\n",
      "Epoch: 20/100.......... Loss: 2.1767\n",
      "Epoch: 30/100.......... Loss: 1.8516\n",
      "Epoch: 40/100.......... Loss: 1.4717\n",
      "Epoch: 50/100.......... Loss: 1.1101\n",
      "Epoch: 60/100.......... Loss: 0.7869\n",
      "Epoch: 70/100.......... Loss: 0.5266\n",
      "Epoch: 80/100.......... Loss: 0.3546\n",
      "Epoch: 90/100.......... Loss: 0.2520\n",
      "Epoch: 100/100.......... Loss: 0.1929\n"
     ]
    }
   ],
   "source": [
    "input_seq=input_seq.to(device) # 入力シーケンス\n",
    "\n",
    "for epoch in range(1,n_epochs+1): # 各エポックで\n",
    "    optimizer.zero_grad() # 勾配をゼロにする\n",
    "    output,hidden=model(input_seq) # モデルの出力を獲得\n",
    "    output=output.to(device) # 出力をデバイスへ\n",
    "    target_seq=target_seq.to(device) # ターゲットをデバイスへ\n",
    "    loss=criterion(output,target_seq.view(-1).long()) # ロスを計算\n",
    "    loss.backward() # 逆伝搬させる\n",
    "    optimizer.step() # 重みを更新する\n",
    "    \n",
    "    if epoch%10==0: # 10エポックごとに\n",
    "        print(\"Epoch: {}/{}..........\".format(epoch,n_epochs),end=\" \")\n",
    "        print(\"Loss: {:.4f}\".format(loss.item()))"
   ]
  },
  {
   "cell_type": "markdown",
   "metadata": {},
   "source": [
    "# モデルの評価"
   ]
  },
  {
   "cell_type": "markdown",
   "metadata": {},
   "source": [
    "予測する関数を定義します。"
   ]
  },
  {
   "cell_type": "code",
   "execution_count": 41,
   "metadata": {
    "ExecuteTime": {
     "end_time": "2020-04-28T03:06:49.685881Z",
     "start_time": "2020-04-28T03:06:49.677035Z"
    }
   },
   "outputs": [],
   "source": [
    "def predict(model,character):\n",
    "    character=np.array([[char2int[c] for c in character]]) # 各文字を数字に変換\n",
    "    character=one_hot_encode(character,dict_size,character.shape[1],1) # one-hotに変換\n",
    "    character=torch.from_numpy(character) # pytorchの肩に変換\n",
    "    character=character.to(device) # デバイスに送る\n",
    "    out,hidden=model(character) # モデルの出力\n",
    "    prob=nn.functional.softmax(out[-1],dim=0).data # ソフトマックスで変換\n",
    "    char_ind=torch.max(prob,dim=0)[1].item() # 最もスコアの高いクラスを予測クラスとする\n",
    "    \n",
    "    return int2char[char_ind],hidden"
   ]
  },
  {
   "cell_type": "code",
   "execution_count": 42,
   "metadata": {
    "ExecuteTime": {
     "end_time": "2020-04-28T03:11:55.875608Z",
     "start_time": "2020-04-28T03:11:55.869720Z"
    }
   },
   "outputs": [],
   "source": [
    "def sample(model,out_len,start=\"hey\"):\n",
    "    model.eval() # 評価用モード、batch normalizationとかdropoutとかに関係あるらしい\n",
    "    start=start.lower() # 小文字に\n",
    "    chars=[ch for ch in start] # 最初はあらかじめ指定した文字について\n",
    "    size=out_len-len(chars) # サイズ\n",
    "    \n",
    "    for ii in range(size): # サイズ\n",
    "        char,h=predict(model,chars) # モデルの出力クラスを取得\n",
    "        chars.append(char) # 文章の末尾に追加\n",
    "        \n",
    "    return \"\".join(chars)"
   ]
  },
  {
   "cell_type": "code",
   "execution_count": 43,
   "metadata": {
    "ExecuteTime": {
     "end_time": "2020-04-28T03:12:16.517010Z",
     "start_time": "2020-04-28T03:12:16.456050Z"
    }
   },
   "outputs": [
    {
     "name": "stdout",
     "output_type": "stream",
     "text": [
      "features.shape =  (1, 4, 17)\n",
      "[[0. 0. 0. 0. 0. 0. 0. 0. 0. 0. 0. 0. 1. 0. 0. 0. 0.]\n",
      " [1. 0. 0. 0. 0. 0. 0. 0. 0. 0. 0. 0. 0. 0. 0. 0. 0.]\n",
      " [1. 0. 0. 0. 0. 0. 0. 0. 0. 0. 0. 0. 0. 0. 0. 0. 0.]\n",
      " [0. 0. 0. 1. 0. 0. 0. 0. 0. 0. 0. 0. 0. 0. 0. 0. 0.]]\n",
      "features.shape =  (1, 5, 17)\n",
      "[[0. 0. 0. 0. 0. 0. 0. 0. 0. 0. 0. 0. 1. 0. 0. 0. 0.]\n",
      " [1. 0. 0. 0. 0. 0. 0. 0. 0. 0. 0. 0. 0. 0. 0. 0. 0.]\n",
      " [1. 0. 0. 0. 0. 0. 0. 0. 0. 0. 0. 0. 0. 0. 0. 0. 0.]\n",
      " [0. 0. 0. 1. 0. 0. 0. 0. 0. 0. 0. 0. 0. 0. 0. 0. 0.]\n",
      " [0. 0. 0. 0. 0. 0. 0. 1. 0. 0. 0. 0. 0. 0. 0. 0. 0.]]\n",
      "features.shape =  (1, 6, 17)\n",
      "[[0. 0. 0. 0. 0. 0. 0. 0. 0. 0. 0. 0. 1. 0. 0. 0. 0.]\n",
      " [1. 0. 0. 0. 0. 0. 0. 0. 0. 0. 0. 0. 0. 0. 0. 0. 0.]\n",
      " [1. 0. 0. 0. 0. 0. 0. 0. 0. 0. 0. 0. 0. 0. 0. 0. 0.]\n",
      " [0. 0. 0. 1. 0. 0. 0. 0. 0. 0. 0. 0. 0. 0. 0. 0. 0.]\n",
      " [0. 0. 0. 0. 0. 0. 0. 1. 0. 0. 0. 0. 0. 0. 0. 0. 0.]\n",
      " [0. 0. 0. 0. 0. 0. 0. 0. 0. 0. 0. 0. 0. 0. 0. 0. 1.]]\n",
      "features.shape =  (1, 7, 17)\n",
      "[[0. 0. 0. 0. 0. 0. 0. 0. 0. 0. 0. 0. 1. 0. 0. 0. 0.]\n",
      " [1. 0. 0. 0. 0. 0. 0. 0. 0. 0. 0. 0. 0. 0. 0. 0. 0.]\n",
      " [1. 0. 0. 0. 0. 0. 0. 0. 0. 0. 0. 0. 0. 0. 0. 0. 0.]\n",
      " [0. 0. 0. 1. 0. 0. 0. 0. 0. 0. 0. 0. 0. 0. 0. 0. 0.]\n",
      " [0. 0. 0. 0. 0. 0. 0. 1. 0. 0. 0. 0. 0. 0. 0. 0. 0.]\n",
      " [0. 0. 0. 0. 0. 0. 0. 0. 0. 0. 0. 0. 0. 0. 0. 0. 1.]\n",
      " [0. 0. 0. 0. 0. 0. 0. 1. 0. 0. 0. 0. 0. 0. 0. 0. 0.]]\n",
      "features.shape =  (1, 8, 17)\n",
      "[[0. 0. 0. 0. 0. 0. 0. 0. 0. 0. 0. 0. 1. 0. 0. 0. 0.]\n",
      " [1. 0. 0. 0. 0. 0. 0. 0. 0. 0. 0. 0. 0. 0. 0. 0. 0.]\n",
      " [1. 0. 0. 0. 0. 0. 0. 0. 0. 0. 0. 0. 0. 0. 0. 0. 0.]\n",
      " [0. 0. 0. 1. 0. 0. 0. 0. 0. 0. 0. 0. 0. 0. 0. 0. 0.]\n",
      " [0. 0. 0. 0. 0. 0. 0. 1. 0. 0. 0. 0. 0. 0. 0. 0. 0.]\n",
      " [0. 0. 0. 0. 0. 0. 0. 0. 0. 0. 0. 0. 0. 0. 0. 0. 1.]\n",
      " [0. 0. 0. 0. 0. 0. 0. 1. 0. 0. 0. 0. 0. 0. 0. 0. 0.]\n",
      " [0. 0. 1. 0. 0. 0. 0. 0. 0. 0. 0. 0. 0. 0. 0. 0. 0.]]\n",
      "features.shape =  (1, 9, 17)\n",
      "[[0. 0. 0. 0. 0. 0. 0. 0. 0. 0. 0. 0. 1. 0. 0. 0. 0.]\n",
      " [1. 0. 0. 0. 0. 0. 0. 0. 0. 0. 0. 0. 0. 0. 0. 0. 0.]\n",
      " [1. 0. 0. 0. 0. 0. 0. 0. 0. 0. 0. 0. 0. 0. 0. 0. 0.]\n",
      " [0. 0. 0. 1. 0. 0. 0. 0. 0. 0. 0. 0. 0. 0. 0. 0. 0.]\n",
      " [0. 0. 0. 0. 0. 0. 0. 1. 0. 0. 0. 0. 0. 0. 0. 0. 0.]\n",
      " [0. 0. 0. 0. 0. 0. 0. 0. 0. 0. 0. 0. 0. 0. 0. 0. 1.]\n",
      " [0. 0. 0. 0. 0. 0. 0. 1. 0. 0. 0. 0. 0. 0. 0. 0. 0.]\n",
      " [0. 0. 1. 0. 0. 0. 0. 0. 0. 0. 0. 0. 0. 0. 0. 0. 0.]\n",
      " [0. 0. 0. 0. 0. 0. 0. 0. 0. 0. 0. 0. 0. 1. 0. 0. 0.]]\n",
      "features.shape =  (1, 10, 17)\n",
      "[[0. 0. 0. 0. 0. 0. 0. 0. 0. 0. 0. 0. 1. 0. 0. 0. 0.]\n",
      " [1. 0. 0. 0. 0. 0. 0. 0. 0. 0. 0. 0. 0. 0. 0. 0. 0.]\n",
      " [1. 0. 0. 0. 0. 0. 0. 0. 0. 0. 0. 0. 0. 0. 0. 0. 0.]\n",
      " [0. 0. 0. 1. 0. 0. 0. 0. 0. 0. 0. 0. 0. 0. 0. 0. 0.]\n",
      " [0. 0. 0. 0. 0. 0. 0. 1. 0. 0. 0. 0. 0. 0. 0. 0. 0.]\n",
      " [0. 0. 0. 0. 0. 0. 0. 0. 0. 0. 0. 0. 0. 0. 0. 0. 1.]\n",
      " [0. 0. 0. 0. 0. 0. 0. 1. 0. 0. 0. 0. 0. 0. 0. 0. 0.]\n",
      " [0. 0. 1. 0. 0. 0. 0. 0. 0. 0. 0. 0. 0. 0. 0. 0. 0.]\n",
      " [0. 0. 0. 0. 0. 0. 0. 0. 0. 0. 0. 0. 0. 1. 0. 0. 0.]\n",
      " [0. 0. 0. 0. 0. 0. 0. 1. 0. 0. 0. 0. 0. 0. 0. 0. 0.]]\n",
      "features.shape =  (1, 11, 17)\n",
      "[[0. 0. 0. 0. 0. 0. 0. 0. 0. 0. 0. 0. 1. 0. 0. 0. 0.]\n",
      " [1. 0. 0. 0. 0. 0. 0. 0. 0. 0. 0. 0. 0. 0. 0. 0. 0.]\n",
      " [1. 0. 0. 0. 0. 0. 0. 0. 0. 0. 0. 0. 0. 0. 0. 0. 0.]\n",
      " [0. 0. 0. 1. 0. 0. 0. 0. 0. 0. 0. 0. 0. 0. 0. 0. 0.]\n",
      " [0. 0. 0. 0. 0. 0. 0. 1. 0. 0. 0. 0. 0. 0. 0. 0. 0.]\n",
      " [0. 0. 0. 0. 0. 0. 0. 0. 0. 0. 0. 0. 0. 0. 0. 0. 1.]\n",
      " [0. 0. 0. 0. 0. 0. 0. 1. 0. 0. 0. 0. 0. 0. 0. 0. 0.]\n",
      " [0. 0. 1. 0. 0. 0. 0. 0. 0. 0. 0. 0. 0. 0. 0. 0. 0.]\n",
      " [0. 0. 0. 0. 0. 0. 0. 0. 0. 0. 0. 0. 0. 1. 0. 0. 0.]\n",
      " [0. 0. 0. 0. 0. 0. 0. 1. 0. 0. 0. 0. 0. 0. 0. 0. 0.]\n",
      " [0. 0. 0. 0. 0. 0. 1. 0. 0. 0. 0. 0. 0. 0. 0. 0. 0.]]\n",
      "features.shape =  (1, 12, 17)\n",
      "[[0. 0. 0. 0. 0. 0. 0. 0. 0. 0. 0. 0. 1. 0. 0. 0. 0.]\n",
      " [1. 0. 0. 0. 0. 0. 0. 0. 0. 0. 0. 0. 0. 0. 0. 0. 0.]\n",
      " [1. 0. 0. 0. 0. 0. 0. 0. 0. 0. 0. 0. 0. 0. 0. 0. 0.]\n",
      " [0. 0. 0. 1. 0. 0. 0. 0. 0. 0. 0. 0. 0. 0. 0. 0. 0.]\n",
      " [0. 0. 0. 0. 0. 0. 0. 1. 0. 0. 0. 0. 0. 0. 0. 0. 0.]\n",
      " [0. 0. 0. 0. 0. 0. 0. 0. 0. 0. 0. 0. 0. 0. 0. 0. 1.]\n",
      " [0. 0. 0. 0. 0. 0. 0. 1. 0. 0. 0. 0. 0. 0. 0. 0. 0.]\n",
      " [0. 0. 1. 0. 0. 0. 0. 0. 0. 0. 0. 0. 0. 0. 0. 0. 0.]\n",
      " [0. 0. 0. 0. 0. 0. 0. 0. 0. 0. 0. 0. 0. 1. 0. 0. 0.]\n",
      " [0. 0. 0. 0. 0. 0. 0. 1. 0. 0. 0. 0. 0. 0. 0. 0. 0.]\n",
      " [0. 0. 0. 0. 0. 0. 1. 0. 0. 0. 0. 0. 0. 0. 0. 0. 0.]\n",
      " [0. 0. 0. 0. 0. 0. 0. 0. 0. 0. 0. 0. 0. 0. 0. 0. 1.]]\n",
      "features.shape =  (1, 13, 17)\n",
      "[[0. 0. 0. 0. 0. 0. 0. 0. 0. 0. 0. 0. 1. 0. 0. 0. 0.]\n",
      " [1. 0. 0. 0. 0. 0. 0. 0. 0. 0. 0. 0. 0. 0. 0. 0. 0.]\n",
      " [1. 0. 0. 0. 0. 0. 0. 0. 0. 0. 0. 0. 0. 0. 0. 0. 0.]\n",
      " [0. 0. 0. 1. 0. 0. 0. 0. 0. 0. 0. 0. 0. 0. 0. 0. 0.]\n",
      " [0. 0. 0. 0. 0. 0. 0. 1. 0. 0. 0. 0. 0. 0. 0. 0. 0.]\n",
      " [0. 0. 0. 0. 0. 0. 0. 0. 0. 0. 0. 0. 0. 0. 0. 0. 1.]\n",
      " [0. 0. 0. 0. 0. 0. 0. 1. 0. 0. 0. 0. 0. 0. 0. 0. 0.]\n",
      " [0. 0. 1. 0. 0. 0. 0. 0. 0. 0. 0. 0. 0. 0. 0. 0. 0.]\n",
      " [0. 0. 0. 0. 0. 0. 0. 0. 0. 0. 0. 0. 0. 1. 0. 0. 0.]\n",
      " [0. 0. 0. 0. 0. 0. 0. 1. 0. 0. 0. 0. 0. 0. 0. 0. 0.]\n",
      " [0. 0. 0. 0. 0. 0. 1. 0. 0. 0. 0. 0. 0. 0. 0. 0. 0.]\n",
      " [0. 0. 0. 0. 0. 0. 0. 0. 0. 0. 0. 0. 0. 0. 0. 0. 1.]\n",
      " [0. 0. 0. 0. 0. 0. 0. 0. 0. 1. 0. 0. 0. 0. 0. 0. 0.]]\n",
      "features.shape =  (1, 14, 17)\n",
      "[[0. 0. 0. 0. 0. 0. 0. 0. 0. 0. 0. 0. 1. 0. 0. 0. 0.]\n",
      " [1. 0. 0. 0. 0. 0. 0. 0. 0. 0. 0. 0. 0. 0. 0. 0. 0.]\n",
      " [1. 0. 0. 0. 0. 0. 0. 0. 0. 0. 0. 0. 0. 0. 0. 0. 0.]\n",
      " [0. 0. 0. 1. 0. 0. 0. 0. 0. 0. 0. 0. 0. 0. 0. 0. 0.]\n",
      " [0. 0. 0. 0. 0. 0. 0. 1. 0. 0. 0. 0. 0. 0. 0. 0. 0.]\n",
      " [0. 0. 0. 0. 0. 0. 0. 0. 0. 0. 0. 0. 0. 0. 0. 0. 1.]\n",
      " [0. 0. 0. 0. 0. 0. 0. 1. 0. 0. 0. 0. 0. 0. 0. 0. 0.]\n",
      " [0. 0. 1. 0. 0. 0. 0. 0. 0. 0. 0. 0. 0. 0. 0. 0. 0.]\n",
      " [0. 0. 0. 0. 0. 0. 0. 0. 0. 0. 0. 0. 0. 1. 0. 0. 0.]\n",
      " [0. 0. 0. 0. 0. 0. 0. 1. 0. 0. 0. 0. 0. 0. 0. 0. 0.]\n",
      " [0. 0. 0. 0. 0. 0. 1. 0. 0. 0. 0. 0. 0. 0. 0. 0. 0.]\n",
      " [0. 0. 0. 0. 0. 0. 0. 0. 0. 0. 0. 0. 0. 0. 0. 0. 1.]\n",
      " [0. 0. 0. 0. 0. 0. 0. 0. 0. 1. 0. 0. 0. 0. 0. 0. 0.]\n",
      " [0. 0. 0. 0. 0. 0. 0. 0. 0. 0. 0. 0. 0. 0. 1. 0. 0.]]\n"
     ]
    },
    {
     "data": {
      "text/plain": [
       "'good i am fine '"
      ]
     },
     "execution_count": 43,
     "metadata": {},
     "output_type": "execute_result"
    }
   ],
   "source": [
    "sample(model,15,start=\"good\")"
   ]
  }
 ],
 "metadata": {
  "kernelspec": {
   "display_name": "Python 3",
   "language": "python",
   "name": "python3"
  },
  "language_info": {
   "codemirror_mode": {
    "name": "ipython",
    "version": 3
   },
   "file_extension": ".py",
   "mimetype": "text/x-python",
   "name": "python",
   "nbconvert_exporter": "python",
   "pygments_lexer": "ipython3",
   "version": "3.7.3"
  },
  "toc": {
   "base_numbering": 1,
   "nav_menu": {},
   "number_sections": true,
   "sideBar": true,
   "skip_h1_title": false,
   "title_cell": "Table of Contents",
   "title_sidebar": "Contents",
   "toc_cell": false,
   "toc_position": {},
   "toc_section_display": true,
   "toc_window_display": false
  }
 },
 "nbformat": 4,
 "nbformat_minor": 2
}
