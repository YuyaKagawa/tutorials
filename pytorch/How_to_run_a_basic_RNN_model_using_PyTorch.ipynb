{
 "cells": [
  {
   "cell_type": "markdown",
   "metadata": {},
   "source": [
    "参考: https://www.dezyre.com/recipes/run-basic-rnn-model-using-pytorch"
   ]
  },
  {
   "cell_type": "markdown",
   "metadata": {},
   "source": [
    "ベーシックなRNNを使い、画像分類をします。  \n",
    "1ピクセルずつ見ていっています。"
   ]
  },
  {
   "cell_type": "code",
   "execution_count": 1,
   "metadata": {
    "ExecuteTime": {
     "end_time": "2020-04-24T05:43:47.830808Z",
     "start_time": "2020-04-24T05:43:47.427749Z"
    }
   },
   "outputs": [],
   "source": [
    "import torch\n",
    "from torch import nn\n",
    "from torch.autograd import Variable\n",
    "import torchvision.datasets as dsets\n",
    "import torchvision.transforms as transforms\n",
    "import matplotlib.pyplot as plt\n",
    "%matplotlib inline"
   ]
  },
  {
   "cell_type": "code",
   "execution_count": 2,
   "metadata": {
    "ExecuteTime": {
     "end_time": "2020-04-24T05:44:04.428482Z",
     "start_time": "2020-04-24T05:44:04.405237Z"
    }
   },
   "outputs": [
    {
     "data": {
      "text/plain": [
       "<torch._C.Generator at 0x10b9ab1b0>"
      ]
     },
     "execution_count": 2,
     "metadata": {},
     "output_type": "execute_result"
    }
   ],
   "source": [
    "torch.manual_seed(1) # 乱数のシードを指定する"
   ]
  },
  {
   "cell_type": "markdown",
   "metadata": {},
   "source": [
    "ハイパーパラメータを定義します。"
   ]
  },
  {
   "cell_type": "code",
   "execution_count": 67,
   "metadata": {
    "ExecuteTime": {
     "end_time": "2020-04-24T07:03:42.981101Z",
     "start_time": "2020-04-24T07:03:42.975799Z"
    }
   },
   "outputs": [],
   "source": [
    "epoch=1 # エポック数\n",
    "batch_size=64 # バッチサイズ\n",
    "time_step=28 # RNNの時刻長、ここでは画像の高さ\n",
    "input_size=28 # RNNの入力のサイズ、ここでは画像の幅\n",
    "lr=0.01 # 学習率"
   ]
  },
  {
   "cell_type": "markdown",
   "metadata": {},
   "source": [
    "MNISTデータセットをダウンロードします。"
   ]
  },
  {
   "cell_type": "code",
   "execution_count": 57,
   "metadata": {
    "ExecuteTime": {
     "end_time": "2020-04-24T07:02:40.724337Z",
     "start_time": "2020-04-24T07:02:40.656269Z"
    },
    "scrolled": true
   },
   "outputs": [],
   "source": [
    "# MNISTデータセットをダウンロードする\n",
    "train_data=dsets.MNIST(\n",
    "    root=\"./../data/mnist/\",\n",
    "    train=True,\n",
    "    transform=transforms.ToTensor(), # PIL imageをnumpy.ndarrayに変換\n",
    "    # (C×H×W)の形のtorch.FloatTensorを取得し、[0,1]の範囲に正規化\n",
    "    download=True\n",
    ")"
   ]
  },
  {
   "cell_type": "markdown",
   "metadata": {},
   "source": [
    "画像を表示してみます。"
   ]
  },
  {
   "cell_type": "code",
   "execution_count": 59,
   "metadata": {
    "ExecuteTime": {
     "end_time": "2020-04-24T07:02:56.862301Z",
     "start_time": "2020-04-24T07:02:56.727796Z"
    }
   },
   "outputs": [
    {
     "name": "stdout",
     "output_type": "stream",
     "text": [
      "torch.Size([60000, 28, 28])\n",
      "torch.Size([60000])\n"
     ]
    },
    {
     "data": {
      "image/png": "[encoded data removed]",
      "text/plain": [
       "<Figure size 432x288 with 1 Axes>"
      ]
     },
     "metadata": {
      "needs_background": "light"
     },
     "output_type": "display_data"
    }
   ],
   "source": [
    "print(train_data.data.size()) # 訓練用データセットのデータのサイズ\n",
    "print(train_data.targets.size()) # 訓練用データセットのラベルのサイズ\n",
    "plt.imshow(train_data.data[0].numpy(),cmap=\"gray\") # グレースケールで画像を表示する\n",
    "plt.title(\"%i\"%train_data.targets[0])\n",
    "plt.show()"
   ]
  },
  {
   "cell_type": "markdown",
   "metadata": {},
   "source": [
    "データローダを定義します。"
   ]
  },
  {
   "cell_type": "code",
   "execution_count": 72,
   "metadata": {
    "ExecuteTime": {
     "end_time": "2020-04-24T07:04:34.765118Z",
     "start_time": "2020-04-24T07:04:34.752887Z"
    }
   },
   "outputs": [],
   "source": [
    "# 訓練においてミニバッチを取得するデータローダ\n",
    "train_loader=torch.utils.data.DataLoader(\n",
    "    dataset=train_data,\n",
    "    batch_size=batch_size,\n",
    "    shuffle=True\n",
    ")"
   ]
  },
  {
   "cell_type": "markdown",
   "metadata": {},
   "source": [
    "テスト用のデータセットを読み込み、Variableに変換します。ここではサンプル数は2000とします。"
   ]
  },
  {
   "cell_type": "code",
   "execution_count": 61,
   "metadata": {
    "ExecuteTime": {
     "end_time": "2020-04-24T07:03:00.510428Z",
     "start_time": "2020-04-24T07:03:00.449750Z"
    }
   },
   "outputs": [
    {
     "name": "stdout",
     "output_type": "stream",
     "text": [
      "torch.Size([2000, 28, 28])\n",
      "(2000,)\n"
     ]
    },
    {
     "name": "stderr",
     "output_type": "stream",
     "text": [
      "/Users/kagawa/anaconda3/envs/MAIN/lib/python3.7/site-packages/ipykernel_launcher.py:7: UserWarning: volatile was removed and now has no effect. Use `with torch.no_grad():` instead.\n",
      "  import sys\n"
     ]
    }
   ],
   "source": [
    "test_data=dsets.MNIST(\n",
    "    root=\"./../data/mnist/\",\n",
    "    train=False,\n",
    "    transform=transforms.ToTensor()\n",
    ")\n",
    "\n",
    "test_x=Variable(test_data.data,volatile=True).type(torch.FloatTensor)[:2000]/255. # volatile=Trueとすると逆伝搬を計算しない\n",
    "print(test_x.shape)\n",
    "\n",
    "test_y=test_data.targets.numpy().squeeze()[:2000] # numpy.arrayに変換\n",
    "print(test_y.shape)"
   ]
  },
  {
   "cell_type": "code",
   "execution_count": 73,
   "metadata": {
    "ExecuteTime": {
     "end_time": "2020-04-24T07:04:36.796621Z",
     "start_time": "2020-04-24T07:04:36.789452Z"
    }
   },
   "outputs": [
    {
     "name": "stdout",
     "output_type": "stream",
     "text": [
      "tensor([0., 0., 0., 0., 0., 0., 0., 0., 0., 0., 0., 0., 0., 0., 0., 0., 0., 0., 0., 0., 0., 0., 0., 0.,\n",
      "        0., 0., 0., 0.])\n",
      "[7 2 1 ... 3 9 5]\n"
     ]
    }
   ],
   "source": [
    "print(test_x[0][0])\n",
    "print(test_y)"
   ]
  },
  {
   "cell_type": "markdown",
   "metadata": {},
   "source": [
    "ネットワークを定義します。"
   ]
  },
  {
   "cell_type": "code",
   "execution_count": 74,
   "metadata": {
    "ExecuteTime": {
     "end_time": "2020-04-24T07:04:37.735742Z",
     "start_time": "2020-04-24T07:04:37.727535Z"
    }
   },
   "outputs": [],
   "source": [
    "class RNN(nn.Module):\n",
    "    def __init__(self):\n",
    "        super(RNN,self).__init__()\n",
    "        \n",
    "        # RNN\n",
    "        self.rnn=nn.LSTM(\n",
    "            input_size=input_size,\n",
    "            hidden_size=64, # 隠れ層のユニットの数\n",
    "            num_layers=1, # RNNの層の数\n",
    "            batch_first=True # 入力と出力のテンソルの第1次元はバッチサイズとなる\n",
    "        )\n",
    "        self.out=nn.Linear(64,10) # 出力層\n",
    "        \n",
    "    def forward(self,x):\n",
    "        # x.shape = (batch, time_step, input_size)\n",
    "        # r_out.shape = (batch, time_step, output_size)\n",
    "        # h_n.shape = (n_layers, batch, hidden_size)\n",
    "        # h_c.shape = (n_layers, batch, hidden_size)\n",
    "        r_out,(h_n,h_c)=self.rnn(x,None) # Noneは内部状態を0で初期化するという意味\n",
    "        \n",
    "        # 最後のステップのr_outのみ出力\n",
    "        out=self.out(r_out[:,-1,:])\n",
    "        \n",
    "        return out"
   ]
  },
  {
   "cell_type": "markdown",
   "metadata": {},
   "source": [
    "モデルを作成します。"
   ]
  },
  {
   "cell_type": "code",
   "execution_count": 75,
   "metadata": {
    "ExecuteTime": {
     "end_time": "2020-04-24T07:04:39.028567Z",
     "start_time": "2020-04-24T07:04:39.022096Z"
    }
   },
   "outputs": [
    {
     "name": "stdout",
     "output_type": "stream",
     "text": [
      "RNN(\n",
      "  (rnn): LSTM(28, 64, batch_first=True)\n",
      "  (out): Linear(in_features=64, out_features=10, bias=True)\n",
      ")\n"
     ]
    }
   ],
   "source": [
    "rnn=RNN()\n",
    "print(rnn)"
   ]
  },
  {
   "cell_type": "markdown",
   "metadata": {},
   "source": [
    "ロス関数と最適化関数を定義します。"
   ]
  },
  {
   "cell_type": "code",
   "execution_count": 76,
   "metadata": {
    "ExecuteTime": {
     "end_time": "2020-04-24T07:04:40.030656Z",
     "start_time": "2020-04-24T07:04:40.024975Z"
    }
   },
   "outputs": [],
   "source": [
    "loss_func=nn.CrossEntropyLoss() # ロス関数、ラベルはone-hotではない\n",
    "optimizer=torch.optim.Adam(rnn.parameters(),lr=lr) # 最適化関数"
   ]
  },
  {
   "cell_type": "markdown",
   "metadata": {},
   "source": [
    "それでは学習させます。"
   ]
  },
  {
   "cell_type": "code",
   "execution_count": 77,
   "metadata": {
    "ExecuteTime": {
     "end_time": "2020-04-24T07:05:09.340049Z",
     "start_time": "2020-04-24T07:04:40.833854Z"
    },
    "scrolled": true
   },
   "outputs": [
    {
     "name": "stdout",
     "output_type": "stream",
     "text": [
      "Epoch:  0 | step: 00000 | train loss: 2.3047 | test accuracy: 0.11\n",
      "Epoch:  0 | step: 00050 | train loss: 1.1230 | test accuracy: 0.60\n",
      "Epoch:  0 | step: 00100 | train loss: 0.5693 | test accuracy: 0.74\n",
      "Epoch:  0 | step: 00150 | train loss: 0.4565 | test accuracy: 0.82\n",
      "Epoch:  0 | step: 00200 | train loss: 0.5378 | test accuracy: 0.84\n",
      "Epoch:  0 | step: 00250 | train loss: 0.2560 | test accuracy: 0.88\n",
      "Epoch:  0 | step: 00300 | train loss: 0.2433 | test accuracy: 0.90\n",
      "Epoch:  0 | step: 00350 | train loss: 0.2075 | test accuracy: 0.91\n",
      "Epoch:  0 | step: 00400 | train loss: 0.4292 | test accuracy: 0.92\n",
      "Epoch:  0 | step: 00450 | train loss: 0.3468 | test accuracy: 0.93\n",
      "Epoch:  0 | step: 00500 | train loss: 0.1760 | test accuracy: 0.91\n",
      "Epoch:  0 | step: 00550 | train loss: 0.2300 | test accuracy: 0.94\n",
      "Epoch:  0 | step: 00600 | train loss: 0.1790 | test accuracy: 0.94\n",
      "Epoch:  0 | step: 00650 | train loss: 0.1590 | test accuracy: 0.95\n",
      "Epoch:  0 | step: 00700 | train loss: 0.2382 | test accuracy: 0.95\n",
      "Epoch:  0 | step: 00750 | train loss: 0.0911 | test accuracy: 0.95\n",
      "Epoch:  0 | step: 00800 | train loss: 0.1926 | test accuracy: 0.95\n",
      "Epoch:  0 | step: 00850 | train loss: 0.4527 | test accuracy: 0.95\n",
      "Epoch:  0 | step: 00900 | train loss: 0.1349 | test accuracy: 0.92\n"
     ]
    }
   ],
   "source": [
    "for ep in range(epoch): # エポックについて\n",
    "    for step,(x,y) in enumerate(train_loader): # 各ステップで\n",
    "        b_x=Variable(x.view(-1,28,28)) # 入力\n",
    "        b_y=Variable(y) # ラベル\n",
    "        output=rnn(b_x) # ラベルの予測値を取得\n",
    "        \n",
    "        loss=loss_func(output,b_y) # ロスを計算\n",
    "        optimizer.zero_grad() # 勾配を初期化\n",
    "        loss.backward() # 逆伝搬させる\n",
    "        optimizer.step()\n",
    "\n",
    "        # 50ステップごとに\n",
    "        if step%50==0:\n",
    "            test_output=rnn(test_x) # ラベルを予測、(samples, time_step, input_size)\n",
    "            pred_y=torch.max(test_output,1)[1].data.numpy().squeeze() # yの予測値を取得\n",
    "            accuracy=sum(pred_y==test_y)/float(test_y.size) # 精度\n",
    "            \n",
    "            print(\"Epoch: \",ep,\"| step: %05d\"%step,\"| train loss: %.4f\"%loss.data,\"| test accuracy: %.2f\"%accuracy)"
   ]
  },
  {
   "cell_type": "markdown",
   "metadata": {},
   "source": [
    "それではテストデータについて予測してみましょう。  \n",
    "10個だけ見ます。"
   ]
  },
  {
   "cell_type": "code",
   "execution_count": 78,
   "metadata": {
    "ExecuteTime": {
     "end_time": "2020-04-24T07:07:23.839314Z",
     "start_time": "2020-04-24T07:07:23.825675Z"
    }
   },
   "outputs": [
    {
     "name": "stdout",
     "output_type": "stream",
     "text": [
      "[7 2 1 0 4 1 4 9 5 9] prediction number\n",
      "[7 2 1 0 4 1 4 9 5 9] real number\n"
     ]
    }
   ],
   "source": [
    "test_output=rnn(test_x[:10].view(-1,28,28))\n",
    "pred_y=torch.max(test_output,1)[1].data.numpy().squeeze() # yの予測値\n",
    "print(pred_y,\"prediction number\")\n",
    "print(test_y[:10],\"real number\")"
   ]
  },
  {
   "cell_type": "markdown",
   "metadata": {},
   "source": [
    "完全に予測できています。"
   ]
  },
  {
   "cell_type": "code",
   "execution_count": null,
   "metadata": {},
   "outputs": [],
   "source": []
  }
 ],
 "metadata": {
  "kernelspec": {
   "display_name": "Python 3",
   "language": "python",
   "name": "python3"
  },
  "language_info": {
   "codemirror_mode": {
    "name": "ipython",
    "version": 3
   },
   "file_extension": ".py",
   "mimetype": "text/x-python",
   "name": "python",
   "nbconvert_exporter": "python",
   "pygments_lexer": "ipython3",
   "version": "3.7.3"
  },
  "toc": {
   "base_numbering": 1,
   "nav_menu": {},
   "number_sections": true,
   "sideBar": true,
   "skip_h1_title": false,
   "title_cell": "Table of Contents",
   "title_sidebar": "Contents",
   "toc_cell": false,
   "toc_position": {},
   "toc_section_display": true,
   "toc_window_display": false
  }
 },
 "nbformat": 4,
 "nbformat_minor": 2
}
