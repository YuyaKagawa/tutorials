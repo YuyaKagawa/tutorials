{
 "cells": [
  {
   "cell_type": "markdown",
   "metadata": {},
   "source": [
    "参考: https://pytorch.org/tutorials/intermediate/char_rnn_generation_tutorial.html"
   ]
  },
  {
   "cell_type": "markdown",
   "metadata": {},
   "source": [
    "# データの準備"
   ]
  },
  {
   "cell_type": "code",
   "execution_count": null,
   "metadata": {},
   "outputs": [],
   "source": [
    "from io import open\n",
    "import os\n",
    "import unicodedata\n",
    "import string\n",
    "\n",
    "all_letters=string.ascii_letters+\" .,;'-\"\n",
    "n_letters=len(all_letters)+1 # EOSマーカー含む\n",
    "\n",
    "def findFiles(path): # ファイルを検索する関数\n",
    "    return glob.glob(path)\n",
    "\n",
    "# UnicodeをASCIIに変換する\n",
    "def unicodeToAscii(s):\n",
    "    return ''.join(\n",
    "        c for c in unicodedata.normalize('NFD', s)\n",
    "        if unicodedata.category(c) != 'Mn'\n",
    "        and c in all_letters\n",
    "    )\n",
    "\n",
    "# ファイルを読み込んで行に分割する関数\n",
    "def readLines(filename):\n",
    "    lines = open(filename, encoding='utf-8').read().strip().split('\\n')\n",
    "    return [unicodeToAscii(line) for line in lines]\n",
    "\n",
    "category_lines = {} # カテゴリーの辞書、行の内容\n",
    "all_categories = [] # カテゴリーのリスト\n",
    "\n",
    "for filename in findFiles('../data/names/*.txt'): # ファイル\n",
    "    category = os.path.splitext(os.path.basename(filename))[0] # カテゴリー\n",
    "    all_categories.append(category) # カテゴリーのリストに追加\n",
    "    lines = readLines(filename) # 行を読む\n",
    "    category_lines[category] = lines # \n",
    "\n",
    "n_categories = len(all_categories) # カテゴリー数\n",
    "\n",
    "if n_categories == 0: # カテゴリーの数が0個の場合\n",
    "    raise RuntimeError('Data not found. Make sure that you downloaded data '\n",
    "        'from https://download.pytorch.org/tutorial/data.zip and extract it to '\n",
    "        'the current directory.')\n",
    "\n",
    "print('# categories:', n_categories, all_categories)\n",
    "print(unicodeToAscii(\"O'Néàl\"))"
   ]
  },
  {
   "cell_type": "markdown",
   "metadata": {},
   "source": [
    "# ネットワークを構築する"
   ]
  },
  {
   "cell_type": "code",
   "execution_count": null,
   "metadata": {},
   "outputs": [],
   "source": [
    "import torch\n",
    "import torch.nn as nn\n",
    "\n",
    "class RNN(nn.Module):\n",
    "    def __init__(self,input_size,hidden_size,output_size):\n",
    "        super(RNN,self).__init__()\n",
    "        self.hidden_size=hidden_size\n",
    "        \n",
    "        self.i2h=nn.Linear(n_categories+input_size+hidden_size,hidden_size)\n",
    "        self.i2o=nn.Linear(n_categories+input_size+hidden_size,output_size)\n",
    "        self.o2o=nn.Linear(hidden_size+output_size,output_size)\n",
    "        self.dropout=nn.Dropout(0.1)\n",
    "        self.softmax=nn.LogSoftmax(dim=1)\n",
    "        \n",
    "    def forward(self,category,input,hidden):\n",
    "        input_combined=torch.cat((category,input,hidden),1)\n",
    "        hidden=self.i2h(input_combined)\n",
    "        output=self.i2o(input_combined)\n",
    "        output_combined=torch.cat((hidden,output),1)\n",
    "        output=self.o2o(output_combined)\n",
    "        output=self.dropout(output)\n",
    "        output=self.softmax(output)\n",
    "        \n",
    "        return output,hidden\n",
    "    \n",
    "    def initHidden(self):\n",
    "        return torch.zeros(1,self.hidden_size)"
   ]
  },
  {
   "cell_type": "markdown",
   "metadata": {},
   "source": [
    "# 学習"
   ]
  },
  {
   "cell_type": "markdown",
   "metadata": {},
   "source": [
    "## 学習の準備"
   ]
  },
  {
   "cell_type": "code",
   "execution_count": null,
   "metadata": {},
   "outputs": [],
   "source": [
    "import random\n",
    "\n",
    "# リストからランダムに取り出す\n",
    "def randomChoice(l):\n",
    "    return l[random.randint(0,len(l)-1)]\n",
    "\n",
    "# ランダムなカテゴリを取得し、そのカテゴリからランダムな行を取得\n",
    "def randomTrainingPair():\n",
    "    category=randomChoice(all_categories)\n",
    "    line=randomChoice(category_lines[category])\n",
    "    \n",
    "    return category,line"
   ]
  },
  {
   "cell_type": "code",
   "execution_count": null,
   "metadata": {},
   "outputs": [],
   "source": [
    "# カテゴリのone-hotベクトル\n",
    "def categoryTensor(category):\n",
    "    li=all_categories.index(category)\n",
    "    tensor=torch.zeros(1,n_categories)\n",
    "    tensor[0][li]=1\n",
    "    \n",
    "    return tensor\n",
    "\n",
    "# 入力の最初から最後の文字(EOSを除く)のone-hot行列\n",
    "def inputTensor(line):\n",
    "    tensor=torch.zeros(len(line),1,n_letters)\n",
    "    \n",
    "    for li in range(len(line)):\n",
    "        letter=line[li]\n",
    "        tensor[li][0][all_letters.find(letter)]=1\n",
    "        \n",
    "    return tensor\n",
    "\n",
    "# 2文字目からEOSまでのLongTensor\n",
    "def targetTensor(line):\n",
    "    letter_indexes=[all_letters.find(line[li]) for li in range(1,len(line))]\n",
    "    letter_indexes.append(n_letters-1) # EOS\n",
    "    \n",
    "    return torch.LongTensor(letter_indexes)"
   ]
  },
  {
   "cell_type": "code",
   "execution_count": null,
   "metadata": {},
   "outputs": [],
   "source": [
    "# カテゴリ、入力、ランダムなカテゴリからの目的のテンソルと行のペア\n",
    "def randomTrainingExample():\n",
    "    category,line=randomTrainingPair()\n",
    "    category_tensor=categoryTensor(category)\n",
    "    input_line_tensor=inputTensor(line)\n",
    "    target_line_tensor=targetTensor(line)\n",
    "    \n",
    "    return category_tensor,input_line_tensor,target_line_tensor"
   ]
  },
  {
   "cell_type": "markdown",
   "metadata": {},
   "source": [
    "## ネットワークの学習"
   ]
  },
  {
   "cell_type": "code",
   "execution_count": null,
   "metadata": {},
   "outputs": [],
   "source": [
    "criterion=nn.NLLoss()\n",
    "learning_rate=0.0005\n",
    "\n",
    "def train(category_tensor,input_line_tensor,target_line_tensor):\n",
    "    target_line_tensor.unsqueeze_(-1)\n",
    "    hidden=rnn.initHidden()\n",
    "    rnn.zero_grad()\n",
    "    loss=0\n",
    "    \n",
    "    for i in range(input_line_tensor.size(0)):\n",
    "        output,hidden=rnn(category_tensor,input_line_tensor[i],hidden)\n",
    "        l=criterion(output,target_line_tensor[i])\n",
    "        loss+=l\n",
    "        \n",
    "    loss.backward()\n",
    "    \n",
    "    for p in rnn.parameters():\n",
    "        p.data.add_(p.grad.data,alpha=-learning_rate)\n",
    "        \n",
    "    return output,loss.item()/input_line_tensor.size(0)"
   ]
  },
  {
   "cell_type": "code",
   "execution_count": null,
   "metadata": {},
   "outputs": [],
   "source": [
    "import time\n",
    "import math\n",
    "\n",
    "def timeSince(since):\n",
    "    now=time.time()\n",
    "    s=now-since\n",
    "    m=math.floor(s/60)\n",
    "    s-=m*60\n",
    "    \n",
    "    return '%dm %ds'%(m, s)"
   ]
  },
  {
   "cell_type": "code",
   "execution_count": null,
   "metadata": {},
   "outputs": [],
   "source": [
    "rnn=RNN(n_letters,128,n_letters)\n",
    "\n",
    "n_iters=100000\n",
    "print_every=5000\n",
    "plot_every=500\n",
    "all_losses=[]\n",
    "total_loss=0 # plot_every回ごとに反復\n",
    "start=time.time()\n",
    "\n",
    "for iter in range(1,n_iters+1):\n",
    "    output,loss=train(*randomTrainingExample())\n",
    "    total_loss+=loss\n",
    "    \n",
    "    if iter%print_every==0:\n",
    "        print('%s (%d %d%%) %.4f' % (timeSince(start), iter, iter / n_iters * 100, loss))\n",
    "        \n",
    "    if iter%plot_every==0:\n",
    "        all_losses.append(total_loss/plot_every)\n",
    "        total_loss=0"
   ]
  },
  {
   "cell_type": "code",
   "execution_count": null,
   "metadata": {},
   "outputs": [],
   "source": []
  },
  {
   "cell_type": "markdown",
   "metadata": {},
   "source": [
    "# ロスの表示"
   ]
  },
  {
   "cell_type": "code",
   "execution_count": null,
   "metadata": {},
   "outputs": [],
   "source": [
    "import matplotlib.pyplot as plt\n",
    "import matplotlib.ticker as ticker\n",
    "\n",
    "plt.figure()\n",
    "plt.plot(all_losses)"
   ]
  },
  {
   "cell_type": "markdown",
   "metadata": {},
   "source": [
    "# ネットワークのサンプリング"
   ]
  },
  {
   "cell_type": "code",
   "execution_count": null,
   "metadata": {},
   "outputs": [],
   "source": [
    "max_length=20\n",
    "\n",
    "# カテゴリと最初の文字からサンプリングする\n",
    "def sample(category,start_letters=\"A\"):\n",
    "    with torch.no_grad(): # サンプリングではhistoryをtrackする必要がない\n",
    "        category_tensor=categoryTensor(category)\n",
    "        input=inputTensor(start_letter)\n",
    "        hidden=rnn.initHidden()\n",
    "        output_name=start_letter\n",
    "        \n",
    "        for i in range(max_length):\n",
    "            output,hidden=rnn(category_tensor,input[0],hidden)\n",
    "            topv,topi=output.topk(1)\n",
    "            topi=topi[0][0]\n",
    "            \n",
    "            if topi==n_letters-1:\n",
    "                break\n",
    "            else:\n",
    "                letter=all_letters[topi]\n",
    "                output_name+=letter\n",
    "                \n",
    "            input=inputTensor(letter)\n",
    "            \n",
    "        return output_name\n",
    "    \n",
    "# 一つのカテゴリから複数のサンプルと最初の文字を取得する\n",
    "def samples(category,start_letters=\"ABC\"):\n",
    "    for start_letter in start_letters:\n",
    "        print(sample(category,start_letter))\n",
    "        \n",
    "samples(\"Russian\",\"RUS\")\n",
    "samples(\"German\",\"GER\")\n",
    "samples(\"Spanish\",\"SPA\")\n",
    "samples(\"Chinese\",\"CHI\")"
   ]
  }
 ],
 "metadata": {
  "kernelspec": {
   "display_name": "Python 3",
   "language": "python",
   "name": "python3"
  },
  "language_info": {
   "codemirror_mode": {
    "name": "ipython",
    "version": 3
   },
   "file_extension": ".py",
   "mimetype": "text/x-python",
   "name": "python",
   "nbconvert_exporter": "python",
   "pygments_lexer": "ipython3",
   "version": "3.7.3"
  },
  "toc": {
   "base_numbering": 1,
   "nav_menu": {},
   "number_sections": true,
   "sideBar": true,
   "skip_h1_title": false,
   "title_cell": "Table of Contents",
   "title_sidebar": "Contents",
   "toc_cell": false,
   "toc_position": {},
   "toc_section_display": true,
   "toc_window_display": false
  }
 },
 "nbformat": 4,
 "nbformat_minor": 2
}
