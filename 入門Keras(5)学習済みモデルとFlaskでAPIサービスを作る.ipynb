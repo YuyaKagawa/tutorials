{
 "cells": [
  {
   "cell_type": "markdown",
   "metadata": {},
   "source": [
    "https://www.infiniteloop.co.jp/blog/2018/01/learning-keras-05/  \n",
    "2018年01月23日 (火) 著者 ： nobuh "
   ]
  },
  {
   "cell_type": "markdown",
   "metadata": {},
   "source": [
    "# training.py"
   ]
  },
  {
   "cell_type": "code",
   "execution_count": 1,
   "metadata": {
    "ExecuteTime": {
     "end_time": "2019-08-01T02:37:08.891980Z",
     "start_time": "2019-08-01T02:36:58.306217Z"
    }
   },
   "outputs": [
    {
     "name": "stderr",
     "output_type": "stream",
     "text": [
      "Using TensorFlow backend.\n"
     ]
    },
    {
     "name": "stdout",
     "output_type": "stream",
     "text": [
      "WARNING:tensorflow:From /home/kagawa/program_files/anaconda3/envs/MAIN/lib/python3.7/site-packages/tensorflow/python/framework/op_def_library.py:263: colocate_with (from tensorflow.python.framework.ops) is deprecated and will be removed in a future version.\n",
      "Instructions for updating:\n",
      "Colocations handled automatically by placer.\n",
      "WARNING:tensorflow:From /home/kagawa/program_files/anaconda3/envs/MAIN/lib/python3.7/site-packages/tensorflow/python/ops/math_ops.py:3066: to_int32 (from tensorflow.python.ops.math_ops) is deprecated and will be removed in a future version.\n",
      "Instructions for updating:\n",
      "Use tf.cast instead.\n",
      "Train on 120 samples, validate on 30 samples\n",
      "Epoch 1/40\n",
      "120/120 [==============================] - 1s 6ms/step - loss: 1.7483 - val_loss: 1.2433\n",
      "Epoch 2/40\n",
      "120/120 [==============================] - 0s 276us/step - loss: 0.8176 - val_loss: 0.8857\n",
      "Epoch 3/40\n",
      "120/120 [==============================] - 0s 277us/step - loss: 0.9922 - val_loss: 0.7674\n",
      "Epoch 4/40\n",
      "120/120 [==============================] - 0s 260us/step - loss: 0.7833 - val_loss: 0.5768\n",
      "Epoch 5/40\n",
      "120/120 [==============================] - 0s 277us/step - loss: 0.5650 - val_loss: 0.4165\n",
      "Epoch 6/40\n",
      "120/120 [==============================] - 0s 240us/step - loss: 0.4934 - val_loss: 0.6005\n",
      "Epoch 7/40\n",
      "120/120 [==============================] - 0s 242us/step - loss: 0.8877 - val_loss: 1.0208\n",
      "Epoch 8/40\n",
      "120/120 [==============================] - 0s 232us/step - loss: 0.7910 - val_loss: 1.9515\n",
      "Epoch 9/40\n",
      "120/120 [==============================] - 0s 309us/step - loss: 0.6218 - val_loss: 1.2880\n",
      "Epoch 10/40\n",
      "120/120 [==============================] - 0s 293us/step - loss: 0.4507 - val_loss: 0.4945\n",
      "Epoch 11/40\n",
      "120/120 [==============================] - 0s 307us/step - loss: 0.4504 - val_loss: 0.2779\n",
      "Epoch 12/40\n",
      "120/120 [==============================] - 0s 306us/step - loss: 0.3691 - val_loss: 0.3054\n",
      "Epoch 13/40\n",
      "120/120 [==============================] - 0s 273us/step - loss: 0.4554 - val_loss: 0.7713\n",
      "Epoch 14/40\n",
      "120/120 [==============================] - 0s 310us/step - loss: 0.4307 - val_loss: 0.3225\n",
      "Epoch 15/40\n",
      "120/120 [==============================] - 0s 302us/step - loss: 0.6407 - val_loss: 0.3816\n",
      "Epoch 16/40\n",
      "120/120 [==============================] - 0s 292us/step - loss: 0.3291 - val_loss: 1.2447\n",
      "Epoch 17/40\n",
      "120/120 [==============================] - 0s 288us/step - loss: 0.3498 - val_loss: 0.2199\n",
      "Epoch 18/40\n",
      "120/120 [==============================] - 0s 234us/step - loss: 0.3894 - val_loss: 0.2487\n",
      "Epoch 19/40\n",
      "120/120 [==============================] - 0s 301us/step - loss: 0.4661 - val_loss: 0.2226\n",
      "Epoch 20/40\n",
      "120/120 [==============================] - 0s 297us/step - loss: 0.4342 - val_loss: 0.2001\n",
      "Epoch 21/40\n",
      "120/120 [==============================] - 0s 297us/step - loss: 0.2808 - val_loss: 0.2590\n",
      "Epoch 22/40\n",
      "120/120 [==============================] - 0s 295us/step - loss: 0.3065 - val_loss: 0.1775\n",
      "Epoch 23/40\n",
      "120/120 [==============================] - 0s 272us/step - loss: 0.3594 - val_loss: 0.2245\n",
      "Epoch 24/40\n",
      "120/120 [==============================] - 0s 272us/step - loss: 0.2900 - val_loss: 0.1958\n",
      "Epoch 25/40\n",
      "120/120 [==============================] - 0s 272us/step - loss: 0.2729 - val_loss: 0.2717\n",
      "Epoch 26/40\n",
      "120/120 [==============================] - 0s 277us/step - loss: 0.2274 - val_loss: 0.2290\n",
      "Epoch 27/40\n",
      "120/120 [==============================] - 0s 325us/step - loss: 0.2782 - val_loss: 0.2843\n",
      "Epoch 28/40\n",
      "120/120 [==============================] - 0s 228us/step - loss: 0.2961 - val_loss: 1.0028\n",
      "Epoch 29/40\n",
      "120/120 [==============================] - 0s 261us/step - loss: 0.3940 - val_loss: 0.2430\n",
      "Epoch 30/40\n",
      "120/120 [==============================] - 0s 288us/step - loss: 0.2313 - val_loss: 0.1580\n",
      "Epoch 31/40\n",
      "120/120 [==============================] - 0s 231us/step - loss: 0.2307 - val_loss: 0.2691\n",
      "Epoch 32/40\n",
      "120/120 [==============================] - 0s 271us/step - loss: 0.2592 - val_loss: 0.3314\n",
      "Epoch 33/40\n",
      "120/120 [==============================] - 0s 283us/step - loss: 0.2230 - val_loss: 0.1451\n",
      "Epoch 34/40\n",
      "120/120 [==============================] - 0s 219us/step - loss: 0.2016 - val_loss: 0.1445\n",
      "Epoch 35/40\n",
      "120/120 [==============================] - 0s 238us/step - loss: 0.3373 - val_loss: 0.1525\n",
      "Epoch 36/40\n",
      "120/120 [==============================] - 0s 261us/step - loss: 0.1911 - val_loss: 0.3047\n",
      "Epoch 37/40\n",
      "120/120 [==============================] - 0s 258us/step - loss: 0.2164 - val_loss: 0.2331\n",
      "Epoch 38/40\n",
      "120/120 [==============================] - 0s 243us/step - loss: 0.1839 - val_loss: 0.1304\n",
      "Epoch 39/40\n",
      "120/120 [==============================] - 0s 251us/step - loss: 0.1820 - val_loss: 0.1340\n",
      "Epoch 40/40\n",
      "120/120 [==============================] - 0s 235us/step - loss: 0.1961 - val_loss: 0.1269\n",
      "\n",
      "RESULT\n",
      "[ True  True  True  True  True  True  True  True  True  True  True  True\n",
      "  True  True  True  True  True  True  True  True  True  True  True  True\n",
      "  True  True  True  True  True  True]\n"
     ]
    }
   ],
   "source": [
    "# model/training.py\n",
    "\n",
    "from keras.models import Sequential,load_model\n",
    "from keras.layers import Dense,Activation\n",
    "from keras.optimizers import SGD\n",
    "from keras.utils import np_utils\n",
    "from keras.callbacks import ModelCheckpoint\n",
    "from sklearn import datasets\n",
    "from sklearn.model_selection import train_test_split\n",
    "import numpy as np\n",
    "\n",
    "np.random.seed(0) # 乱数を固定値で初期化し再現性を持たせる\n",
    "\n",
    "\"\"\"\n",
    "データ準備\n",
    "\"\"\"\n",
    "\n",
    "iris=datasets.load_iris()\n",
    "X=iris.data\n",
    "T=iris.target\n",
    "\n",
    "T=np_utils.to_categorical(T) # 数値を、位置に変換 [0,1,2]==>[[1,0,0],[0,1,0],[0,0,1]]\n",
    "train_x,test_x,train_t,test_t=train_test_split(X,T,train_size=0.8,test_size=0.2) # 訓練とテストで分割\n",
    "\n",
    "\"\"\"\n",
    "モデル作成\n",
    "\"\"\"\n",
    "\n",
    "model=Sequential()\n",
    "model.add(Dense(input_dim=4,units=3))\n",
    "model.add(Activation(\"softmax\"))\n",
    "model.compile(loss=\"categorical_crossentropy\",optimizer=SGD(lr=0.1))\n",
    "\n",
    "\"\"\"\n",
    "トレーニング\n",
    "\"\"\"\n",
    "\n",
    "# 損失関数がより小さくなったときだけモデルをファイル保存するコールバック\n",
    "checkpointer=ModelCheckpoint(filepath=\"iris.h5\",save_best_only=True)\n",
    "\n",
    "# 学習結果をモニターしながらfitさせるために、テストデータとその正解をvalidation_dataとして付加\n",
    "model.fit(train_x,train_t,epochs=40,batch_size=10,validation_data=(test_x,test_t),callbacks=[checkpointer])\n",
    "\n",
    "\"\"\"\n",
    "新たに作ったモデルにファイルから読み込む\n",
    "\"\"\"\n",
    "app=load_model(\"iris.h5\")\n",
    "\n",
    "\"\"\"\n",
    "ファイルから作ったモデルで分類する\n",
    "\"\"\"\n",
    "Y=app.predict_classes(test_x,batch_size=10)\n",
    "\n",
    "\"\"\"\n",
    "結果検証\n",
    "\"\"\"\n",
    "\n",
    "_,T_index=np.where(test_t>0) # to_categoricalの逆変換\n",
    "print()\n",
    "print(\"RESULT\")\n",
    "print(Y==T_index)"
   ]
  },
  {
   "cell_type": "markdown",
   "metadata": {},
   "source": [
    "# app.py"
   ]
  },
  {
   "cell_type": "code",
   "execution_count": null,
   "metadata": {
    "ExecuteTime": {
     "end_time": "2019-08-01T02:37:15.941448Z",
     "start_time": "2019-08-01T02:37:14.232931Z"
    }
   },
   "outputs": [],
   "source": [
    "# docroot/app.py\n",
    "\n",
    "from flask import Flask,request\n",
    "import numpy as np\n",
    "import keras.models\n",
    "import tensorflow as tf\n",
    "\n",
    "app=Flask(__name__)\n",
    "\n",
    "# model and backend graph must be created on global\n",
    "global model,graph\n",
    "model=keras.models.load_model(\"../model/iris.h5\")\n",
    "graph=tf.get_default_graph()\n",
    "\n",
    "@app.route(\"/\",methods=[\"GET\"])\n",
    "def root():\n",
    "    names=[\n",
    "        'Iris-Setosa セトナ ヒオウギアヤメ',\n",
    "        'Iris-Versicolour バーシクル ブルーフラッグ',\n",
    "        'Iris-Virginica バージニカ'\n",
    "    ]\n",
    "    \n",
    "    sl=sw=pl=pw=0.0\n",
    "    sl=request.args.get(\"sepal_l\")\n",
    "    sw=request.args.get(\"sepal_w\")\n",
    "    pl=request.args.get(\"petal_l\")\n",
    "    pw=request.args.get(\"petal_w\")\n",
    "    parm=np.array([[sl,sw,pl,pw]])\n",
    "    \n",
    "    with graph.as_default(): # use the global graph\n",
    "        predicted=model.predict_classes(parm)\n",
    "        return names[predicted[0]]\n",
    "    \n",
    "if __name__==\"__main__\":\n",
    "    app.run(host=\"0.0.0.0\",port=5000)"
   ]
  },
  {
   "cell_type": "markdown",
   "metadata": {},
   "source": [
    "# ビルトインWebサーバー起動"
   ]
  },
  {
   "cell_type": "code",
   "execution_count": 3,
   "metadata": {
    "ExecuteTime": {
     "end_time": "2019-08-01T02:38:09.881644Z",
     "start_time": "2019-08-01T02:37:25.369524Z"
    },
    "scrolled": true
   },
   "outputs": [
    {
     "name": "stdout",
     "output_type": "stream",
     "text": [
      " * Serving Flask app \"app\" (lazy loading)\n",
      " * Environment: production\n",
      "   WARNING: This is a development server. Do not use it in a production deployment.\n",
      "   Use a production WSGI server instead.\n",
      " * Debug mode: off\n"
     ]
    },
    {
     "name": "stderr",
     "output_type": "stream",
     "text": [
      " * Running on http://0.0.0.0:5000/ (Press CTRL+C to quit)\n"
     ]
    }
   ],
   "source": [
    "%run 05_whichiris/docroot/app.py"
   ]
  },
  {
   "cell_type": "code",
   "execution_count": null,
   "metadata": {},
   "outputs": [],
   "source": []
  }
 ],
 "metadata": {
  "kernelspec": {
   "display_name": "Python 3",
   "language": "python",
   "name": "python3"
  },
  "language_info": {
   "codemirror_mode": {
    "name": "ipython",
    "version": 3
   },
   "file_extension": ".py",
   "mimetype": "text/x-python",
   "name": "python",
   "nbconvert_exporter": "python",
   "pygments_lexer": "ipython3",
   "version": "3.7.3"
  },
  "toc": {
   "base_numbering": 1,
   "nav_menu": {},
   "number_sections": true,
   "sideBar": true,
   "skip_h1_title": false,
   "title_cell": "Table of Contents",
   "title_sidebar": "Contents",
   "toc_cell": false,
   "toc_position": {},
   "toc_section_display": true,
   "toc_window_display": false
  }
 },
 "nbformat": 4,
 "nbformat_minor": 2
}
