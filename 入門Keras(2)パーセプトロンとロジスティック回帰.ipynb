{
 "cells": [
  {
   "cell_type": "markdown",
   "metadata": {},
   "source": [
    "入門 Keras (2) パーセプトロンとロジスティック回帰  \n",
    "https://www.infiniteloop.co.jp/blog/2017/12/learning-keras-02/  \n",
    "2017年12月12日 (火) 著者 ： nobuh "
   ]
  },
  {
   "cell_type": "markdown",
   "metadata": {},
   "source": [
    "# OR回路を学習"
   ]
  },
  {
   "cell_type": "markdown",
   "metadata": {},
   "source": [
    "## モデル構築"
   ]
  },
  {
   "cell_type": "code",
   "execution_count": 1,
   "metadata": {
    "ExecuteTime": {
     "end_time": "2019-07-29T11:56:00.778543Z",
     "start_time": "2019-07-29T11:56:00.769469Z"
    }
   },
   "outputs": [],
   "source": [
    "import numpy as np\n",
    "from keras.models import Sequential\n",
    "from keras.layers import Dense,Activation\n",
    "from keras.optimizers import SGD"
   ]
  },
  {
   "cell_type": "code",
   "execution_count": 2,
   "metadata": {
    "ExecuteTime": {
     "end_time": "2019-07-29T11:58:36.937532Z",
     "start_time": "2019-07-29T11:58:36.929063Z"
    }
   },
   "outputs": [],
   "source": [
    "np.random.seed(0)"
   ]
  },
  {
   "cell_type": "code",
   "execution_count": 3,
   "metadata": {
    "ExecuteTime": {
     "end_time": "2019-07-29T12:00:22.915913Z",
     "start_time": "2019-07-29T12:00:22.736003Z"
    }
   },
   "outputs": [
    {
     "name": "stdout",
     "output_type": "stream",
     "text": [
      "WARNING:tensorflow:From /home/kagawa/program_files/anaconda3/envs/MAIN/lib/python3.7/site-packages/tensorflow/python/framework/op_def_library.py:263: colocate_with (from tensorflow.python.framework.ops) is deprecated and will be removed in a future version.\n",
      "Instructions for updating:\n",
      "Colocations handled automatically by placer.\n"
     ]
    }
   ],
   "source": [
    "model=Sequential()\n",
    "model.add(Dense(input_dim=2,units=1)) # 入力次元2、出力ユニット数1の全結合\n",
    "model.add(Activation(\"sigmoid\")) # 活性化関数はシグモイド\n",
    "model.compile(loss=\"binary_crossentropy\",optimizer=SGD(lr=0.1)) "
   ]
  },
  {
   "cell_type": "markdown",
   "metadata": {},
   "source": [
    "## 訓練データ準備"
   ]
  },
  {
   "cell_type": "code",
   "execution_count": 4,
   "metadata": {
    "ExecuteTime": {
     "end_time": "2019-07-29T12:01:11.711519Z",
     "start_time": "2019-07-29T12:01:11.700723Z"
    }
   },
   "outputs": [],
   "source": [
    "X=np.array([[0,0],[0,1],[1,0],[1,1]])\n",
    "T=np.array([[0],[1],[1],[1]])"
   ]
  },
  {
   "cell_type": "markdown",
   "metadata": {},
   "source": [
    "## トレーニング"
   ]
  },
  {
   "cell_type": "code",
   "execution_count": 5,
   "metadata": {
    "ExecuteTime": {
     "end_time": "2019-07-29T12:01:40.612080Z",
     "start_time": "2019-07-29T12:01:38.939781Z"
    },
    "scrolled": true
   },
   "outputs": [
    {
     "name": "stdout",
     "output_type": "stream",
     "text": [
      "WARNING:tensorflow:From /home/kagawa/program_files/anaconda3/envs/MAIN/lib/python3.7/site-packages/tensorflow/python/ops/math_ops.py:3066: to_int32 (from tensorflow.python.ops.math_ops) is deprecated and will be removed in a future version.\n",
      "Instructions for updating:\n",
      "Use tf.cast instead.\n",
      "Epoch 1/30\n",
      "4/4 [==============================] - 1s 209ms/step - loss: 0.4352\n",
      "Epoch 2/30\n",
      "4/4 [==============================] - 0s 6ms/step - loss: 0.4204\n",
      "Epoch 3/30\n",
      "4/4 [==============================] - 0s 6ms/step - loss: 0.4079\n",
      "Epoch 4/30\n",
      "4/4 [==============================] - 0s 7ms/step - loss: 0.3971\n",
      "Epoch 5/30\n",
      "4/4 [==============================] - 0s 4ms/step - loss: 0.3876\n",
      "Epoch 6/30\n",
      "4/4 [==============================] - 0s 5ms/step - loss: 0.3790\n",
      "Epoch 7/30\n",
      "4/4 [==============================] - 0s 3ms/step - loss: 0.3717\n",
      "Epoch 8/30\n",
      "4/4 [==============================] - 0s 3ms/step - loss: 0.3650\n",
      "Epoch 9/30\n",
      "4/4 [==============================] - 0s 4ms/step - loss: 0.3586\n",
      "Epoch 10/30\n",
      "4/4 [==============================] - 0s 4ms/step - loss: 0.3528\n",
      "Epoch 11/30\n",
      "4/4 [==============================] - 0s 4ms/step - loss: 0.3476\n",
      "Epoch 12/30\n",
      "4/4 [==============================] - 0s 3ms/step - loss: 0.3425\n",
      "Epoch 13/30\n",
      "4/4 [==============================] - 0s 3ms/step - loss: 0.3378\n",
      "Epoch 14/30\n",
      "4/4 [==============================] - 0s 4ms/step - loss: 0.3333\n",
      "Epoch 15/30\n",
      "4/4 [==============================] - 0s 5ms/step - loss: 0.3291\n",
      "Epoch 16/30\n",
      "4/4 [==============================] - 0s 3ms/step - loss: 0.3250\n",
      "Epoch 17/30\n",
      "4/4 [==============================] - 0s 4ms/step - loss: 0.3210\n",
      "Epoch 18/30\n",
      "4/4 [==============================] - 0s 4ms/step - loss: 0.3172\n",
      "Epoch 19/30\n",
      "4/4 [==============================] - 0s 3ms/step - loss: 0.3136\n",
      "Epoch 20/30\n",
      "4/4 [==============================] - 0s 3ms/step - loss: 0.3100\n",
      "Epoch 21/30\n",
      "4/4 [==============================] - 0s 3ms/step - loss: 0.3067\n",
      "Epoch 22/30\n",
      "4/4 [==============================] - 0s 3ms/step - loss: 0.3032\n",
      "Epoch 23/30\n",
      "4/4 [==============================] - 0s 3ms/step - loss: 0.3000\n",
      "Epoch 24/30\n",
      "4/4 [==============================] - 0s 3ms/step - loss: 0.2968\n",
      "Epoch 25/30\n",
      "4/4 [==============================] - 0s 2ms/step - loss: 0.2938\n",
      "Epoch 26/30\n",
      "4/4 [==============================] - 0s 3ms/step - loss: 0.2908\n",
      "Epoch 27/30\n",
      "4/4 [==============================] - 0s 2ms/step - loss: 0.2878\n",
      "Epoch 28/30\n",
      "4/4 [==============================] - 0s 3ms/step - loss: 0.2850\n",
      "Epoch 29/30\n",
      "4/4 [==============================] - 0s 2ms/step - loss: 0.2821\n",
      "Epoch 30/30\n",
      "4/4 [==============================] - 0s 3ms/step - loss: 0.2794\n"
     ]
    },
    {
     "data": {
      "text/plain": [
       "<keras.callbacks.History at 0x7f7cf5dd7c18>"
      ]
     },
     "execution_count": 5,
     "metadata": {},
     "output_type": "execute_result"
    }
   ],
   "source": [
    "model.fit(X,T,epochs=30,batch_size=1)"
   ]
  },
  {
   "cell_type": "markdown",
   "metadata": {},
   "source": [
    "## 学習したモデルのテスト"
   ]
  },
  {
   "cell_type": "code",
   "execution_count": 8,
   "metadata": {
    "ExecuteTime": {
     "end_time": "2019-07-29T12:02:41.298266Z",
     "start_time": "2019-07-29T12:02:41.283071Z"
    }
   },
   "outputs": [
    {
     "name": "stdout",
     "output_type": "stream",
     "text": [
      "[[0]\n",
      " [1]\n",
      " [1]\n",
      " [1]]\n",
      "[[ True]\n",
      " [ True]\n",
      " [ True]\n",
      " [ True]]\n"
     ]
    }
   ],
   "source": [
    "Y=model.predict_classes(X,batch_size=1)\n",
    "print(Y)\n",
    "print(Y==T)"
   ]
  },
  {
   "cell_type": "markdown",
   "metadata": {},
   "source": [
    "# XOR回路を学習"
   ]
  },
  {
   "cell_type": "code",
   "execution_count": 10,
   "metadata": {
    "ExecuteTime": {
     "end_time": "2019-07-29T12:04:24.415334Z",
     "start_time": "2019-07-29T12:04:24.407688Z"
    }
   },
   "outputs": [],
   "source": [
    "X=np.array([[0,0],[0,1],[1,0],[1,1]])\n",
    "T=np.array([[0],[1],[1],[0]])"
   ]
  },
  {
   "cell_type": "markdown",
   "metadata": {},
   "source": [
    "## トレーニング"
   ]
  },
  {
   "cell_type": "code",
   "execution_count": 12,
   "metadata": {
    "ExecuteTime": {
     "end_time": "2019-07-29T12:04:39.126776Z",
     "start_time": "2019-07-29T12:04:38.615684Z"
    },
    "scrolled": true
   },
   "outputs": [
    {
     "name": "stdout",
     "output_type": "stream",
     "text": [
      "Epoch 1/30\n",
      "4/4 [==============================] - 0s 3ms/step - loss: 1.1031\n",
      "Epoch 2/30\n",
      "4/4 [==============================] - 0s 3ms/step - loss: 1.0478\n",
      "Epoch 3/30\n",
      "4/4 [==============================] - 0s 3ms/step - loss: 0.9988\n",
      "Epoch 4/30\n",
      "4/4 [==============================] - 0s 3ms/step - loss: 0.9582\n",
      "Epoch 5/30\n",
      "4/4 [==============================] - 0s 3ms/step - loss: 0.9234\n",
      "Epoch 6/30\n",
      "4/4 [==============================] - 0s 3ms/step - loss: 0.8945\n",
      "Epoch 7/30\n",
      "4/4 [==============================] - 0s 2ms/step - loss: 0.8706\n",
      "Epoch 8/30\n",
      "4/4 [==============================] - 0s 4ms/step - loss: 0.8490\n",
      "Epoch 9/30\n",
      "4/4 [==============================] - 0s 3ms/step - loss: 0.8333\n",
      "Epoch 10/30\n",
      "4/4 [==============================] - 0s 4ms/step - loss: 0.8209\n",
      "Epoch 11/30\n",
      "4/4 [==============================] - 0s 5ms/step - loss: 0.8099\n",
      "Epoch 12/30\n",
      "4/4 [==============================] - 0s 4ms/step - loss: 0.8012\n",
      "Epoch 13/30\n",
      "4/4 [==============================] - 0s 4ms/step - loss: 0.7945\n",
      "Epoch 14/30\n",
      "4/4 [==============================] - 0s 5ms/step - loss: 0.7887\n",
      "Epoch 15/30\n",
      "4/4 [==============================] - 0s 6ms/step - loss: 0.7841\n",
      "Epoch 16/30\n",
      "4/4 [==============================] - 0s 4ms/step - loss: 0.7803\n",
      "Epoch 17/30\n",
      "4/4 [==============================] - 0s 4ms/step - loss: 0.7765\n",
      "Epoch 18/30\n",
      "4/4 [==============================] - 0s 4ms/step - loss: 0.7731\n",
      "Epoch 19/30\n",
      "4/4 [==============================] - 0s 4ms/step - loss: 0.7702\n",
      "Epoch 20/30\n",
      "4/4 [==============================] - 0s 2ms/step - loss: 0.7680\n",
      "Epoch 21/30\n",
      "4/4 [==============================] - 0s 5ms/step - loss: 0.7657\n",
      "Epoch 22/30\n",
      "4/4 [==============================] - 0s 3ms/step - loss: 0.7645\n",
      "Epoch 23/30\n",
      "4/4 [==============================] - 0s 3ms/step - loss: 0.7631\n",
      "Epoch 24/30\n",
      "4/4 [==============================] - 0s 4ms/step - loss: 0.7613\n",
      "Epoch 25/30\n",
      "4/4 [==============================] - 0s 3ms/step - loss: 0.7602\n",
      "Epoch 26/30\n",
      "4/4 [==============================] - 0s 3ms/step - loss: 0.7589\n",
      "Epoch 27/30\n",
      "4/4 [==============================] - 0s 3ms/step - loss: 0.7569\n",
      "Epoch 28/30\n",
      "4/4 [==============================] - 0s 5ms/step - loss: 0.7567\n",
      "Epoch 29/30\n",
      "4/4 [==============================] - 0s 3ms/step - loss: 0.7555\n",
      "Epoch 30/30\n",
      "4/4 [==============================] - 0s 4ms/step - loss: 0.7536\n"
     ]
    },
    {
     "data": {
      "text/plain": [
       "<keras.callbacks.History at 0x7f7cc85b9208>"
      ]
     },
     "execution_count": 12,
     "metadata": {},
     "output_type": "execute_result"
    }
   ],
   "source": [
    "model.fit(X,T,epochs=30,batch_size=1)"
   ]
  },
  {
   "cell_type": "markdown",
   "metadata": {},
   "source": [
    "## テスト"
   ]
  },
  {
   "cell_type": "code",
   "execution_count": 13,
   "metadata": {
    "ExecuteTime": {
     "end_time": "2019-07-29T12:05:22.040827Z",
     "start_time": "2019-07-29T12:05:22.027693Z"
    }
   },
   "outputs": [
    {
     "name": "stdout",
     "output_type": "stream",
     "text": [
      "[[0]\n",
      " [1]\n",
      " [0]\n",
      " [1]]\n",
      "[[ True]\n",
      " [ True]\n",
      " [False]\n",
      " [False]]\n"
     ]
    }
   ],
   "source": [
    "Y=model.predict_classes(X,batch_size=1)\n",
    "print(Y)\n",
    "print(Y==T)"
   ]
  },
  {
   "cell_type": "code",
   "execution_count": null,
   "metadata": {},
   "outputs": [],
   "source": []
  }
 ],
 "metadata": {
  "kernelspec": {
   "display_name": "Python 3",
   "language": "python",
   "name": "python3"
  },
  "language_info": {
   "codemirror_mode": {
    "name": "ipython",
    "version": 3
   },
   "file_extension": ".py",
   "mimetype": "text/x-python",
   "name": "python",
   "nbconvert_exporter": "python",
   "pygments_lexer": "ipython3",
   "version": "3.7.3"
  },
  "toc": {
   "base_numbering": 1,
   "nav_menu": {},
   "number_sections": true,
   "sideBar": true,
   "skip_h1_title": false,
   "title_cell": "Table of Contents",
   "title_sidebar": "Contents",
   "toc_cell": false,
   "toc_position": {},
   "toc_section_display": true,
   "toc_window_display": false
  }
 },
 "nbformat": 4,
 "nbformat_minor": 2
}
