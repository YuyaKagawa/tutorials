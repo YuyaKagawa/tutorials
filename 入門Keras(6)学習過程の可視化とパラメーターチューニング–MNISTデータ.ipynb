{
 "cells": [
  {
   "cell_type": "markdown",
   "metadata": {
    "ExecuteTime": {
     "end_time": "2019-07-31T00:03:56.003796Z",
     "start_time": "2019-07-31T00:03:55.996687Z"
    }
   },
   "source": [
    "https://www.infiniteloop.co.jp/blog/2018/02/learning-keras-06/  \n",
    "2018年02月06日 (火) 著者 ： nobuh "
   ]
  },
  {
   "cell_type": "markdown",
   "metadata": {},
   "source": [
    "# MNISTデータの取得"
   ]
  },
  {
   "cell_type": "code",
   "execution_count": 1,
   "metadata": {
    "ExecuteTime": {
     "end_time": "2019-08-01T01:51:42.933993Z",
     "start_time": "2019-08-01T01:51:30.102010Z"
    }
   },
   "outputs": [
    {
     "name": "stderr",
     "output_type": "stream",
     "text": [
      "Using TensorFlow backend.\n"
     ]
    }
   ],
   "source": [
    "from keras.datasets import mnist\n",
    "\n",
    "# x1: 入力データ\n",
    "# t1: 正解データ（ターゲット）\n",
    "# ex1: 評価用入力データ\n",
    "# et1: 評価用正解データ（ターゲット）\n",
    "(x1,t1),(ex1,et1)=mnist.load_data()"
   ]
  },
  {
   "cell_type": "code",
   "execution_count": 2,
   "metadata": {
    "ExecuteTime": {
     "end_time": "2019-08-01T01:51:43.881352Z",
     "start_time": "2019-08-01T01:51:43.871802Z"
    }
   },
   "outputs": [
    {
     "name": "stdout",
     "output_type": "stream",
     "text": [
      "x1.shape =  (60000, 28, 28)\n",
      "t1.shape =  (60000,)\n"
     ]
    }
   ],
   "source": [
    "print(\"x1.shape = \",x1.shape)\n",
    "print(\"t1.shape = \",t1.shape)"
   ]
  },
  {
   "cell_type": "code",
   "execution_count": 3,
   "metadata": {
    "ExecuteTime": {
     "end_time": "2019-08-01T01:51:45.271812Z",
     "start_time": "2019-08-01T01:51:45.258146Z"
    },
    "scrolled": false
   },
   "outputs": [
    {
     "name": "stdout",
     "output_type": "stream",
     "text": [
      "[[  0   0   0   0   0   0   0   0   0   0   0   0   0   0   0   0   0   0\n",
      "    0   0   0   0   0   0   0   0   0   0]\n",
      " [  0   0   0   0   0   0   0   0   0   0   0   0   0   0   0   0   0   0\n",
      "    0   0   0   0   0   0   0   0   0   0]\n",
      " [  0   0   0   0   0   0   0   0   0   0   0   0   0   0   0   0   0   0\n",
      "    0   0   0   0   0   0   0   0   0   0]\n",
      " [  0   0   0   0   0   0   0   0   0   0   0   0   0   0   0   0   0   0\n",
      "    0   0   0   0   0   0   0   0   0   0]\n",
      " [  0   0   0   0   0   0   0   0   0   0   0   0   0   0   0   0   0   0\n",
      "    0   0   0   0   0   0   0   0   0   0]\n",
      " [  0   0   0   0   0   0   0   0   0   0   0   0   3  18  18  18 126 136\n",
      "  175  26 166 255 247 127   0   0   0   0]\n",
      " [  0   0   0   0   0   0   0   0  30  36  94 154 170 253 253 253 253 253\n",
      "  225 172 253 242 195  64   0   0   0   0]\n",
      " [  0   0   0   0   0   0   0  49 238 253 253 253 253 253 253 253 253 251\n",
      "   93  82  82  56  39   0   0   0   0   0]\n",
      " [  0   0   0   0   0   0   0  18 219 253 253 253 253 253 198 182 247 241\n",
      "    0   0   0   0   0   0   0   0   0   0]\n",
      " [  0   0   0   0   0   0   0   0  80 156 107 253 253 205  11   0  43 154\n",
      "    0   0   0   0   0   0   0   0   0   0]\n",
      " [  0   0   0   0   0   0   0   0   0  14   1 154 253  90   0   0   0   0\n",
      "    0   0   0   0   0   0   0   0   0   0]\n",
      " [  0   0   0   0   0   0   0   0   0   0   0 139 253 190   2   0   0   0\n",
      "    0   0   0   0   0   0   0   0   0   0]\n",
      " [  0   0   0   0   0   0   0   0   0   0   0  11 190 253  70   0   0   0\n",
      "    0   0   0   0   0   0   0   0   0   0]\n",
      " [  0   0   0   0   0   0   0   0   0   0   0   0  35 241 225 160 108   1\n",
      "    0   0   0   0   0   0   0   0   0   0]\n",
      " [  0   0   0   0   0   0   0   0   0   0   0   0   0  81 240 253 253 119\n",
      "   25   0   0   0   0   0   0   0   0   0]\n",
      " [  0   0   0   0   0   0   0   0   0   0   0   0   0   0  45 186 253 253\n",
      "  150  27   0   0   0   0   0   0   0   0]\n",
      " [  0   0   0   0   0   0   0   0   0   0   0   0   0   0   0  16  93 252\n",
      "  253 187   0   0   0   0   0   0   0   0]\n",
      " [  0   0   0   0   0   0   0   0   0   0   0   0   0   0   0   0   0 249\n",
      "  253 249  64   0   0   0   0   0   0   0]\n",
      " [  0   0   0   0   0   0   0   0   0   0   0   0   0   0  46 130 183 253\n",
      "  253 207   2   0   0   0   0   0   0   0]\n",
      " [  0   0   0   0   0   0   0   0   0   0   0   0  39 148 229 253 253 253\n",
      "  250 182   0   0   0   0   0   0   0   0]\n",
      " [  0   0   0   0   0   0   0   0   0   0  24 114 221 253 253 253 253 201\n",
      "   78   0   0   0   0   0   0   0   0   0]\n",
      " [  0   0   0   0   0   0   0   0  23  66 213 253 253 253 253 198  81   2\n",
      "    0   0   0   0   0   0   0   0   0   0]\n",
      " [  0   0   0   0   0   0  18 171 219 253 253 253 253 195  80   9   0   0\n",
      "    0   0   0   0   0   0   0   0   0   0]\n",
      " [  0   0   0   0  55 172 226 253 253 253 253 244 133  11   0   0   0   0\n",
      "    0   0   0   0   0   0   0   0   0   0]\n",
      " [  0   0   0   0 136 253 253 253 212 135 132  16   0   0   0   0   0   0\n",
      "    0   0   0   0   0   0   0   0   0   0]\n",
      " [  0   0   0   0   0   0   0   0   0   0   0   0   0   0   0   0   0   0\n",
      "    0   0   0   0   0   0   0   0   0   0]\n",
      " [  0   0   0   0   0   0   0   0   0   0   0   0   0   0   0   0   0   0\n",
      "    0   0   0   0   0   0   0   0   0   0]\n",
      " [  0   0   0   0   0   0   0   0   0   0   0   0   0   0   0   0   0   0\n",
      "    0   0   0   0   0   0   0   0   0   0]]\n"
     ]
    }
   ],
   "source": [
    "import numpy as np\n",
    "\n",
    "np.set_printoptions(edgeitems=28)\n",
    "np.core.arrayprint._line_width=200\n",
    "print(x1[0])"
   ]
  },
  {
   "cell_type": "code",
   "execution_count": 4,
   "metadata": {
    "ExecuteTime": {
     "end_time": "2019-08-01T01:51:47.715429Z",
     "start_time": "2019-08-01T01:51:47.709616Z"
    }
   },
   "outputs": [],
   "source": [
    "x2=x1.reshape(len(x1),x1[0].size) # 60000, 28x28に\n",
    "ex2=ex1.reshape(len(ex1),ex1[0].size)"
   ]
  },
  {
   "cell_type": "code",
   "execution_count": 5,
   "metadata": {
    "ExecuteTime": {
     "end_time": "2019-08-01T01:51:48.375566Z",
     "start_time": "2019-08-01T01:51:48.367441Z"
    }
   },
   "outputs": [
    {
     "name": "stdout",
     "output_type": "stream",
     "text": [
      "(60000, 784) (10000, 784)\n"
     ]
    }
   ],
   "source": [
    "print(x2.shape,ex2.shape)"
   ]
  },
  {
   "cell_type": "code",
   "execution_count": 6,
   "metadata": {
    "ExecuteTime": {
     "end_time": "2019-08-01T01:51:48.993644Z",
     "start_time": "2019-08-01T01:51:48.986241Z"
    }
   },
   "outputs": [
    {
     "name": "stdout",
     "output_type": "stream",
     "text": [
      "5\n"
     ]
    }
   ],
   "source": [
    "print(t1[0])"
   ]
  },
  {
   "cell_type": "code",
   "execution_count": 7,
   "metadata": {
    "ExecuteTime": {
     "end_time": "2019-08-01T01:51:49.745765Z",
     "start_time": "2019-08-01T01:51:49.724982Z"
    }
   },
   "outputs": [
    {
     "name": "stdout",
     "output_type": "stream",
     "text": [
      "[0. 0. 0. 0. 0. 1. 0. 0. 0. 0.]\n",
      "[0. 0. 0. 0. 0. 0. 0. 1. 0. 0.]\n"
     ]
    }
   ],
   "source": [
    "from keras.utils import np_utils\n",
    "\n",
    "t2=np_utils.to_categorical(t1)\n",
    "et2=np_utils.to_categorical(et1)\n",
    "\n",
    "# 訓練用と評価用から1個ずつ表示\n",
    "print(t2[0])\n",
    "print(et2[0])"
   ]
  },
  {
   "cell_type": "markdown",
   "metadata": {},
   "source": [
    "# モデルの作成と学習"
   ]
  },
  {
   "cell_type": "code",
   "execution_count": 8,
   "metadata": {
    "ExecuteTime": {
     "end_time": "2019-08-01T01:51:51.970042Z",
     "start_time": "2019-08-01T01:51:51.750846Z"
    }
   },
   "outputs": [
    {
     "name": "stdout",
     "output_type": "stream",
     "text": [
      "WARNING:tensorflow:From /home/kagawa/program_files/anaconda3/envs/MAIN/lib/python3.7/site-packages/tensorflow/python/framework/op_def_library.py:263: colocate_with (from tensorflow.python.framework.ops) is deprecated and will be removed in a future version.\n",
      "Instructions for updating:\n",
      "Colocations handled automatically by placer.\n"
     ]
    }
   ],
   "source": [
    "from keras.layers import Dense,Activation\n",
    "from keras.models import Sequential\n",
    "from keras.optimizers import SGD\n",
    "\n",
    "n_in=x2[0].size\n",
    "n_out=t2[0].size\n",
    "hidden_layers=2\n",
    "hidden_units=30\n",
    "activation_function=\"sigmoid\"\n",
    "learning_rate=0.1\n",
    "\n",
    "# モデル定義\n",
    "np.random.seed(0) # 乱数を固定値で初期化し再現性を持たせる\n",
    "model=Sequential()\n",
    "\n",
    "# 入力層\n",
    "model.add(Dense(hidden_units,input_dim=n_in)) # 入力層から出力するユニット数は隠し層のユニット数と同数に\n",
    "model.add(Activation(activation_function))\n",
    "\n",
    "# 隠し層\n",
    "for _ in range(hidden_layers):\n",
    "    model.add(Dense(hidden_units))\n",
    "    model.add(Activation(activation_function))\n",
    "    \n",
    "# 出力層\n",
    "model.add(Dense(n_out))\n",
    "model.add(Activation(\"softmax\"))\n",
    "\n",
    "# モデル生成\n",
    "model.compile(loss=\"categorical_crossentropy\",optimizer=SGD(lr=learning_rate))"
   ]
  },
  {
   "cell_type": "code",
   "execution_count": 9,
   "metadata": {
    "ExecuteTime": {
     "end_time": "2019-08-01T01:52:13.632640Z",
     "start_time": "2019-08-01T01:51:53.385520Z"
    }
   },
   "outputs": [
    {
     "name": "stdout",
     "output_type": "stream",
     "text": [
      "WARNING:tensorflow:From /home/kagawa/program_files/anaconda3/envs/MAIN/lib/python3.7/site-packages/tensorflow/python/ops/math_ops.py:3066: to_int32 (from tensorflow.python.ops.math_ops) is deprecated and will be removed in a future version.\n",
      "Instructions for updating:\n",
      "Use tf.cast instead.\n",
      "Epoch 1/5\n",
      "60000/60000 [==============================] - 5s 80us/step - loss: 1.5773\n",
      "Epoch 2/5\n",
      "60000/60000 [==============================] - 4s 64us/step - loss: 1.0760\n",
      "Epoch 3/5\n",
      "60000/60000 [==============================] - 4s 64us/step - loss: 1.0766\n",
      "Epoch 4/5\n",
      "60000/60000 [==============================] - 4s 61us/step - loss: 0.9981\n",
      "Epoch 5/5\n",
      "60000/60000 [==============================] - 4s 62us/step - loss: 1.0105\n"
     ]
    },
    {
     "data": {
      "text/plain": [
       "<keras.callbacks.History at 0x7fea2c41fac8>"
      ]
     },
     "execution_count": 9,
     "metadata": {},
     "output_type": "execute_result"
    }
   ],
   "source": [
    "epochs=5\n",
    "batch_size=50\n",
    "model.fit(x2,t2,epochs=epochs,batch_size=batch_size)"
   ]
  },
  {
   "cell_type": "code",
   "execution_count": 10,
   "metadata": {
    "ExecuteTime": {
     "end_time": "2019-08-01T01:52:16.196479Z",
     "start_time": "2019-08-01T01:52:15.857500Z"
    }
   },
   "outputs": [
    {
     "name": "stdout",
     "output_type": "stream",
     "text": [
      "\n",
      "**** RESULT ****\n",
      "[ True  True  True  True  True  True False False  True  True  True False\n",
      "  True  True  True False False  True  True  True False  True False False\n",
      "  True  True  True  True ...  True  True  True False  True  True  True\n",
      "  True False  True False  True  True False  True  True False  True  True\n",
      " False False  True  True False  True False False  True]\n"
     ]
    }
   ],
   "source": [
    "result=model.predict_classes(ex2,batch_size=batch_size)\n",
    "print()\n",
    "print(\"**** RESULT ****\")\n",
    "_,et3=np.where(et2>0) # to_categoricalの逆変換\n",
    "print(result==et3)"
   ]
  },
  {
   "cell_type": "code",
   "execution_count": 11,
   "metadata": {
    "ExecuteTime": {
     "end_time": "2019-08-01T01:52:17.760255Z",
     "start_time": "2019-08-01T01:52:17.663197Z"
    }
   },
   "outputs": [
    {
     "data": {
      "text/plain": [
       "0.653"
      ]
     },
     "execution_count": 11,
     "metadata": {},
     "output_type": "execute_result"
    }
   ],
   "source": [
    "sum(result==et3)/10000"
   ]
  },
  {
   "cell_type": "markdown",
   "metadata": {},
   "source": [
    "# Keras内で評価を測定する"
   ]
  },
  {
   "cell_type": "code",
   "execution_count": 12,
   "metadata": {
    "ExecuteTime": {
     "end_time": "2019-08-01T01:52:41.203023Z",
     "start_time": "2019-08-01T01:52:19.992295Z"
    }
   },
   "outputs": [
    {
     "name": "stdout",
     "output_type": "stream",
     "text": [
      "Epoch 1/5\n",
      "60000/60000 [==============================] - 5s 81us/step - loss: 0.9593 - acc: 0.6748\n",
      "Epoch 2/5\n",
      "60000/60000 [==============================] - 4s 63us/step - loss: 1.0103 - acc: 0.6556\n",
      "Epoch 3/5\n",
      "60000/60000 [==============================] - 4s 62us/step - loss: 0.9863 - acc: 0.6682\n",
      "Epoch 4/5\n",
      "60000/60000 [==============================] - 4s 66us/step - loss: 0.9908 - acc: 0.6623\n",
      "Epoch 5/5\n",
      "60000/60000 [==============================] - 4s 73us/step - loss: 1.0042 - acc: 0.6562\n"
     ]
    },
    {
     "data": {
      "text/plain": [
       "<keras.callbacks.History at 0x7fea2c16b2b0>"
      ]
     },
     "execution_count": 12,
     "metadata": {},
     "output_type": "execute_result"
    }
   ],
   "source": [
    "# モデル生成\n",
    "model.compile(loss=\"categorical_crossentropy\",optimizer=SGD(lr=learning_rate),metrics=[\"accuracy\"])\n",
    "model.fit(x2,t2,epochs=epochs,batch_size=batch_size)"
   ]
  },
  {
   "cell_type": "code",
   "execution_count": 13,
   "metadata": {
    "ExecuteTime": {
     "end_time": "2019-08-01T01:52:43.253061Z",
     "start_time": "2019-08-01T01:52:43.243790Z"
    }
   },
   "outputs": [
    {
     "data": {
      "text/plain": [
       "['loss', 'acc']"
      ]
     },
     "execution_count": 13,
     "metadata": {},
     "output_type": "execute_result"
    }
   ],
   "source": [
    "model.metrics_names"
   ]
  },
  {
   "cell_type": "code",
   "execution_count": 14,
   "metadata": {
    "ExecuteTime": {
     "end_time": "2019-08-01T01:52:46.673362Z",
     "start_time": "2019-08-01T01:52:45.961753Z"
    }
   },
   "outputs": [
    {
     "name": "stdout",
     "output_type": "stream",
     "text": [
      "10000/10000 [==============================] - 1s 70us/step\n",
      "**** RESULT ****\n",
      "Accuracy =  0.605\n"
     ]
    }
   ],
   "source": [
    "\"\"\"\n",
    "結果評価\n",
    "\"\"\"\n",
    "\n",
    "result=model.evaluate(ex2,et2)\n",
    "print(\"**** RESULT ****\")\n",
    "print(\"Accuracy = \",result[1]) # 2つ目がacc"
   ]
  },
  {
   "cell_type": "markdown",
   "metadata": {},
   "source": [
    "# 学習過程の可視化"
   ]
  },
  {
   "cell_type": "code",
   "execution_count": 15,
   "metadata": {
    "ExecuteTime": {
     "end_time": "2019-08-01T01:53:10.009868Z",
     "start_time": "2019-08-01T01:52:48.664724Z"
    },
    "scrolled": true
   },
   "outputs": [
    {
     "name": "stdout",
     "output_type": "stream",
     "text": [
      "Train on 60000 samples, validate on 10000 samples\n",
      "Epoch 1/5\n",
      "60000/60000 [==============================] - 4s 70us/step - loss: 1.0131 - acc: 0.6462 - val_loss: 1.0778 - val_acc: 0.6127\n",
      "Epoch 2/5\n",
      "60000/60000 [==============================] - 4s 71us/step - loss: 0.9609 - acc: 0.6692 - val_loss: 0.9307 - val_acc: 0.6899\n",
      "Epoch 3/5\n",
      "60000/60000 [==============================] - 4s 69us/step - loss: 0.9462 - acc: 0.6729 - val_loss: 0.9040 - val_acc: 0.6720\n",
      "Epoch 4/5\n",
      "60000/60000 [==============================] - 4s 72us/step - loss: 0.8881 - acc: 0.6915 - val_loss: 0.8092 - val_acc: 0.7317\n",
      "Epoch 5/5\n",
      "60000/60000 [==============================] - 4s 72us/step - loss: 0.8851 - acc: 0.6826 - val_loss: 0.8364 - val_acc: 0.7073\n"
     ]
    }
   ],
   "source": [
    "result=model.fit(x2,t2,epochs=epochs,batch_size=batch_size,validation_data=(ex2,et2)) # 評価用データを付けて学習"
   ]
  },
  {
   "cell_type": "code",
   "execution_count": 16,
   "metadata": {
    "ExecuteTime": {
     "end_time": "2019-08-01T01:53:11.109601Z",
     "start_time": "2019-08-01T01:53:11.100149Z"
    }
   },
   "outputs": [
    {
     "data": {
      "text/plain": [
       "dict_keys(['val_loss', 'val_acc', 'loss', 'acc'])"
      ]
     },
     "execution_count": 16,
     "metadata": {},
     "output_type": "execute_result"
    }
   ],
   "source": [
    "result.history.keys() # ヒストリーデータのラベルを見てみる"
   ]
  },
  {
   "cell_type": "code",
   "execution_count": 17,
   "metadata": {
    "ExecuteTime": {
     "end_time": "2019-08-01T01:53:14.858845Z",
     "start_time": "2019-08-01T01:53:13.893111Z"
    }
   },
   "outputs": [
    {
     "data": {
      "image/png": "[encoded data removed]",
      "text/plain": [
       "<Figure size 432x288 with 1 Axes>"
      ]
     },
     "metadata": {
      "needs_background": "light"
     },
     "output_type": "display_data"
    }
   ],
   "source": [
    "import matplotlib.pyplot as plt\n",
    "%matplotlib inline\n",
    "\n",
    "plt.plot(range(1,epochs+1),result.history[\"acc\"],label=\"training\")\n",
    "plt.plot(range(1,epochs+1),result.history[\"val_acc\"],label=\"validation\")\n",
    "plt.xlabel(\"Epochs\")\n",
    "plt.ylabel(\"Accuracy\")\n",
    "plt.legend()\n",
    "plt.show()"
   ]
  },
  {
   "cell_type": "markdown",
   "metadata": {},
   "source": [
    "# チューニング: 学習率"
   ]
  },
  {
   "cell_type": "code",
   "execution_count": 18,
   "metadata": {
    "ExecuteTime": {
     "end_time": "2019-08-01T01:53:42.335093Z",
     "start_time": "2019-08-01T01:53:18.932468Z"
    }
   },
   "outputs": [
    {
     "name": "stdout",
     "output_type": "stream",
     "text": [
      "Train on 60000 samples, validate on 10000 samples\n",
      "Epoch 1/5\n",
      "60000/60000 [==============================] - 5s 87us/step - loss: 0.8177 - acc: 0.7237 - val_loss: 0.7964 - val_acc: 0.7345\n",
      "Epoch 2/5\n",
      "60000/60000 [==============================] - 4s 70us/step - loss: 0.7917 - acc: 0.7330 - val_loss: 0.7801 - val_acc: 0.7402\n",
      "Epoch 3/5\n",
      "60000/60000 [==============================] - 4s 71us/step - loss: 0.7723 - acc: 0.7426 - val_loss: 0.7534 - val_acc: 0.7521\n",
      "Epoch 4/5\n",
      "60000/60000 [==============================] - 4s 70us/step - loss: 0.7566 - acc: 0.7489 - val_loss: 0.7378 - val_acc: 0.7562\n",
      "Epoch 5/5\n",
      "60000/60000 [==============================] - 5s 76us/step - loss: 0.7458 - acc: 0.7535 - val_loss: 0.7243 - val_acc: 0.7638\n"
     ]
    },
    {
     "data": {
      "image/png": "[encoded data removed]",
      "text/plain": [
       "<Figure size 432x288 with 1 Axes>"
      ]
     },
     "metadata": {
      "needs_background": "light"
     },
     "output_type": "display_data"
    }
   ],
   "source": [
    "learning_rate=0.01 # 学習率を0.01に下げる\n",
    "\n",
    "model.compile(loss=\"categorical_crossentropy\",optimizer=SGD(lr=learning_rate),metrics=[\"accuracy\"])\n",
    "result=model.fit(x2,t2,epochs=epochs,batch_size=batch_size,validation_data=(ex2,et2)) # 評価用データを付けて学習\n",
    "\n",
    "plt.plot(range(1,epochs+1),result.history[\"acc\"],label=\"training\")\n",
    "plt.plot(range(1,epochs+1),result.history[\"val_acc\"],label=\"validation\")\n",
    "plt.xlabel(\"Epochs\")\n",
    "plt.ylabel(\"Accuracy\")\n",
    "plt.legend()\n",
    "plt.show()"
   ]
  },
  {
   "cell_type": "markdown",
   "metadata": {},
   "source": [
    "# チューニング: 中間層追加"
   ]
  },
  {
   "cell_type": "code",
   "execution_count": 19,
   "metadata": {
    "ExecuteTime": {
     "end_time": "2019-08-01T01:54:15.767778Z",
     "start_time": "2019-08-01T01:53:46.215882Z"
    }
   },
   "outputs": [
    {
     "name": "stdout",
     "output_type": "stream",
     "text": [
      "Train on 60000 samples, validate on 10000 samples\n",
      "Epoch 1/5\n",
      "60000/60000 [==============================] - 7s 121us/step - loss: 2.3079 - acc: 0.1101 - val_loss: 2.3014 - val_acc: 0.1135\n",
      "Epoch 2/5\n",
      "60000/60000 [==============================] - 5s 84us/step - loss: 2.3016 - acc: 0.1113 - val_loss: 2.3012 - val_acc: 0.1135\n",
      "Epoch 3/5\n",
      "60000/60000 [==============================] - 5s 86us/step - loss: 2.3017 - acc: 0.1117 - val_loss: 2.3011 - val_acc: 0.1135\n",
      "Epoch 4/5\n",
      "60000/60000 [==============================] - 5s 86us/step - loss: 2.3017 - acc: 0.1122 - val_loss: 2.3015 - val_acc: 0.1135\n",
      "Epoch 5/5\n",
      "60000/60000 [==============================] - 5s 89us/step - loss: 2.3016 - acc: 0.1121 - val_loss: 2.3014 - val_acc: 0.1135\n"
     ]
    },
    {
     "data": {
      "image/png": "[encoded data removed]",
      "text/plain": [
       "<Figure size 432x288 with 1 Axes>"
      ]
     },
     "metadata": {
      "needs_background": "light"
     },
     "output_type": "display_data"
    }
   ],
   "source": [
    "hidden_layers=10 # 中間層の数を10に\n",
    "\n",
    "# モデル定義\n",
    "np.random.seed(0) # 乱数を固定値で初期化し再現性を持たせる\n",
    "model=Sequential()\n",
    "\n",
    "# 入力層\n",
    "model.add(Dense(hidden_units,input_dim=n_in)) # 入力層から出力するユニット数は隠し層のユニット数と同数に\n",
    "model.add(Activation(activation_function))\n",
    "\n",
    "# 隠し層\n",
    "for _ in range(hidden_layers):\n",
    "    model.add(Dense(hidden_units))\n",
    "    model.add(Activation(activation_function))\n",
    "    \n",
    "# 出力層\n",
    "model.add(Dense(n_out))\n",
    "model.add(Activation(\"softmax\"))\n",
    "\n",
    "# モデル生成\n",
    "model.compile(loss=\"categorical_crossentropy\",optimizer=SGD(lr=learning_rate),metrics=[\"accuracy\"])\n",
    "\n",
    "result=model.fit(x2,t2,epochs=epochs,batch_size=batch_size,validation_data=(ex2,et2)) # 評価用データを付けて学習\n",
    "\n",
    "plt.plot(range(1,epochs+1),result.history[\"acc\"],label=\"training\")\n",
    "plt.plot(range(1,epochs+1),result.history[\"val_acc\"],label=\"validation\")\n",
    "plt.xlabel(\"Epochs\")\n",
    "plt.ylabel(\"Accuracy\")\n",
    "plt.legend()\n",
    "plt.show()"
   ]
  },
  {
   "cell_type": "markdown",
   "metadata": {},
   "source": [
    "# チューニング: 活性化関数"
   ]
  },
  {
   "cell_type": "code",
   "execution_count": 20,
   "metadata": {
    "ExecuteTime": {
     "end_time": "2019-08-01T01:55:33.576682Z",
     "start_time": "2019-08-01T01:54:36.222481Z"
    }
   },
   "outputs": [
    {
     "name": "stdout",
     "output_type": "stream",
     "text": [
      "Train on 60000 samples, validate on 10000 samples\n",
      "Epoch 1/5\n",
      "60000/60000 [==============================] - 13s 222us/step - loss: 0.6824 - acc: 0.7826 - val_loss: 0.3572 - val_acc: 0.8958\n",
      "Epoch 2/5\n",
      "60000/60000 [==============================] - 11s 183us/step - loss: 0.3127 - acc: 0.9108 - val_loss: 0.2560 - val_acc: 0.9270\n",
      "Epoch 3/5\n",
      "60000/60000 [==============================] - 10s 174us/step - loss: 0.2463 - acc: 0.9298 - val_loss: 0.2500 - val_acc: 0.9287\n",
      "Epoch 4/5\n",
      "60000/60000 [==============================] - 10s 174us/step - loss: 0.2110 - acc: 0.9402 - val_loss: 0.1992 - val_acc: 0.9423\n",
      "Epoch 5/5\n",
      "60000/60000 [==============================] - 11s 180us/step - loss: 0.1890 - acc: 0.9458 - val_loss: 0.1995 - val_acc: 0.9436\n"
     ]
    },
    {
     "data": {
      "image/png": "[encoded data removed]",
      "text/plain": [
       "<Figure size 432x288 with 1 Axes>"
      ]
     },
     "metadata": {
      "needs_background": "light"
     },
     "output_type": "display_data"
    }
   ],
   "source": [
    "activation_function=\"relu\" # 活性化関数をReLUにする\n",
    "\n",
    "# モデル定義\n",
    "np.random.seed(0) # 乱数を固定値で初期化し再現性を持たせる\n",
    "model=Sequential()\n",
    "\n",
    "# 入力層\n",
    "model.add(Dense(hidden_units,input_dim=n_in)) # 入力層から出力するユニット数は隠し層のユニット数と同数に\n",
    "model.add(Activation(activation_function))\n",
    "\n",
    "# 隠し層\n",
    "for _ in range(hidden_layers):\n",
    "    model.add(Dense(hidden_units))\n",
    "    model.add(Activation(activation_function))\n",
    "    \n",
    "# 出力層\n",
    "model.add(Dense(n_out))\n",
    "model.add(Activation(\"softmax\"))\n",
    "\n",
    "# モデル生成\n",
    "model.compile(loss=\"categorical_crossentropy\",optimizer=SGD(lr=learning_rate),metrics=[\"accuracy\"])\n",
    "\n",
    "result=model.fit(x2,t2,epochs=epochs,batch_size=batch_size,validation_data=(ex2,et2)) # 評価用データを付けて学習\n",
    "\n",
    "plt.plot(range(1,epochs+1),result.history[\"acc\"],label=\"training\")\n",
    "plt.plot(range(1,epochs+1),result.history[\"val_acc\"],label=\"validation\")\n",
    "plt.xlabel(\"Epochs\")\n",
    "plt.ylabel(\"Accuracy\")\n",
    "plt.legend()\n",
    "plt.show()"
   ]
  },
  {
   "cell_type": "code",
   "execution_count": null,
   "metadata": {},
   "outputs": [],
   "source": []
  }
 ],
 "metadata": {
  "kernelspec": {
   "display_name": "Python 3",
   "language": "python",
   "name": "python3"
  },
  "language_info": {
   "codemirror_mode": {
    "name": "ipython",
    "version": 3
   },
   "file_extension": ".py",
   "mimetype": "text/x-python",
   "name": "python",
   "nbconvert_exporter": "python",
   "pygments_lexer": "ipython3",
   "version": "3.7.3"
  },
  "toc": {
   "base_numbering": 1,
   "nav_menu": {},
   "number_sections": true,
   "sideBar": true,
   "skip_h1_title": false,
   "title_cell": "Table of Contents",
   "title_sidebar": "Contents",
   "toc_cell": false,
   "toc_position": {},
   "toc_section_display": true,
   "toc_window_display": false
  }
 },
 "nbformat": 4,
 "nbformat_minor": 2
}
